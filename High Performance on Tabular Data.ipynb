{
 "cells": [
  {
   "cell_type": "code",
   "execution_count": 1,
   "id": "e06d6e9b",
   "metadata": {},
   "outputs": [],
   "source": [
    "import os\n",
    "import warnings\n",
    "from pathlib import Path\n",
    "\n",
    "import numpy as np\n",
    "import pandas as pd\n",
    "from sklearn.impute import KNNImputer\n",
    "from sklearn.model_selection import train_test_split\n",
    "from sklearn.preprocessing import LabelEncoder\n",
    "\n",
    "warnings.filterwarnings('ignore')"
   ]
  },
  {
   "cell_type": "code",
   "execution_count": 2,
   "id": "cb5452bb",
   "metadata": {},
   "outputs": [],
   "source": [
    "df = pd.read_csv(Path(os.getenv('DATA')) / 'stroke/healthcare-dataset-stroke-data.csv')"
   ]
  },
  {
   "cell_type": "code",
   "execution_count": 3,
   "id": "ffe86e32",
   "metadata": {},
   "outputs": [
    {
     "data": {
      "text/html": [
       "<div>\n",
       "<style scoped>\n",
       "    .dataframe tbody tr th:only-of-type {\n",
       "        vertical-align: middle;\n",
       "    }\n",
       "\n",
       "    .dataframe tbody tr th {\n",
       "        vertical-align: top;\n",
       "    }\n",
       "\n",
       "    .dataframe thead th {\n",
       "        text-align: right;\n",
       "    }\n",
       "</style>\n",
       "<table border=\"1\" class=\"dataframe\">\n",
       "  <thead>\n",
       "    <tr style=\"text-align: right;\">\n",
       "      <th></th>\n",
       "      <th>id</th>\n",
       "      <th>gender</th>\n",
       "      <th>age</th>\n",
       "      <th>hypertension</th>\n",
       "      <th>heart_disease</th>\n",
       "      <th>ever_married</th>\n",
       "      <th>work_type</th>\n",
       "      <th>Residence_type</th>\n",
       "      <th>avg_glucose_level</th>\n",
       "      <th>bmi</th>\n",
       "      <th>smoking_status</th>\n",
       "      <th>stroke</th>\n",
       "    </tr>\n",
       "  </thead>\n",
       "  <tbody>\n",
       "    <tr>\n",
       "      <th>0</th>\n",
       "      <td>9046</td>\n",
       "      <td>Male</td>\n",
       "      <td>67.0</td>\n",
       "      <td>0</td>\n",
       "      <td>1</td>\n",
       "      <td>Yes</td>\n",
       "      <td>Private</td>\n",
       "      <td>Urban</td>\n",
       "      <td>228.69</td>\n",
       "      <td>36.6</td>\n",
       "      <td>formerly smoked</td>\n",
       "      <td>1</td>\n",
       "    </tr>\n",
       "    <tr>\n",
       "      <th>1</th>\n",
       "      <td>51676</td>\n",
       "      <td>Female</td>\n",
       "      <td>61.0</td>\n",
       "      <td>0</td>\n",
       "      <td>0</td>\n",
       "      <td>Yes</td>\n",
       "      <td>Self-employed</td>\n",
       "      <td>Rural</td>\n",
       "      <td>202.21</td>\n",
       "      <td>NaN</td>\n",
       "      <td>never smoked</td>\n",
       "      <td>1</td>\n",
       "    </tr>\n",
       "    <tr>\n",
       "      <th>2</th>\n",
       "      <td>31112</td>\n",
       "      <td>Male</td>\n",
       "      <td>80.0</td>\n",
       "      <td>0</td>\n",
       "      <td>1</td>\n",
       "      <td>Yes</td>\n",
       "      <td>Private</td>\n",
       "      <td>Rural</td>\n",
       "      <td>105.92</td>\n",
       "      <td>32.5</td>\n",
       "      <td>never smoked</td>\n",
       "      <td>1</td>\n",
       "    </tr>\n",
       "    <tr>\n",
       "      <th>3</th>\n",
       "      <td>60182</td>\n",
       "      <td>Female</td>\n",
       "      <td>49.0</td>\n",
       "      <td>0</td>\n",
       "      <td>0</td>\n",
       "      <td>Yes</td>\n",
       "      <td>Private</td>\n",
       "      <td>Urban</td>\n",
       "      <td>171.23</td>\n",
       "      <td>34.4</td>\n",
       "      <td>smokes</td>\n",
       "      <td>1</td>\n",
       "    </tr>\n",
       "    <tr>\n",
       "      <th>4</th>\n",
       "      <td>1665</td>\n",
       "      <td>Female</td>\n",
       "      <td>79.0</td>\n",
       "      <td>1</td>\n",
       "      <td>0</td>\n",
       "      <td>Yes</td>\n",
       "      <td>Self-employed</td>\n",
       "      <td>Rural</td>\n",
       "      <td>174.12</td>\n",
       "      <td>24.0</td>\n",
       "      <td>never smoked</td>\n",
       "      <td>1</td>\n",
       "    </tr>\n",
       "  </tbody>\n",
       "</table>\n",
       "</div>"
      ],
      "text/plain": [
       "      id  gender   age  hypertension  heart_disease ever_married  \\\n",
       "0   9046    Male  67.0             0              1          Yes   \n",
       "1  51676  Female  61.0             0              0          Yes   \n",
       "2  31112    Male  80.0             0              1          Yes   \n",
       "3  60182  Female  49.0             0              0          Yes   \n",
       "4   1665  Female  79.0             1              0          Yes   \n",
       "\n",
       "       work_type Residence_type  avg_glucose_level   bmi   smoking_status  \\\n",
       "0        Private          Urban             228.69  36.6  formerly smoked   \n",
       "1  Self-employed          Rural             202.21   NaN     never smoked   \n",
       "2        Private          Rural             105.92  32.5     never smoked   \n",
       "3        Private          Urban             171.23  34.4           smokes   \n",
       "4  Self-employed          Rural             174.12  24.0     never smoked   \n",
       "\n",
       "   stroke  \n",
       "0       1  \n",
       "1       1  \n",
       "2       1  \n",
       "3       1  \n",
       "4       1  "
      ]
     },
     "execution_count": 3,
     "metadata": {},
     "output_type": "execute_result"
    }
   ],
   "source": [
    "df.head()"
   ]
  },
  {
   "cell_type": "code",
   "execution_count": 4,
   "id": "bbd0fabe",
   "metadata": {},
   "outputs": [
    {
     "name": "stdout",
     "output_type": "stream",
     "text": [
      "<class 'pandas.core.frame.DataFrame'>\n",
      "RangeIndex: 5110 entries, 0 to 5109\n",
      "Data columns (total 12 columns):\n",
      " #   Column             Non-Null Count  Dtype  \n",
      "---  ------             --------------  -----  \n",
      " 0   id                 5110 non-null   int64  \n",
      " 1   gender             5110 non-null   object \n",
      " 2   age                5110 non-null   float64\n",
      " 3   hypertension       5110 non-null   int64  \n",
      " 4   heart_disease      5110 non-null   int64  \n",
      " 5   ever_married       5110 non-null   object \n",
      " 6   work_type          5110 non-null   object \n",
      " 7   Residence_type     5110 non-null   object \n",
      " 8   avg_glucose_level  5110 non-null   float64\n",
      " 9   bmi                4909 non-null   float64\n",
      " 10  smoking_status     5110 non-null   object \n",
      " 11  stroke             5110 non-null   int64  \n",
      "dtypes: float64(3), int64(4), object(5)\n",
      "memory usage: 479.2+ KB\n"
     ]
    }
   ],
   "source": [
    "df.info()"
   ]
  },
  {
   "cell_type": "code",
   "execution_count": 5,
   "id": "c91f7bce",
   "metadata": {},
   "outputs": [],
   "source": [
    "df = df.drop('id', axis=1)"
   ]
  },
  {
   "cell_type": "code",
   "execution_count": 6,
   "id": "14db8101",
   "metadata": {},
   "outputs": [
    {
     "data": {
      "text/plain": [
       "gender                 0\n",
       "age                    0\n",
       "hypertension           0\n",
       "heart_disease          0\n",
       "ever_married           0\n",
       "work_type              0\n",
       "Residence_type         0\n",
       "avg_glucose_level      0\n",
       "bmi                  201\n",
       "smoking_status         0\n",
       "stroke                 0\n",
       "dtype: int64"
      ]
     },
     "execution_count": 6,
     "metadata": {},
     "output_type": "execute_result"
    }
   ],
   "source": [
    "df.isnull().sum()"
   ]
  },
  {
   "cell_type": "code",
   "execution_count": 7,
   "id": "f4c6b51b",
   "metadata": {},
   "outputs": [
    {
     "data": {
      "text/plain": [
       "0    4861\n",
       "1     249\n",
       "Name: stroke, dtype: int64"
      ]
     },
     "execution_count": 7,
     "metadata": {},
     "output_type": "execute_result"
    }
   ],
   "source": [
    "df['stroke'].value_counts()"
   ]
  },
  {
   "cell_type": "markdown",
   "id": "5d0deef5",
   "metadata": {},
   "source": [
    "We have significantly unbalanced data. We'll have to fix this."
   ]
  },
  {
   "cell_type": "code",
   "execution_count": 8,
   "id": "9e092f5c",
   "metadata": {},
   "outputs": [
    {
     "data": {
      "text/html": [
       "<div>\n",
       "<style scoped>\n",
       "    .dataframe tbody tr th:only-of-type {\n",
       "        vertical-align: middle;\n",
       "    }\n",
       "\n",
       "    .dataframe tbody tr th {\n",
       "        vertical-align: top;\n",
       "    }\n",
       "\n",
       "    .dataframe thead th {\n",
       "        text-align: right;\n",
       "    }\n",
       "</style>\n",
       "<table border=\"1\" class=\"dataframe\">\n",
       "  <thead>\n",
       "    <tr style=\"text-align: right;\">\n",
       "      <th></th>\n",
       "      <th>gender</th>\n",
       "      <th>age</th>\n",
       "      <th>hypertension</th>\n",
       "      <th>heart_disease</th>\n",
       "      <th>ever_married</th>\n",
       "      <th>work_type</th>\n",
       "      <th>Residence_type</th>\n",
       "      <th>avg_glucose_level</th>\n",
       "      <th>bmi</th>\n",
       "      <th>smoking_status</th>\n",
       "      <th>stroke</th>\n",
       "    </tr>\n",
       "  </thead>\n",
       "  <tbody>\n",
       "    <tr>\n",
       "      <th>0</th>\n",
       "      <td>1</td>\n",
       "      <td>88</td>\n",
       "      <td>0</td>\n",
       "      <td>1</td>\n",
       "      <td>1</td>\n",
       "      <td>2</td>\n",
       "      <td>1</td>\n",
       "      <td>3850</td>\n",
       "      <td>239</td>\n",
       "      <td>1</td>\n",
       "      <td>1</td>\n",
       "    </tr>\n",
       "    <tr>\n",
       "      <th>1</th>\n",
       "      <td>0</td>\n",
       "      <td>82</td>\n",
       "      <td>0</td>\n",
       "      <td>0</td>\n",
       "      <td>1</td>\n",
       "      <td>3</td>\n",
       "      <td>0</td>\n",
       "      <td>3588</td>\n",
       "      <td>418</td>\n",
       "      <td>2</td>\n",
       "      <td>1</td>\n",
       "    </tr>\n",
       "    <tr>\n",
       "      <th>2</th>\n",
       "      <td>1</td>\n",
       "      <td>101</td>\n",
       "      <td>0</td>\n",
       "      <td>1</td>\n",
       "      <td>1</td>\n",
       "      <td>2</td>\n",
       "      <td>0</td>\n",
       "      <td>2483</td>\n",
       "      <td>198</td>\n",
       "      <td>2</td>\n",
       "      <td>1</td>\n",
       "    </tr>\n",
       "    <tr>\n",
       "      <th>3</th>\n",
       "      <td>0</td>\n",
       "      <td>70</td>\n",
       "      <td>0</td>\n",
       "      <td>0</td>\n",
       "      <td>1</td>\n",
       "      <td>2</td>\n",
       "      <td>1</td>\n",
       "      <td>3385</td>\n",
       "      <td>217</td>\n",
       "      <td>3</td>\n",
       "      <td>1</td>\n",
       "    </tr>\n",
       "    <tr>\n",
       "      <th>4</th>\n",
       "      <td>0</td>\n",
       "      <td>100</td>\n",
       "      <td>1</td>\n",
       "      <td>0</td>\n",
       "      <td>1</td>\n",
       "      <td>3</td>\n",
       "      <td>0</td>\n",
       "      <td>3394</td>\n",
       "      <td>113</td>\n",
       "      <td>2</td>\n",
       "      <td>1</td>\n",
       "    </tr>\n",
       "  </tbody>\n",
       "</table>\n",
       "</div>"
      ],
      "text/plain": [
       "   gender  age  hypertension  heart_disease  ever_married  work_type  \\\n",
       "0       1   88             0              1             1          2   \n",
       "1       0   82             0              0             1          3   \n",
       "2       1  101             0              1             1          2   \n",
       "3       0   70             0              0             1          2   \n",
       "4       0  100             1              0             1          3   \n",
       "\n",
       "   Residence_type  avg_glucose_level  bmi  smoking_status  stroke  \n",
       "0               1               3850  239               1       1  \n",
       "1               0               3588  418               2       1  \n",
       "2               0               2483  198               2       1  \n",
       "3               1               3385  217               3       1  \n",
       "4               0               3394  113               2       1  "
      ]
     },
     "execution_count": 8,
     "metadata": {},
     "output_type": "execute_result"
    }
   ],
   "source": [
    "le = LabelEncoder()\n",
    "en_df = df.apply(le.fit_transform)\n",
    "en_df.head()"
   ]
  },
  {
   "cell_type": "markdown",
   "id": "da55bd39",
   "metadata": {},
   "source": [
    "# Clean up dataset"
   ]
  },
  {
   "cell_type": "code",
   "execution_count": 9,
   "id": "8ab17d02",
   "metadata": {},
   "outputs": [
    {
     "data": {
      "text/plain": [
       "array([[  1.,  88.,   0., ..., 239.,   1.,   1.],\n",
       "       [  0.,  82.,   0., ..., 418.,   2.,   1.],\n",
       "       [  1., 101.,   0., ..., 198.,   2.,   1.],\n",
       "       ...,\n",
       "       [  0.,  56.,   0., ..., 179.,   2.,   0.],\n",
       "       [  1.,  72.,   0., ..., 129.,   1.,   0.],\n",
       "       [  0.,  65.,   0., ..., 135.,   0.,   0.]])"
      ]
     },
     "execution_count": 9,
     "metadata": {},
     "output_type": "execute_result"
    }
   ],
   "source": [
    "en_df_imputed = en_df\n",
    "imputer = KNNImputer(n_neighbors=4, weights=\"uniform\")\n",
    "imputer.fit_transform(en_df_imputed)"
   ]
  },
  {
   "cell_type": "code",
   "execution_count": 10,
   "id": "10214c3f",
   "metadata": {},
   "outputs": [
    {
     "data": {
      "text/plain": [
       "gender               0\n",
       "age                  0\n",
       "hypertension         0\n",
       "heart_disease        0\n",
       "ever_married         0\n",
       "work_type            0\n",
       "Residence_type       0\n",
       "avg_glucose_level    0\n",
       "bmi                  0\n",
       "smoking_status       0\n",
       "stroke               0\n",
       "dtype: int64"
      ]
     },
     "execution_count": 10,
     "metadata": {},
     "output_type": "execute_result"
    }
   ],
   "source": [
    "en_df_imputed.isnull().sum()\n"
   ]
  },
  {
   "cell_type": "code",
   "execution_count": 11,
   "id": "6bdb96bb",
   "metadata": {},
   "outputs": [],
   "source": [
    "features=['gender', 'age', 'hypertension', 'heart_disease', 'ever_married',\n",
    "       'work_type', 'Residence_type',\n",
    "       'smoking_status']"
   ]
  },
  {
   "cell_type": "code",
   "execution_count": 12,
   "id": "a21112cc",
   "metadata": {},
   "outputs": [],
   "source": [
    "from imblearn.over_sampling import SMOTE\n",
    "X, y = en_df_imputed[features], en_df_imputed[\"stroke\"]\n",
    "X_train, X_test, y_train, y_test = train_test_split(X, y, test_size=0.2, random_state=42)\n",
    "sm = SMOTE()\n",
    "X_train, y_train = sm.fit_resample(X_train, y_train)"
   ]
  },
  {
   "cell_type": "markdown",
   "id": "bf826c38",
   "metadata": {},
   "source": [
    "# Modeling"
   ]
  },
  {
   "cell_type": "code",
   "execution_count": 13,
   "id": "b65a8dab",
   "metadata": {},
   "outputs": [],
   "source": [
    "from functools import partial\n",
    "\n",
    "from hyperopt import STATUS_OK, Trials, fmin, hp, space_eval, tpe\n",
    "from hyperopt.pyll.base import scope\n",
    "from hyperopt.pyll.stochastic import sample\n",
    "from sklearn.metrics import accuracy_score, f1_score"
   ]
  },
  {
   "cell_type": "code",
   "execution_count": 14,
   "id": "ef3c6f63",
   "metadata": {},
   "outputs": [],
   "source": [
    "num_trials = 100"
   ]
  },
  {
   "cell_type": "markdown",
   "id": "b0dcff71",
   "metadata": {},
   "source": [
    "## XGBoost"
   ]
  },
  {
   "cell_type": "code",
   "execution_count": 15,
   "id": "5d89d073",
   "metadata": {},
   "outputs": [],
   "source": [
    "from xgboost import XGBClassifier"
   ]
  },
  {
   "cell_type": "code",
   "execution_count": 16,
   "id": "391d19e0",
   "metadata": {},
   "outputs": [],
   "source": [
    "xgb_space={'max_depth': scope.int(hp.quniform(\"max_depth\", 3, 18, 1)),\n",
    "        'gamma': hp.uniform ('gamma', 1,9),\n",
    "        'reg_alpha' : hp.quniform('reg_alpha', 40,180,1),\n",
    "        'reg_lambda' : hp.uniform('reg_lambda', 0,1),\n",
    "        'colsample_bytree' : hp.uniform('colsample_bytree', 0.5,1),\n",
    "        'min_child_weight' : hp.quniform('min_child_weight', 0, 10, 1),\n",
    "        'n_estimators': 180,\n",
    "        'seed': 0\n",
    "    }"
   ]
  },
  {
   "cell_type": "code",
   "execution_count": 17,
   "id": "c242bd5a",
   "metadata": {},
   "outputs": [],
   "source": [
    "def train_clf(clf, params):\n",
    "    clf=clf(**params)\n",
    "    clf.fit(X_train, y_train)\n",
    "    preds = clf.predict(X_test)\n",
    "    accuracy = accuracy_score(y_test, preds>0.5)\n",
    "\n",
    "    return {'loss': -accuracy, 'status': STATUS_OK}"
   ]
  },
  {
   "cell_type": "code",
   "execution_count": 18,
   "id": "04eba73d",
   "metadata": {},
   "outputs": [],
   "source": [
    "def train_xgb(params):\n",
    "    \"\"\"\n",
    "    xgb needs eval_metric or lots of warnings\n",
    "    \"\"\"\n",
    "    clf=XGBClassifier(**params)\n",
    "    clf.fit(X_train, y_train, eval_metric='logloss')\n",
    "    pred = clf.predict(X_test)\n",
    "    accuracy = accuracy_score(y_test, pred>0.5)\n",
    "\n",
    "    return {'loss': -accuracy, 'status': STATUS_OK}"
   ]
  },
  {
   "cell_type": "code",
   "execution_count": 19,
   "id": "3cbfa9ce",
   "metadata": {},
   "outputs": [
    {
     "name": "stdout",
     "output_type": "stream",
     "text": [
      "100%|█████████████████████████████████████████████| 100/100 [00:24<00:00,  4.17trial/s, best loss: -0.7553816046966731]\n"
     ]
    },
    {
     "data": {
      "text/plain": [
       "{'colsample_bytree': 0.680758006639028,\n",
       " 'gamma': 2.3049640504078956,\n",
       " 'max_depth': 10.0,\n",
       " 'min_child_weight': 9.0,\n",
       " 'reg_alpha': 40.0,\n",
       " 'reg_lambda': 0.801884811049699}"
      ]
     },
     "execution_count": 19,
     "metadata": {},
     "output_type": "execute_result"
    }
   ],
   "source": [
    "trials = Trials()\n",
    "\n",
    "fmin(fn = train_xgb,\n",
    "    space = xgb_space,\n",
    "    algo = tpe.suggest,\n",
    "    max_evals = num_trials,\n",
    "    trials = trials)"
   ]
  },
  {
   "cell_type": "code",
   "execution_count": 20,
   "id": "51722dd8",
   "metadata": {},
   "outputs": [],
   "source": [
    "best_hyperparams = space_eval(xgb_space, trials.argmin)"
   ]
  },
  {
   "cell_type": "code",
   "execution_count": 21,
   "id": "4561bc41",
   "metadata": {},
   "outputs": [
    {
     "data": {
      "text/plain": [
       "{'colsample_bytree': 0.680758006639028,\n",
       " 'gamma': 2.3049640504078956,\n",
       " 'max_depth': 10,\n",
       " 'min_child_weight': 9.0,\n",
       " 'n_estimators': 180,\n",
       " 'reg_alpha': 40.0,\n",
       " 'reg_lambda': 0.801884811049699,\n",
       " 'seed': 0}"
      ]
     },
     "execution_count": 21,
     "metadata": {},
     "output_type": "execute_result"
    }
   ],
   "source": [
    "best_hyperparams"
   ]
  },
  {
   "cell_type": "code",
   "execution_count": 22,
   "id": "3c342f7d",
   "metadata": {},
   "outputs": [],
   "source": [
    "xgb_clf = XGBClassifier(**best_hyperparams)"
   ]
  },
  {
   "cell_type": "code",
   "execution_count": 23,
   "id": "4d984cd5",
   "metadata": {},
   "outputs": [
    {
     "name": "stdout",
     "output_type": "stream",
     "text": [
      "[23:24:04] WARNING: C:/Users/Administrator/workspace/xgboost-win64_release_1.5.1/src/learner.cc:1115: Starting in XGBoost 1.3.0, the default evaluation metric used with the objective 'binary:logistic' was changed from 'error' to 'logloss'. Explicitly set eval_metric if you'd like to restore the old behavior.\n"
     ]
    },
    {
     "data": {
      "text/plain": [
       "XGBClassifier(base_score=0.5, booster='gbtree', colsample_bylevel=1,\n",
       "              colsample_bynode=1, colsample_bytree=0.680758006639028,\n",
       "              enable_categorical=False, gamma=2.3049640504078956, gpu_id=-1,\n",
       "              importance_type=None, interaction_constraints='',\n",
       "              learning_rate=0.300000012, max_delta_step=0, max_depth=10,\n",
       "              min_child_weight=9.0, missing=nan, monotone_constraints='()',\n",
       "              n_estimators=180, n_jobs=12, num_parallel_tree=1,\n",
       "              predictor='auto', random_state=0, reg_alpha=40.0,\n",
       "              reg_lambda=0.801884811049699, scale_pos_weight=1, seed=0,\n",
       "              subsample=1, tree_method='exact', validate_parameters=1,\n",
       "              verbosity=None)"
      ]
     },
     "execution_count": 23,
     "metadata": {},
     "output_type": "execute_result"
    }
   ],
   "source": [
    "xgb_clf.fit(X_train, y_train)"
   ]
  },
  {
   "cell_type": "code",
   "execution_count": 24,
   "id": "23d98228",
   "metadata": {},
   "outputs": [],
   "source": [
    "xgb_preds = xgb_clf.predict(X_test)"
   ]
  },
  {
   "cell_type": "code",
   "execution_count": 25,
   "id": "4c38212e",
   "metadata": {},
   "outputs": [
    {
     "data": {
      "text/plain": [
       "0.2378048780487805"
      ]
     },
     "execution_count": 25,
     "metadata": {},
     "output_type": "execute_result"
    }
   ],
   "source": [
    "f1_score(y_test, xgb_preds)"
   ]
  },
  {
   "cell_type": "code",
   "execution_count": 26,
   "id": "0f4eb6b0",
   "metadata": {},
   "outputs": [
    {
     "data": {
      "text/plain": [
       "0.7553816046966731"
      ]
     },
     "execution_count": 26,
     "metadata": {},
     "output_type": "execute_result"
    }
   ],
   "source": [
    "accuracy_score(y_test, xgb_preds)"
   ]
  },
  {
   "cell_type": "markdown",
   "id": "a2e3e8b5",
   "metadata": {},
   "source": [
    "## Random Forest"
   ]
  },
  {
   "cell_type": "code",
   "execution_count": 27,
   "id": "0739b0c6",
   "metadata": {},
   "outputs": [],
   "source": [
    "from sklearn.ensemble import RandomForestClassifier"
   ]
  },
  {
   "cell_type": "code",
   "execution_count": 28,
   "id": "1c9f5dd8",
   "metadata": {},
   "outputs": [],
   "source": [
    "rf_space = {\n",
    "    \"n_estimators\": scope.int(hp.quniform(\"n_estimators\", 100, 600, 50)),\n",
    "    \"max_depth\": hp.quniform(\"max_depth\", 1, 15, 1),\n",
    "    \"criterion\": hp.choice(\"criterion\", [\"gini\", \"entropy\"]),\n",
    "}"
   ]
  },
  {
   "cell_type": "code",
   "execution_count": null,
   "id": "c2e023f3",
   "metadata": {},
   "outputs": [
    {
     "name": "stdout",
     "output_type": "stream",
     "text": [
      " 21%|█████████▋                                    | 21/100 [00:17<01:29,  1.13s/trial, best loss: -0.8463796477495108]"
     ]
    }
   ],
   "source": [
    "trials = Trials()\n",
    "\n",
    "fmin(fn = partial(train_clf, RandomForestClassifier),\n",
    "    space = rf_space,\n",
    "    algo = tpe.suggest,\n",
    "    max_evals = num_trials,\n",
    "    trials = trials)"
   ]
  },
  {
   "cell_type": "code",
   "execution_count": null,
   "id": "552f6964",
   "metadata": {},
   "outputs": [],
   "source": [
    "rf_best_hyperparams = space_eval(rf_space, trials.argmin)"
   ]
  },
  {
   "cell_type": "code",
   "execution_count": null,
   "id": "89a5c1c8",
   "metadata": {},
   "outputs": [],
   "source": [
    "rf_best_hyperparams"
   ]
  },
  {
   "cell_type": "code",
   "execution_count": null,
   "id": "1cfbce63",
   "metadata": {},
   "outputs": [],
   "source": [
    "rf_clf = RandomForestClassifier(**rf_best_hyperparams)"
   ]
  },
  {
   "cell_type": "code",
   "execution_count": null,
   "id": "6c0f12e2",
   "metadata": {},
   "outputs": [],
   "source": [
    "rf_clf.fit(X_train, y_train)"
   ]
  },
  {
   "cell_type": "code",
   "execution_count": null,
   "id": "758663ef",
   "metadata": {},
   "outputs": [],
   "source": [
    "rf_preds = rf_clf.predict(X_test)"
   ]
  },
  {
   "cell_type": "code",
   "execution_count": null,
   "id": "c797c484",
   "metadata": {},
   "outputs": [],
   "source": [
    "f1_score(y_test, rf_preds)"
   ]
  },
  {
   "cell_type": "code",
   "execution_count": null,
   "id": "21ec5fcc",
   "metadata": {},
   "outputs": [],
   "source": [
    "accuracy_score(y_test, rf_preds)"
   ]
  },
  {
   "cell_type": "markdown",
   "id": "d8801b20",
   "metadata": {},
   "source": [
    "## Ensembling"
   ]
  },
  {
   "cell_type": "markdown",
   "id": "03d1226e",
   "metadata": {},
   "source": [
    "Some of these models are already ensemble models. But who says you can't ensemble ensemble models? No one that I'm currently listening to!"
   ]
  },
  {
   "cell_type": "markdown",
   "id": "bccb4872",
   "metadata": {},
   "source": [
    "#### Averaging"
   ]
  },
  {
   "cell_type": "code",
   "execution_count": null,
   "id": "4eb69721",
   "metadata": {},
   "outputs": [],
   "source": [
    "xgb_preds + rf_preds"
   ]
  },
  {
   "cell_type": "markdown",
   "id": "02cace7d",
   "metadata": {},
   "source": [
    "#### Voting"
   ]
  },
  {
   "cell_type": "code",
   "execution_count": null,
   "id": "1637ca13",
   "metadata": {},
   "outputs": [],
   "source": [
    "from sklearn.ensemble import VotingClassifier"
   ]
  },
  {
   "cell_type": "code",
   "execution_count": null,
   "id": "578424e4",
   "metadata": {},
   "outputs": [],
   "source": [
    "clfs = [('xbg', xgb_clf), ('rf', rf_clf)]\n",
    "ensemble = VotingClassifier(clfs, voting='hard')"
   ]
  },
  {
   "cell_type": "code",
   "execution_count": null,
   "id": "2119bc0c",
   "metadata": {},
   "outputs": [],
   "source": [
    "ensemble.fit(X_train, y_train)"
   ]
  },
  {
   "cell_type": "code",
   "execution_count": null,
   "id": "1c369562",
   "metadata": {},
   "outputs": [],
   "source": [
    "ensemble_preds = ensemble.predict(X_test)"
   ]
  },
  {
   "cell_type": "code",
   "execution_count": null,
   "id": "18ac7c70",
   "metadata": {},
   "outputs": [],
   "source": [
    "f1_score(ensemble_preds, y_test)"
   ]
  },
  {
   "cell_type": "code",
   "execution_count": null,
   "id": "84b24193",
   "metadata": {},
   "outputs": [],
   "source": [
    "accuracy_score(ensemble.predict(X_test), y_test)"
   ]
  },
  {
   "cell_type": "code",
   "execution_count": null,
   "id": "b905821c",
   "metadata": {},
   "outputs": [],
   "source": []
  }
 ],
 "metadata": {
  "kernelspec": {
   "display_name": "pt",
   "language": "python",
   "name": "pt"
  },
  "language_info": {
   "codemirror_mode": {
    "name": "ipython",
    "version": 3
   },
   "file_extension": ".py",
   "mimetype": "text/x-python",
   "name": "python",
   "nbconvert_exporter": "python",
   "pygments_lexer": "ipython3",
   "version": "3.8.12"
  }
 },
 "nbformat": 4,
 "nbformat_minor": 5
}
