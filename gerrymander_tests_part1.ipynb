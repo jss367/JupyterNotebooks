{
 "cells": [
  {
   "cell_type": "code",
   "execution_count": null,
   "metadata": {
    "collapsed": true,
    "deletable": true,
    "editable": true
   },
   "outputs": [],
   "source": [
    "'''\n",
    "The Matlab code has two different uses. One is for the website and the other is to feed the script manually. By setting \n",
    "year to 0, you can run this code with a \"made up\" state. In this case state is made to match the result from read_result\n",
    "The second case is when you have an actual year and state of interest. That's what I'll be focusing on getting working first\n",
    "(the case when year != 0).\n",
    "\n",
    "p1 of the Matlab code is the probability, and it's the main thing that's being calculated\n",
    "'''"
   ]
  },
  {
   "cell_type": "code",
   "execution_count": 1,
   "metadata": {
    "collapsed": true,
    "deletable": true,
    "editable": true
   },
   "outputs": [],
   "source": [
    "from statistics import mean\n",
    "from scipy import stats"
   ]
  },
  {
   "cell_type": "code",
   "execution_count": 2,
   "metadata": {
    "collapsed": false,
    "deletable": true,
    "editable": true
   },
   "outputs": [
    {
     "name": "stdout",
     "output_type": "stream",
     "text": [
      "Starting\n"
     ]
    }
   ],
   "source": [
    "print(\"Starting\")"
   ]
  },
  {
   "cell_type": "code",
   "execution_count": 5,
   "metadata": {
    "collapsed": true,
    "deletable": true,
    "editable": true
   },
   "outputs": [],
   "source": [
    "# Here's some dummy data to start building with\n",
    "#year is any integer (1898-2014) [must be even number]\n",
    "year = 1988\n",
    "states = [4,7]\n",
    "imputeduncontested=0.35\n",
    "#year_baseline - which year's national result are you comparing against (force to be equal to variable year for now)\n",
    "year_baseline = year\n",
    "state_baseline = [1]"
   ]
  },
  {
   "cell_type": "code",
   "execution_count": 6,
   "metadata": {
    "collapsed": false,
    "deletable": true,
    "editable": true
   },
   "outputs": [
    {
     "name": "stdout",
     "output_type": "stream",
     "text": [
      "Parameters: year=1988 states=[4, 7] yearbaseline=1988  statebaseline=[1]\n"
     ]
    }
   ],
   "source": [
    "print('Parameters: year={year} states={states} yearbaseline={year_baseline}  \\\n",
    "statebaseline={state_baseline}'.format(year=year,states=states,year_baseline=year_baseline, state_baseline=state_baseline))"
   ]
  },
  {
   "cell_type": "code",
   "execution_count": 7,
   "metadata": {
    "collapsed": true,
    "deletable": true,
    "editable": true
   },
   "outputs": [],
   "source": [
    "import pandas as pd\n",
    "def read_results(year, states):\n",
    "    # Let's read the csv file into a pandas dataframe\n",
    "    df = pd.read_csv('House_1898_2014_voteshares_notext.csv', header = None)\n",
    "    # Let's name the columns\n",
    "    df.columns = ['Year', 'State', 'District', 'D_voteshare', 'Incumbent', 'Winner']\n",
    "    # We'll only extract those with the correct year\n",
    "    year_df = df[df['Year'] == year]\n",
    "    # Now we'll just take the values with the correct states\n",
    "    result = year_df[year_df['State'].isin(states)]\n",
    "    # Drop the 'Year' column from the dataframe\n",
    "    del result['Year']\n",
    "    # Return the remaining dataframe\n",
    "    return result"
   ]
  },
  {
   "cell_type": "code",
   "execution_count": 8,
   "metadata": {
    "collapsed": true,
    "deletable": true,
    "editable": true
   },
   "outputs": [],
   "source": [
    "def state_name(state_number):\n",
    "    statelist = ['AL', 'AK', 'AZ', 'AR', 'CA', 'CO', 'CT', 'DE', 'FL', 'GA', 'HI', 'ID', 'IL', 'IN', 'IA',\n",
    "                 'KS', 'KY', 'LA', 'ME', 'MD', 'MA', 'MI', 'MN', 'MS', 'MO', 'MT', 'NV', 'NH', 'NJ', 'NM',\n",
    "                 'NY', 'NC', 'ND', 'OH', 'OK', 'OR', 'PA', 'RI', 'SC', 'SD', 'TN', 'TX', 'UT', 'VT', 'VA',\n",
    "                 'WA', 'WV', 'WI', 'WY']\n",
    "\n",
    "    if state_number > 0 and state_number < 51:\n",
    "        # The input is valid\n",
    "        # The minus one is to make the IO match Matlab\n",
    "        return(statelist[state_number - 1])\n",
    "    else:\n",
    "        # The input is not valid\n",
    "        print(\"Please enter a state number between 1 and 50\")"
   ]
  },
  {
   "cell_type": "code",
   "execution_count": 9,
   "metadata": {
    "collapsed": false,
    "deletable": true,
    "editable": true
   },
   "outputs": [],
   "source": [
    "statedata = read_results(year, states)\n",
    "nationaldata=read_results(yearbaseline,statebaseline)"
   ]
  },
  {
   "cell_type": "code",
   "execution_count": 10,
   "metadata": {
    "collapsed": false,
    "deletable": true,
    "editable": true
   },
   "outputs": [
    {
     "data": {
      "text/html": [
       "<div>\n",
       "<table border=\"1\" class=\"dataframe\">\n",
       "  <thead>\n",
       "    <tr style=\"text-align: right;\">\n",
       "      <th></th>\n",
       "      <th>State</th>\n",
       "      <th>District</th>\n",
       "      <th>D_voteshare</th>\n",
       "      <th>Incumbent</th>\n",
       "      <th>Winner</th>\n",
       "    </tr>\n",
       "  </thead>\n",
       "  <tbody>\n",
       "    <tr>\n",
       "      <th>15505</th>\n",
       "      <td>4</td>\n",
       "      <td>1</td>\n",
       "      <td>1.000000</td>\n",
       "      <td>-1000</td>\n",
       "      <td>1</td>\n",
       "    </tr>\n",
       "    <tr>\n",
       "      <th>15506</th>\n",
       "      <td>4</td>\n",
       "      <td>2</td>\n",
       "      <td>0.834580</td>\n",
       "      <td>-1000</td>\n",
       "      <td>1</td>\n",
       "    </tr>\n",
       "    <tr>\n",
       "      <th>15507</th>\n",
       "      <td>4</td>\n",
       "      <td>3</td>\n",
       "      <td>0.253094</td>\n",
       "      <td>-1000</td>\n",
       "      <td>-1</td>\n",
       "    </tr>\n",
       "    <tr>\n",
       "      <th>15508</th>\n",
       "      <td>4</td>\n",
       "      <td>4</td>\n",
       "      <td>0.691942</td>\n",
       "      <td>-1000</td>\n",
       "      <td>1</td>\n",
       "    </tr>\n",
       "    <tr>\n",
       "      <th>16814</th>\n",
       "      <td>7</td>\n",
       "      <td>1</td>\n",
       "      <td>0.772443</td>\n",
       "      <td>-1000</td>\n",
       "      <td>1</td>\n",
       "    </tr>\n",
       "  </tbody>\n",
       "</table>\n",
       "</div>"
      ],
      "text/plain": [
       "       State  District  D_voteshare  Incumbent  Winner\n",
       "15505      4         1     1.000000      -1000       1\n",
       "15506      4         2     0.834580      -1000       1\n",
       "15507      4         3     0.253094      -1000      -1\n",
       "15508      4         4     0.691942      -1000       1\n",
       "16814      7         1     0.772443      -1000       1"
      ]
     },
     "execution_count": 10,
     "metadata": {},
     "output_type": "execute_result"
    }
   ],
   "source": [
    "statedata.head()"
   ]
  },
  {
   "cell_type": "code",
   "execution_count": 11,
   "metadata": {
    "collapsed": false,
    "deletable": true,
    "editable": true
   },
   "outputs": [],
   "source": [
    "stateraw = statedata['D_voteshare'] # I'm thinking he's looking for D_voteshare\n",
    "nationalraw = nationaldata['D_voteshare']"
   ]
  },
  {
   "cell_type": "code",
   "execution_count": 12,
   "metadata": {
    "collapsed": false,
    "deletable": true,
    "editable": true
   },
   "outputs": [],
   "source": [
    "statename = [state_name(state) for state in states]"
   ]
  },
  {
   "cell_type": "code",
   "execution_count": 13,
   "metadata": {
    "collapsed": false,
    "deletable": true,
    "editable": true
   },
   "outputs": [],
   "source": [
    "electionmessage = 'U.S. House election of ' + str(year) + ' in ' + str(statename)"
   ]
  },
  {
   "cell_type": "code",
   "execution_count": 14,
   "metadata": {
    "collapsed": false,
    "deletable": true,
    "editable": true
   },
   "outputs": [
    {
     "name": "stderr",
     "output_type": "stream",
     "text": [
      "C:\\Users\\HMGSYS\\Anaconda3\\lib\\site-packages\\ipykernel\\__main__.py:17: SettingWithCopyWarning: \n",
      "A value is trying to be set on a copy of a slice from a DataFrame\n",
      "\n",
      "See the caveats in the documentation: http://pandas.pydata.org/pandas-docs/stable/indexing.html#indexing-view-versus-copy\n",
      "C:\\Users\\HMGSYS\\Anaconda3\\lib\\site-packages\\ipykernel\\__main__.py:21: SettingWithCopyWarning: \n",
      "A value is trying to be set on a copy of a slice from a DataFrame\n",
      "\n",
      "See the caveats in the documentation: http://pandas.pydata.org/pandas-docs/stable/indexing.html#indexing-view-versus-copy\n"
     ]
    }
   ],
   "source": [
    "N_delegates=len(stateraw) \n",
    "D_districts=stateraw[stateraw>=0.5]\n",
    "R_districts=stateraw[stateraw<0.5]\n",
    "N_D=len(D_districts); \n",
    "N_R=N_delegates-N_D;\n",
    "\n",
    "# Let's round stateraw to 5 digits to for the 1.00000's to 1\n",
    "rounded_stateraw = [round(state,5) for state in stateraw]\n",
    "anyimputed = 0 in rounded_stateraw or 1 in rounded_stateraw\n",
    "imputeduncontested=min(imputeduncontested,1)\n",
    "imputeduncontested=max(imputeduncontested,0)\n",
    "imputedfloor=min(imputeduncontested,1-imputeduncontested)\n",
    "\n",
    "stateresults=stateraw\n",
    "# Turn all the 0's in stateresults into whatever number the imputed floor is\n",
    "stateresults[stateresults==0] = imputedfloor\n",
    "stateresults[stateresults==1] = 1-imputedfloor # Setting value on a copy, gives a warning\n",
    "\n",
    "nationalresults=nationalraw\n",
    "nationalresults[nationalresults==0] = imputedfloor\n",
    "nationalresults[nationalresults==1] = 1-imputedfloor\n",
    "\n",
    "D_mean_raw=mean(stateraw)\n",
    "R_mean_raw=1-D_mean_raw\n",
    "D_mean=mean(stateresults)\n",
    "R_mean=1-D_mean"
   ]
  },
  {
   "cell_type": "code",
   "execution_count": 15,
   "metadata": {
    "collapsed": false,
    "deletable": true,
    "editable": true
   },
   "outputs": [
    {
     "name": "stdout",
     "output_type": "stream",
     "text": [
      "6.86549474686\n",
      "0.000128948297351\n"
     ]
    }
   ],
   "source": [
    "if N_D>=2 and N_R>=2:\n",
    "    [t_stat, p_value] = stats.ttest_ind(D_districts, R_districts)\n",
    "    print(t_stat)\n",
    "    print(p_value)"
   ]
  },
  {
   "cell_type": "code",
   "execution_count": null,
   "metadata": {
    "collapsed": true,
    "deletable": true,
    "editable": true
   },
   "outputs": [],
   "source": []
  },
  {
   "cell_type": "code",
   "execution_count": null,
   "metadata": {
    "collapsed": true,
    "deletable": true,
    "editable": true
   },
   "outputs": [],
   "source": []
  }
 ],
 "metadata": {
  "kernelspec": {
   "display_name": "Python [default]",
   "language": "python",
   "name": "python3"
  },
  "language_info": {
   "codemirror_mode": {
    "name": "ipython",
    "version": 3
   },
   "file_extension": ".py",
   "mimetype": "text/x-python",
   "name": "python",
   "nbconvert_exporter": "python",
   "pygments_lexer": "ipython3",
   "version": "3.5.2"
  }
 },
 "nbformat": 4,
 "nbformat_minor": 2
}
