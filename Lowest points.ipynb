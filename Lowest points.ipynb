{
 "cells": [
  {
   "cell_type": "markdown",
   "metadata": {
    "deletable": true,
    "editable": true
   },
   "source": [
    "Let's explore the response to the Gallup question, \"Do you approve or disapprove of the way [first & last name] is handling his job as President?\""
   ]
  },
  {
   "cell_type": "code",
   "execution_count": 143,
   "metadata": {
    "collapsed": false,
    "deletable": true,
    "editable": true
   },
   "outputs": [],
   "source": [
    "# Here are the imports that we'll use throughout this notebook\n",
    "import os\n",
    "import pandas as pd\n",
    "from datetime import datetime\n",
    "from collections import Counter\n",
    "import matplotlib.patches as mpatches\n",
    "import matplotlib.pyplot as plt\n",
    "from matplotlib import font_manager as fm\n",
    "%matplotlib inline"
   ]
  },
  {
   "cell_type": "code",
   "execution_count": 144,
   "metadata": {
    "collapsed": false,
    "deletable": true,
    "editable": true
   },
   "outputs": [],
   "source": [
    "'''\n",
    "Here's the path to all the data. The data were copied from http://www.presidency.ucsb.edu/data/popularity.php and saved as tsv\n",
    "files.\n",
    "\n",
    "'''\n",
    "djt_path = os.getcwd() + '/data/djt.tsv'\n",
    "bho_path = os.getcwd() + '/data/bho.tsv'\n",
    "gwb_path = os.getcwd() + '/data/gwb.tsv'\n",
    "wjc_path = os.getcwd() + '/data/wjc.tsv'\n",
    "ghwb_path = os.getcwd() + '/data/ghwb.tsv'\n",
    "rwr_path = os.getcwd() + '/data/rwr.tsv'\n",
    "jec_path = os.getcwd() + '/data/jec.tsv'\n",
    "grf_path = os.getcwd() + '/data/grf.tsv'\n",
    "rmn_path = os.getcwd() + '/data/rmn.tsv'\n",
    "lbj_path = os.getcwd() + '/data/lbj.tsv'\n",
    "jfk_path = os.getcwd() + '/data/jfk.tsv'\n",
    "dde_path = os.getcwd() + '/data/dde.tsv'\n",
    "hst_path = os.getcwd() + '/data/hst.tsv'"
   ]
  },
  {
   "cell_type": "code",
   "execution_count": 145,
   "metadata": {
    "collapsed": false,
    "deletable": true,
    "editable": true
   },
   "outputs": [],
   "source": [
    "# Now let's read in all the data\n",
    "djt = pd.read_table(djt_path)\n",
    "bho = pd.read_table(bho_path)\n",
    "gwb = pd.read_table(gwb_path)\n",
    "wjc = pd.read_table(wjc_path)\n",
    "ghwb = pd.read_table(ghwb_path)\n",
    "rwr = pd.read_table(rwr_path)\n",
    "jec = pd.read_table(jec_path)\n",
    "grf = pd.read_table(grf_path)\n",
    "rmn = pd.read_table(rmn_path)\n",
    "lbj = pd.read_table(lbj_path)\n",
    "jfk = pd.read_table(jfk_path)\n",
    "dde = pd.read_table(dde_path)\n",
    "hst = pd.read_table(hst_path)\n",
    "# The first Gallup poll for this question was on 07/22/1941, which was in FDR's third term, so FDR has not been included."
   ]
  },
  {
   "cell_type": "code",
   "execution_count": 146,
   "metadata": {
    "collapsed": false,
    "deletable": true,
    "editable": true,
    "scrolled": true
   },
   "outputs": [
    {
     "data": {
      "text/html": [
       "<div>\n",
       "<table border=\"1\" class=\"dataframe\">\n",
       "  <thead>\n",
       "    <tr style=\"text-align: right;\">\n",
       "      <th></th>\n",
       "      <th>President</th>\n",
       "      <th>Start Date</th>\n",
       "      <th>End Date</th>\n",
       "      <th>Unnamed: 3</th>\n",
       "      <th>Approving</th>\n",
       "      <th>Disapproving</th>\n",
       "      <th>unsure/no data</th>\n",
       "    </tr>\n",
       "  </thead>\n",
       "  <tbody>\n",
       "    <tr>\n",
       "      <th>0</th>\n",
       "      <td>Donald J. Trump</td>\n",
       "      <td>04/04/2017</td>\n",
       "      <td>04/06/2017</td>\n",
       "      <td>NaN</td>\n",
       "      <td>40</td>\n",
       "      <td>54</td>\n",
       "      <td>6</td>\n",
       "    </tr>\n",
       "    <tr>\n",
       "      <th>1</th>\n",
       "      <td></td>\n",
       "      <td>04/03/2017</td>\n",
       "      <td>04/05/2017</td>\n",
       "      <td>NaN</td>\n",
       "      <td>41</td>\n",
       "      <td>53</td>\n",
       "      <td>6</td>\n",
       "    </tr>\n",
       "    <tr>\n",
       "      <th>2</th>\n",
       "      <td></td>\n",
       "      <td>04/02/2017</td>\n",
       "      <td>04/04/2017</td>\n",
       "      <td>NaN</td>\n",
       "      <td>42</td>\n",
       "      <td>52</td>\n",
       "      <td>6</td>\n",
       "    </tr>\n",
       "    <tr>\n",
       "      <th>3</th>\n",
       "      <td></td>\n",
       "      <td>04/01/2017</td>\n",
       "      <td>04/03/2017</td>\n",
       "      <td>NaN</td>\n",
       "      <td>39</td>\n",
       "      <td>55</td>\n",
       "      <td>6</td>\n",
       "    </tr>\n",
       "    <tr>\n",
       "      <th>4</th>\n",
       "      <td></td>\n",
       "      <td>03/31/2017</td>\n",
       "      <td>04/02/2017</td>\n",
       "      <td>NaN</td>\n",
       "      <td>38</td>\n",
       "      <td>57</td>\n",
       "      <td>5</td>\n",
       "    </tr>\n",
       "  </tbody>\n",
       "</table>\n",
       "</div>"
      ],
      "text/plain": [
       "         President  Start Date    End Date  Unnamed: 3  Approving  \\\n",
       "0  Donald J. Trump  04/04/2017  04/06/2017         NaN         40   \n",
       "1                   04/03/2017  04/05/2017         NaN         41   \n",
       "2                   04/02/2017  04/04/2017         NaN         42   \n",
       "3                   04/01/2017  04/03/2017         NaN         39   \n",
       "4                   03/31/2017  04/02/2017         NaN         38   \n",
       "\n",
       "   Disapproving  unsure/no data  \n",
       "0            54               6  \n",
       "1            53               6  \n",
       "2            52               6  \n",
       "3            55               6  \n",
       "4            57               5  "
      ]
     },
     "execution_count": 146,
     "metadata": {},
     "output_type": "execute_result"
    }
   ],
   "source": [
    "#Let's take a look at Trump's data to see what we've got\n",
    "djt.head()"
   ]
  },
  {
   "cell_type": "code",
   "execution_count": 147,
   "metadata": {
    "collapsed": false,
    "deletable": true,
    "editable": true
   },
   "outputs": [
    {
     "data": {
      "text/plain": [
       "Index(['President', 'Start Date', 'End Date', 'Unnamed: 3', 'Approving',\n",
       "       'Disapproving', 'unsure/no data'],\n",
       "      dtype='object')"
      ]
     },
     "execution_count": 147,
     "metadata": {},
     "output_type": "execute_result"
    }
   ],
   "source": [
    "'''OK, looks like we have some DataFrame cleaning to do. The President column is empty except for the first column, so let's\n",
    "get rid of that. Also, Unnamed\" 3 isn't very interesting, so we'll delete that.\n",
    "\n",
    "'''\n",
    "# Let's get all the columns names (it helps to view them directly because sometimes there are hidden extra spaces)\n",
    "djt.columns"
   ]
  },
  {
   "cell_type": "code",
   "execution_count": 148,
   "metadata": {
    "collapsed": true,
    "deletable": true,
    "editable": true
   },
   "outputs": [],
   "source": [
    "# Let's make a list of all the presidents\n",
    "presidents = [djt, bho, gwb, wjc, ghwb, rwr, jec, grf, rmn, lbj, jfk, dde, hst]\n",
    "\n",
    "# And we'll need a list of their names\n",
    "president_names = [\"Donald Trump\", \"Barack Obama\", \"George W. Bush\", \"Bill Clinton\", \"George H.W. Bush\", \"Ronald Reagan\",\n",
    "                  \"Jimmy Carter\", \"Gerald Ford\", \"Richard Nixon\", \"Lyndon Johnson\", \"John F. Kennedy\", \"Dwight Eisenhower\",\n",
    "                  \"Harry Truman\"]"
   ]
  },
  {
   "cell_type": "code",
   "execution_count": 149,
   "metadata": {
    "collapsed": false,
    "deletable": true,
    "editable": true
   },
   "outputs": [],
   "source": [
    "# There are extra columns in the dataframe that we won't use, so let's remove them\n",
    "for x in range(len(presidents)):\n",
    "    del presidents[x]['President']\n",
    "    del presidents[x]['Unnamed: 3']"
   ]
  },
  {
   "cell_type": "code",
   "execution_count": 150,
   "metadata": {
    "collapsed": false,
    "deletable": true,
    "editable": true
   },
   "outputs": [
    {
     "data": {
      "text/html": [
       "<div>\n",
       "<table border=\"1\" class=\"dataframe\">\n",
       "  <thead>\n",
       "    <tr style=\"text-align: right;\">\n",
       "      <th></th>\n",
       "      <th>Start Date</th>\n",
       "      <th>End Date</th>\n",
       "      <th>Approving</th>\n",
       "      <th>Disapproving</th>\n",
       "      <th>unsure/no data</th>\n",
       "    </tr>\n",
       "  </thead>\n",
       "  <tbody>\n",
       "    <tr>\n",
       "      <th>0</th>\n",
       "      <td>04/04/2017</td>\n",
       "      <td>04/06/2017</td>\n",
       "      <td>40</td>\n",
       "      <td>54</td>\n",
       "      <td>6</td>\n",
       "    </tr>\n",
       "    <tr>\n",
       "      <th>1</th>\n",
       "      <td>04/03/2017</td>\n",
       "      <td>04/05/2017</td>\n",
       "      <td>41</td>\n",
       "      <td>53</td>\n",
       "      <td>6</td>\n",
       "    </tr>\n",
       "    <tr>\n",
       "      <th>2</th>\n",
       "      <td>04/02/2017</td>\n",
       "      <td>04/04/2017</td>\n",
       "      <td>42</td>\n",
       "      <td>52</td>\n",
       "      <td>6</td>\n",
       "    </tr>\n",
       "    <tr>\n",
       "      <th>3</th>\n",
       "      <td>04/01/2017</td>\n",
       "      <td>04/03/2017</td>\n",
       "      <td>39</td>\n",
       "      <td>55</td>\n",
       "      <td>6</td>\n",
       "    </tr>\n",
       "    <tr>\n",
       "      <th>4</th>\n",
       "      <td>03/31/2017</td>\n",
       "      <td>04/02/2017</td>\n",
       "      <td>38</td>\n",
       "      <td>57</td>\n",
       "      <td>5</td>\n",
       "    </tr>\n",
       "  </tbody>\n",
       "</table>\n",
       "</div>"
      ],
      "text/plain": [
       "   Start Date    End Date  Approving  Disapproving  unsure/no data\n",
       "0  04/04/2017  04/06/2017         40            54               6\n",
       "1  04/03/2017  04/05/2017         41            53               6\n",
       "2  04/02/2017  04/04/2017         42            52               6\n",
       "3  04/01/2017  04/03/2017         39            55               6\n",
       "4  03/31/2017  04/02/2017         38            57               5"
      ]
     },
     "execution_count": 150,
     "metadata": {},
     "output_type": "execute_result"
    }
   ],
   "source": [
    "# OK, let's see what we've got\n",
    "djt.head()"
   ]
  },
  {
   "cell_type": "code",
   "execution_count": 151,
   "metadata": {
    "collapsed": true,
    "deletable": true,
    "editable": true
   },
   "outputs": [],
   "source": [
    "# We'll need their inauguration dates\n",
    "inauguration_dates = ['01/20/2017', '01/20/2009', '01/20/2001', '01/20/1993', '01/20/1989', '01/20/1981',\n",
    "                      '01/20/1977', '08/09/1974', '01/20/1969', '11/22/1963', '01/20/1961', '01/20/1953', '04/12/1945', ]"
   ]
  },
  {
   "cell_type": "code",
   "execution_count": 152,
   "metadata": {
    "collapsed": true,
    "deletable": true,
    "editable": true
   },
   "outputs": [],
   "source": [
    "# Now let's add a column that contains the number of days into their administration\n",
    "\n",
    "# We'll need a helper function to make the dates easier to work with\n",
    "def conv(date):\n",
    "    return datetime.strptime(date, '%m/%d/%Y')"
   ]
  },
  {
   "cell_type": "code",
   "execution_count": 153,
   "metadata": {
    "collapsed": false,
    "deletable": true,
    "editable": true
   },
   "outputs": [],
   "source": [
    "# Let's find how many days into the administration each poll represents\n",
    "for x in range(len(presidents)):\n",
    "    presidents[x]['time_in_admin'] = presidents[x]['Start Date'].apply(conv)- conv(inauguration_dates[x])\n",
    "    # Now let's extract the actual value\n",
    "    presidents[x]['days_in_admin'] = presidents[x]['time_in_admin'].apply(lambda row: row.days)"
   ]
  },
  {
   "cell_type": "code",
   "execution_count": 154,
   "metadata": {
    "collapsed": false,
    "deletable": true,
    "editable": true
   },
   "outputs": [
    {
     "data": {
      "text/html": [
       "<div>\n",
       "<table border=\"1\" class=\"dataframe\">\n",
       "  <thead>\n",
       "    <tr style=\"text-align: right;\">\n",
       "      <th></th>\n",
       "      <th>Start Date</th>\n",
       "      <th>End Date</th>\n",
       "      <th>Approving</th>\n",
       "      <th>Disapproving</th>\n",
       "      <th>unsure/no data</th>\n",
       "      <th>time_in_admin</th>\n",
       "      <th>days_in_admin</th>\n",
       "    </tr>\n",
       "  </thead>\n",
       "  <tbody>\n",
       "    <tr>\n",
       "      <th>0</th>\n",
       "      <td>04/04/2017</td>\n",
       "      <td>04/06/2017</td>\n",
       "      <td>40</td>\n",
       "      <td>54</td>\n",
       "      <td>6</td>\n",
       "      <td>74 days</td>\n",
       "      <td>74</td>\n",
       "    </tr>\n",
       "    <tr>\n",
       "      <th>1</th>\n",
       "      <td>04/03/2017</td>\n",
       "      <td>04/05/2017</td>\n",
       "      <td>41</td>\n",
       "      <td>53</td>\n",
       "      <td>6</td>\n",
       "      <td>73 days</td>\n",
       "      <td>73</td>\n",
       "    </tr>\n",
       "    <tr>\n",
       "      <th>2</th>\n",
       "      <td>04/02/2017</td>\n",
       "      <td>04/04/2017</td>\n",
       "      <td>42</td>\n",
       "      <td>52</td>\n",
       "      <td>6</td>\n",
       "      <td>72 days</td>\n",
       "      <td>72</td>\n",
       "    </tr>\n",
       "    <tr>\n",
       "      <th>3</th>\n",
       "      <td>04/01/2017</td>\n",
       "      <td>04/03/2017</td>\n",
       "      <td>39</td>\n",
       "      <td>55</td>\n",
       "      <td>6</td>\n",
       "      <td>71 days</td>\n",
       "      <td>71</td>\n",
       "    </tr>\n",
       "    <tr>\n",
       "      <th>4</th>\n",
       "      <td>03/31/2017</td>\n",
       "      <td>04/02/2017</td>\n",
       "      <td>38</td>\n",
       "      <td>57</td>\n",
       "      <td>5</td>\n",
       "      <td>70 days</td>\n",
       "      <td>70</td>\n",
       "    </tr>\n",
       "  </tbody>\n",
       "</table>\n",
       "</div>"
      ],
      "text/plain": [
       "   Start Date    End Date  Approving  Disapproving  unsure/no data  \\\n",
       "0  04/04/2017  04/06/2017         40            54               6   \n",
       "1  04/03/2017  04/05/2017         41            53               6   \n",
       "2  04/02/2017  04/04/2017         42            52               6   \n",
       "3  04/01/2017  04/03/2017         39            55               6   \n",
       "4  03/31/2017  04/02/2017         38            57               5   \n",
       "\n",
       "   time_in_admin  days_in_admin  \n",
       "0        74 days             74  \n",
       "1        73 days             73  \n",
       "2        72 days             72  \n",
       "3        71 days             71  \n",
       "4        70 days             70  "
      ]
     },
     "execution_count": 154,
     "metadata": {},
     "output_type": "execute_result"
    }
   ],
   "source": [
    "djt.head()"
   ]
  },
  {
   "cell_type": "code",
   "execution_count": 155,
   "metadata": {
    "collapsed": true,
    "deletable": true,
    "editable": true
   },
   "outputs": [],
   "source": [
    "# Polls are not conducted every day. Let's build a function to find the most recent poll numbers for a\n",
    "# given day if there are no poll number for that day.\n",
    "\n",
    "def find_closest_date(array, value):\n",
    "    '''this function could be improved greatly'''\n",
    "    for x in range(len(array)):\n",
    "        if array[x] <= value:\n",
    "            # We want to return x, but we want to make sure there are more\n",
    "            # polls\n",
    "            if x == 0:\n",
    "                # Only return the value if it is exact\n",
    "                if array[x] == value:\n",
    "                    return x\n",
    "                else:\n",
    "                    break\n",
    "            return x"
   ]
  },
  {
   "cell_type": "code",
   "execution_count": 156,
   "metadata": {
    "collapsed": false,
    "deletable": true,
    "editable": true
   },
   "outputs": [],
   "source": [
    "# OK, build a function that extracts the minimum and maximum approval rating from a list of all presidents\n",
    "# Note that I'm not actually using the max part here\n",
    "\n",
    "def get_min_max(day):\n",
    "    min_approval = 100 # Set values that will easily be beaten\n",
    "    max_approval = 0\n",
    "    for x in range(len(presidents)):\n",
    "        closest = find_closest_date(presidents[x]['days_in_admin'], day)\n",
    "        #print(\"{pres}'s approval rating on his {day}th day was {rating}\".format(pres=president_names[x], day=day, rating=presidents[x]['Approving'][closest]))\n",
    "        if not closest:\n",
    "            continue\n",
    "        if presidents[x]['Approving'][closest] < min_approval:\n",
    "            min_approval = presidents[x]['Approving'][closest]\n",
    "            min_president = president_names[x]\n",
    "        if presidents[x]['Approving'][closest] > max_approval:\n",
    "            max_approval = presidents[x]['Approving'][closest]\n",
    "            max_president = president_names[x]\n",
    "    return min_president, min_approval, max_president, max_approval"
   ]
  },
  {
   "cell_type": "code",
   "execution_count": 157,
   "metadata": {
    "collapsed": false,
    "deletable": true,
    "editable": true
   },
   "outputs": [],
   "source": [
    "# A full eight years is around 2920 days (excluding leap years)\n",
    "# I'm just going to focus on the first 100 days\n",
    "num_days = 100\n",
    "# Now let's find which president had the lowest approval rating for each day\n",
    "min_pres = []\n",
    "min_value = []\n",
    "max_pres = []\n",
    "max_value = []\n",
    "all_lists = [min_pres, min_value, max_pres, max_value]\n",
    "for x in range(num_days):\n",
    "    values = get_min_max(x)\n",
    "    for x, lst in zip(values, all_lists):\n",
    "        lst.append(x)"
   ]
  },
  {
   "cell_type": "code",
   "execution_count": 158,
   "metadata": {
    "collapsed": false,
    "deletable": true,
    "editable": true
   },
   "outputs": [],
   "source": [
    "# Let's make a list of a color for each president from Trump to Truman\n",
    "all_colors = ['#FF0000', '#0000FF', '#FF9F00', '#00DFFF', '#FF00CF', '#8700FF', '#FFFF00', '#B3FF00', \n",
    "'#A70053', '#01A129', '#003EB5', '#00EC00', '#000000']"
   ]
  },
  {
   "cell_type": "code",
   "execution_count": 159,
   "metadata": {
    "collapsed": true
   },
   "outputs": [],
   "source": [
    "# Now let's combine the names with the colors in a dictionary\n",
    "colordict = {}\n",
    "for p, c in zip(president_names, all_colors):\n",
    "    colordict[p] = c"
   ]
  },
  {
   "cell_type": "code",
   "execution_count": 160,
   "metadata": {
    "collapsed": false
   },
   "outputs": [],
   "source": [
    "# We're going to need a list of colors by day. Let's make that now\n",
    "min_colors = [colordict[min_pres] for min_pres in min_pres]"
   ]
  },
  {
   "cell_type": "code",
   "execution_count": 161,
   "metadata": {
    "collapsed": false
   },
   "outputs": [
    {
     "name": "stdout",
     "output_type": "stream",
     "text": [
      "dict_keys(['Gerald Ford', 'Donald Trump', 'Bill Clinton'])\n"
     ]
    }
   ],
   "source": [
    "# There are so many presidents on the list, let's see which ones are actually represented so we don't clutter the graph legend\n",
    "# with colors that are not used.\n",
    "print(Counter(min_pres).keys())"
   ]
  },
  {
   "cell_type": "code",
   "execution_count": 162,
   "metadata": {
    "collapsed": true
   },
   "outputs": [],
   "source": [
    "# To reduce clutter, we're only going to label presidents who are on the graph\n",
    "# Let's grab those colors and patches\n",
    "graph_patches = []\n",
    "graph_colors = []\n",
    "for pres in Counter(min_pres).keys():\n",
    "    graph_colors.append(colordict[pres])\n",
    "    graph_patches.append(mpatches.Patch(color=colordict[pres], label=pres))"
   ]
  },
  {
   "cell_type": "code",
   "execution_count": 165,
   "metadata": {
    "collapsed": false,
    "deletable": true,
    "editable": true
   },
   "outputs": [
    {
     "data": {
      "image/png": "[encoded data removed]",
      "text/plain": [
       "<matplotlib.figure.Figure at 0x290c03746a0>"
      ]
     },
     "metadata": {},
     "output_type": "display_data"
    }
   ],
   "source": [
    "# OK, now let's graph this\n",
    "a = range(num_days)\n",
    "\n",
    "plt.scatter(a,min_value, color=min_colors, s=100) # s is the size\n",
    "plt.legend(handles=graph_patches, prop={'size':16})\n",
    "\n",
    "# Let's make the plot bigger\n",
    "# Get current size\n",
    "fig_size = plt.rcParams[\"figure.figsize\"]\n",
    "font = {'family': 'serif',\n",
    "        'color':  'k',\n",
    "        'weight': 'normal',\n",
    "        'size': 16,\n",
    "        } \n",
    "# Set figure width to 12 and height to 9\n",
    "fig_size[0] = 12\n",
    "fig_size[1] = 9\n",
    "plt.rcParams[\"figure.figsize\"] = fig_size\n",
    "plt.title(\"Lowest approval rating of any president in first 100 days\", fontdict = font)\n",
    "plt.xlabel(\"Days into presidency\", fontdict=font)\n",
    "plt.ylabel(\"Approval rating\", fontdict=font)\n",
    "plt.annotate('Source: Gallup', xy=(1, 0), xycoords='axes fraction', fontsize=16,\n",
    "                horizontalalignment='right', verticalalignment='bottom')\n",
    "plt.show()"
   ]
  },
  {
   "cell_type": "code",
   "execution_count": 164,
   "metadata": {
    "collapsed": false
   },
   "outputs": [
    {
     "data": {
      "image/png": "[encoded data removed]",
      "text/plain": [
       "<matplotlib.figure.Figure at 0x290c1a06240>"
      ]
     },
     "metadata": {},
     "output_type": "display_data"
    }
   ],
   "source": [
    "# OK, now let's make a pie chart of what presidents are in the most\n",
    "\n",
    "fig = plt.figure(1, figsize=(12,12))\n",
    "ax = fig.add_axes([0.1, 0.1, 0.8, 0.8])\n",
    "plt.title(\"Number of days each president had the lowest approval ratings of any president in the first hundred days\", fontdict=font)\n",
    "\n",
    "labels = list(Counter(min_pres).keys())\n",
    "values = list(Counter(min_pres).values())\n",
    "\n",
    "patches, texts, autotexts = ax.pie(values, labels=labels, autopct=\"%1.f\", colors=graph_colors)\n",
    "\n",
    "proptease = fm.FontProperties()\n",
    "proptease.set_size('16')\n",
    "plt.setp(autotexts, fontproperties=proptease)\n",
    "plt.setp(texts, fontproperties=proptease)\n",
    "\n",
    "plt.show()"
   ]
  },
  {
   "cell_type": "code",
   "execution_count": null,
   "metadata": {
    "collapsed": true
   },
   "outputs": [],
   "source": []
  },
  {
   "cell_type": "code",
   "execution_count": null,
   "metadata": {
    "collapsed": true
   },
   "outputs": [],
   "source": []
  }
 ],
 "metadata": {
  "kernelspec": {
   "display_name": "Python [conda root]",
   "language": "python",
   "name": "conda-root-py"
  },
  "language_info": {
   "codemirror_mode": {
    "name": "ipython",
    "version": 3
   },
   "file_extension": ".py",
   "mimetype": "text/x-python",
   "name": "python",
   "nbconvert_exporter": "python",
   "pygments_lexer": "ipython3",
   "version": "3.5.2"
  }
 },
 "nbformat": 4,
 "nbformat_minor": 2
}
