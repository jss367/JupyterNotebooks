{
 "cells": [
  {
   "cell_type": "markdown",
   "id": "e812ea6d",
   "metadata": {},
   "source": [
    "---\n",
    "layout: post\n",
    "title: \"The Case Against Ranked-Choice Voting: Part II\"\n",
    "tags: [Elections, Politics]\n",
    "--- "
   ]
  },
  {
   "cell_type": "markdown",
   "id": "463f3d72",
   "metadata": {},
   "source": [
    "This is part II of my post laying out the case against ranked-choice voting. In this post, I take the theoretical results from the previous post and see if I can find instances of them in a real ranked-choice election. I'm going to use the 2009 election for mayor of Burlington, Vermont as my test case. I chose this because the votes have been carefully counted and uploaded by Juho Laatu and Warren D. Smith, and they have [made them available online](https://rangevoting.org/JLburl09.txt). As I was researching this, I came across the site https://rangevoting.org/ where I learned a lot about voting systems. Some of the examples below I first found out about on their site."
   ]
  },
  {
   "cell_type": "markdown",
   "id": "399f106b",
   "metadata": {},
   "source": [
    "> Note: There are minor disagreements in how certain invalid ballots were counted, so the results here do not exactly match all the tabulations online. However, they all seem to be within 5 votes of each other and the discrepancies don't affect any results."
   ]
  },
  {
   "cell_type": "markdown",
   "id": "f571ddce",
   "metadata": {},
   "source": [
    "In this election there were five candidates. Here are the candidates and their parties:\n",
    "* Bob Kiss - Progressive\n",
    "* Andy Montroll - Democrat\n",
    "* Kurt Wright - Republican\n",
    "* Dan Smith - Independent\n",
    "* James Simpson - Green"
   ]
  },
  {
   "cell_type": "markdown",
   "id": "6824f2fc",
   "metadata": {},
   "source": [
    "I'm going to start by loading the election results and simulating the election to ensure that I get the same result as the true election."
   ]
  },
  {
   "cell_type": "code",
   "execution_count": 1,
   "id": "c2062f9c",
   "metadata": {},
   "outputs": [],
   "source": [
    "import re\n",
    "from votesim import *"
   ]
  },
  {
   "cell_type": "code",
   "execution_count": 2,
   "id": "4b0f1378",
   "metadata": {},
   "outputs": [],
   "source": [
    "file = 'JLburl09.txt'"
   ]
  },
  {
   "cell_type": "code",
   "execution_count": 3,
   "id": "2e1307aa",
   "metadata": {},
   "outputs": [],
   "source": [
    "with open(file, 'r') as f:\n",
    "    a = f.readlines()"
   ]
  },
  {
   "cell_type": "code",
   "execution_count": 4,
   "id": "3d0994c9",
   "metadata": {},
   "outputs": [],
   "source": [
    "regex = '(\\d+): ((\\w>?)+)'"
   ]
  },
  {
   "cell_type": "code",
   "execution_count": 5,
   "id": "caecdccc",
   "metadata": {},
   "outputs": [],
   "source": [
    "kiss = Candidate(\"Bob Kiss\")\n",
    "wright = Candidate(\"Kurt Wright\")\n",
    "montroll = Candidate(\"Andy Montroll\")\n",
    "smith = Candidate(\"Dan Smith\")\n",
    "simpson = Candidate(\"James Simpson\")\n",
    "write_in = Candidate(\"Write-in\")\n",
    "\n",
    "candidates = [kiss, wright, montroll, smith, simpson, write_in]"
   ]
  },
  {
   "cell_type": "code",
   "execution_count": 6,
   "id": "4f10deb8",
   "metadata": {},
   "outputs": [],
   "source": [
    "cand_map = {'K': kiss,\n",
    "           'M': montroll,\n",
    "           'N': simpson,\n",
    "           'H': smith,\n",
    "           'W': wright,\n",
    "           'R': write_in}"
   ]
  },
  {
   "cell_type": "code",
   "execution_count": 7,
   "id": "d757ddbb",
   "metadata": {},
   "outputs": [],
   "source": [
    "all_ballots = []\n",
    "for i in range(18, 395):\n",
    "    m = re.search(regex, a[i])\n",
    "    num_ballots = int(m.group(1))\n",
    "    ranked_cands = m.group(2).split('>')\n",
    "    ranked_can_list = []\n",
    "    for c in ranked_cands:\n",
    "        ranked_can_list.append(cand_map[c])\n",
    "    my_bal = Ballot(ranked_can_list)\n",
    "    all_ballots.extend([my_bal] * num_ballots)"
   ]
  },
  {
   "cell_type": "code",
   "execution_count": 8,
   "id": "1d548155",
   "metadata": {},
   "outputs": [
    {
     "name": "stdout",
     "output_type": "stream",
     "text": [
      "ROUND 1\n",
      "Candidate        Votes  Status\n",
      "-------------  -------  --------\n",
      "Kurt Wright       2949  Active\n",
      "Bob Kiss          2585  Active\n",
      "Andy Montroll     2062  Active\n",
      "Dan Smith         1306  Rejected\n",
      "Write-in            36  Rejected\n",
      "James Simpson       35  Rejected\n",
      "\n",
      "ROUND 2\n",
      "Candidate        Votes  Status\n",
      "-------------  -------  --------\n",
      "Kurt Wright       3292  Active\n",
      "Bob Kiss          2981  Active\n",
      "Andy Montroll     2553  Rejected\n",
      "Dan Smith            0  Rejected\n",
      "Write-in             0  Rejected\n",
      "James Simpson        0  Rejected\n",
      "Blank votes        147  Rejected\n",
      "\n",
      "FINAL RESULT\n",
      "Candidate        Votes  Status\n",
      "-------------  -------  --------\n",
      "Bob Kiss          4313  Elected\n",
      "Kurt Wright       4058  Rejected\n",
      "Andy Montroll        0  Rejected\n",
      "Dan Smith            0  Rejected\n",
      "Write-in             0  Rejected\n",
      "James Simpson        0  Rejected\n",
      "Blank votes        602  Rejected\n",
      "\n"
     ]
    }
   ],
   "source": [
    "election_result = instant_runoff_voting(candidates, all_ballots)\n",
    "election_result.get_winners()\n",
    "print(election_result)"
   ]
  },
  {
   "cell_type": "markdown",
   "id": "a40742d3",
   "metadata": {},
   "source": [
    "Bob Kiss wins the election, which is what happened in the real election. Not let's go through the different failure modes of ranked-choice voting and see if we can find them here."
   ]
  },
  {
   "cell_type": "markdown",
   "id": "94adaaf1",
   "metadata": {},
   "source": [
    "## Ranked-Choice Voting Encourages Strategic Voting"
   ]
  },
  {
   "cell_type": "markdown",
   "id": "bc217ffe",
   "metadata": {},
   "source": [
    "There is clear evidence that strategic voting would have been beneficial in this election. Lots of voters had the preference of Wright, then Montroll, then Kiss. With the *promise* of ranked-choice voting, they should be able to express those preferences. According to the promise, if they vote for Wright and then Montroll, that can't hurt Montroll's chances against Kiss, because Montroll is ranked first and Wright was ranked next. But let's look at what really happened."
   ]
  },
  {
   "cell_type": "markdown",
   "id": "09128318",
   "metadata": {},
   "source": [
    "Let's look at the election from the perspective of voter who voted for Wright. First, let's see who else they voted for to get an idea what they their preferences are. We'll take a look at all the votes who listed Wright at the top and see who would have won the election had just those voters voted and Wright not been on the ballot."
   ]
  },
  {
   "cell_type": "code",
   "execution_count": 9,
   "id": "3a984cab",
   "metadata": {},
   "outputs": [],
   "source": [
    "new_ballots = []\n",
    "for ballot in all_ballots:\n",
    "    if ballot.ranked_candidates[0] == wright and len(ballot.ranked_candidates) > 1:\n",
    "        new_ballots.append(Ballot(ballot.ranked_candidates[1:]))"
   ]
  },
  {
   "cell_type": "code",
   "execution_count": 10,
   "id": "cda91a44",
   "metadata": {},
   "outputs": [
    {
     "name": "stdout",
     "output_type": "stream",
     "text": [
      "ROUND 1\n",
      "Candidate        Votes  Status\n",
      "-------------  -------  --------\n",
      "Dan Smith          882  Active\n",
      "Andy Montroll      849  Active\n",
      "Bob Kiss           281  Rejected\n",
      "James Simpson       78  Rejected\n",
      "Write-in            19  Rejected\n",
      "Kurt Wright          0  Rejected\n",
      "\n",
      "FINAL RESULT\n",
      "Candidate        Votes  Status\n",
      "-------------  -------  --------\n",
      "Dan Smith         1002  Elected\n",
      "Andy Montroll      984  Rejected\n",
      "Bob Kiss             0  Rejected\n",
      "James Simpson        0  Rejected\n",
      "Write-in             0  Rejected\n",
      "Kurt Wright          0  Rejected\n",
      "Blank votes        123  Rejected\n",
      "\n"
     ]
    }
   ],
   "source": [
    "election_result = instant_runoff_voting(candidates, new_ballots)\n",
    "election_result.get_winners()\n",
    "print(election_result)"
   ]
  },
  {
   "cell_type": "markdown",
   "id": "fbc996af",
   "metadata": {},
   "source": [
    "We can see that 882 people would have voted for Dan Smith, 849 for Andy Montroll, and only 281 for Bob Kiss. It's clear that Wright voters preferred Montroll, the Democrat, over Kiss, the Progressive."
   ]
  },
  {
   "cell_type": "markdown",
   "id": "c79ec35b",
   "metadata": {},
   "source": [
    "So let's see what would have happened had some of those voters been strategic. Let's say they get together and all the voters who voted for Wright, then Montroll or Wright, then Smith, then Montroll, decide to switch Montroll with Wright. So now they list Montroll first and Wright either second or third (behind Smith)."
   ]
  },
  {
   "cell_type": "code",
   "execution_count": 11,
   "id": "bd2c07fc",
   "metadata": {},
   "outputs": [],
   "source": [
    "new_ballots = []\n",
    "for ballot in all_ballots:\n",
    "    if ballot.ranked_candidates == (wright, montroll):\n",
    "        new_ballots.append(Ballot([montroll, wright]))\n",
    "    elif ballot.ranked_candidates == (wright, smith, montroll):\n",
    "        new_ballots.append(Ballot([montroll, smith, wright]))\n",
    "    else:\n",
    "        new_ballots.append(ballot)"
   ]
  },
  {
   "cell_type": "code",
   "execution_count": 12,
   "id": "94d89f9c",
   "metadata": {},
   "outputs": [
    {
     "name": "stdout",
     "output_type": "stream",
     "text": [
      "ROUND 1\n",
      "Candidate        Votes  Status\n",
      "-------------  -------  --------\n",
      "Bob Kiss          2585  Active\n",
      "Kurt Wright       2571  Active\n",
      "Andy Montroll     2440  Active\n",
      "Dan Smith         1306  Rejected\n",
      "Write-in            36  Rejected\n",
      "James Simpson       35  Rejected\n",
      "\n",
      "ROUND 2\n",
      "Candidate        Votes  Status\n",
      "-------------  -------  --------\n",
      "Bob Kiss          2981  Active\n",
      "Andy Montroll     2931  Active\n",
      "Kurt Wright       2914  Rejected\n",
      "Dan Smith            0  Rejected\n",
      "Write-in             0  Rejected\n",
      "James Simpson        0  Rejected\n",
      "Blank votes        147  Rejected\n",
      "\n",
      "FINAL RESULT\n",
      "Candidate        Votes  Status\n",
      "-------------  -------  --------\n",
      "Andy Montroll     4063  Elected\n",
      "Bob Kiss          3476  Rejected\n",
      "Kurt Wright          0  Rejected\n",
      "Dan Smith            0  Rejected\n",
      "Write-in             0  Rejected\n",
      "James Simpson        0  Rejected\n",
      "Blank votes       1434  Rejected\n",
      "\n"
     ]
    }
   ],
   "source": [
    "election_result = instant_runoff_voting(candidates, new_ballots)\n",
    "winners = election_result.get_winners()\n",
    "print(election_result)"
   ]
  },
  {
   "cell_type": "markdown",
   "id": "df96f453",
   "metadata": {},
   "source": [
    "Now we have Andy Montroll as the election winner. A preferred outcome for the Wright voters that they achieved by **not** voting their preferences and instead gaming the system."
   ]
  },
  {
   "cell_type": "markdown",
   "id": "f0c687aa",
   "metadata": {},
   "source": [
    "## Ranked-Choice Voting Doesn't Always Result in the Best Head-to-head Candidate"
   ]
  },
  {
   "cell_type": "markdown",
   "id": "97df2315",
   "metadata": {},
   "source": [
    "Now let's look at whether the election results were the same as the head-to-head matchup. We don't need to change any ballots for this simulation, just count up the head-to-head preferences."
   ]
  },
  {
   "cell_type": "code",
   "execution_count": 13,
   "id": "bcf99bb3",
   "metadata": {},
   "outputs": [],
   "source": [
    "prefer_wright = 0\n",
    "prefer_montroll = 0\n",
    "for ballot in all_ballots:\n",
    "    for candidate in ballot.ranked_candidates:\n",
    "        if candidate == wright:\n",
    "            prefer_wright += 1\n",
    "            break\n",
    "        elif candidate == montroll:\n",
    "            prefer_montroll += 1\n",
    "            break"
   ]
  },
  {
   "cell_type": "code",
   "execution_count": 14,
   "id": "84b9379a",
   "metadata": {},
   "outputs": [
    {
     "name": "stdout",
     "output_type": "stream",
     "text": [
      "In a heads-up competition 4596 voters prefer Montroll and 3662 voters prefer Wright\n"
     ]
    }
   ],
   "source": [
    "print(f\"In a heads-up competition {prefer_montroll} voters prefer Montroll and {prefer_wright} voters prefer Wright\")"
   ]
  },
  {
   "cell_type": "code",
   "execution_count": 15,
   "id": "7c581149",
   "metadata": {},
   "outputs": [],
   "source": [
    "prefer_kiss = 0\n",
    "prefer_montroll = 0\n",
    "for ballot in all_ballots:\n",
    "    for candidate in ballot.ranked_candidates:\n",
    "        if candidate == kiss:\n",
    "            prefer_kiss += 1\n",
    "            break\n",
    "        elif candidate == montroll:\n",
    "            prefer_montroll += 1\n",
    "            break"
   ]
  },
  {
   "cell_type": "code",
   "execution_count": 16,
   "id": "37bc5896",
   "metadata": {},
   "outputs": [
    {
     "name": "stdout",
     "output_type": "stream",
     "text": [
      "In a heads-up competition 4063 voters prefer Montroll and 3476 voters prefer Kiss\n"
     ]
    }
   ],
   "source": [
    "print(f\"In a heads-up competition {prefer_montroll} voters prefer Montroll and {prefer_kiss} voters prefer Kiss\")"
   ]
  },
  {
   "cell_type": "markdown",
   "id": "af1b5c1d",
   "metadata": {},
   "source": [
    "This show that more people wanted Andy Montroll than Bob Kiss, and, in addition, more people wanted Andry Montroll than Kurt Wright. And not by a little - these are substantial margins. But, unfortunately, ranked-choice voting thwarted the will of the voters in this case and gave them a mayor that fewer people wanted."
   ]
  },
  {
   "cell_type": "markdown",
   "id": "18c926a9",
   "metadata": {},
   "source": [
    "## Ranked-Choice Voting Allows for Election Spoilers"
   ]
  },
  {
   "cell_type": "markdown",
   "id": "5ce388a0",
   "metadata": {},
   "source": [
    "Was there a spoiler in the election? What would have happened if Wright wasn't in the race at all? Let's run that simulation."
   ]
  },
  {
   "cell_type": "code",
   "execution_count": 17,
   "id": "6111d4ab",
   "metadata": {},
   "outputs": [],
   "source": [
    "new_ballots = []\n",
    "for ballot in all_ballots:\n",
    "    new_ballot = Ballot([c for c in ballot.ranked_candidates if c != wright])\n",
    "    new_ballots.append(new_ballot)"
   ]
  },
  {
   "cell_type": "code",
   "execution_count": 18,
   "id": "d771455b",
   "metadata": {},
   "outputs": [
    {
     "name": "stdout",
     "output_type": "stream",
     "text": [
      "ROUND 1\n",
      "Candidate        Votes  Status\n",
      "-------------  -------  --------\n",
      "Andy Montroll     2911  Active\n",
      "Bob Kiss          2866  Active\n",
      "Dan Smith         2188  Rejected\n",
      "James Simpson      113  Rejected\n",
      "Write-in            55  Rejected\n",
      "Kurt Wright          0  Rejected\n",
      "Blank votes        840  Rejected\n",
      "\n",
      "FINAL RESULT\n",
      "Candidate        Votes  Status\n",
      "-------------  -------  --------\n",
      "Andy Montroll     4063  Elected\n",
      "Bob Kiss          3476  Rejected\n",
      "Dan Smith            0  Rejected\n",
      "James Simpson        0  Rejected\n",
      "Write-in             0  Rejected\n",
      "Kurt Wright          0  Rejected\n",
      "Blank votes       1434  Rejected\n",
      "\n"
     ]
    }
   ],
   "source": [
    "election_result = instant_runoff_voting(candidates, new_ballots)\n",
    "election_result.get_winners()\n",
    "print(election_result)"
   ]
  },
  {
   "cell_type": "markdown",
   "id": "14d8083e",
   "metadata": {},
   "source": [
    "Montroll would have won. Thus Wright was a spoiler."
   ]
  },
  {
   "cell_type": "markdown",
   "id": "f1d6a53c",
   "metadata": {},
   "source": [
    "## Ranked-Choice Voting Allows for Candidates to Do Better but Receive Worse Outcomes"
   ]
  },
  {
   "cell_type": "markdown",
   "id": "e609fa07",
   "metadata": {},
   "source": [
    "Let's look at the weird case, where doing better could have cause a candidate to perform worse in a ranked-choice voting election. This gets a little complex so to simplify things I'm going to remove candidates that aren't the top three. This happens anyway after the first round, so it doesn't affect the results at all, it just makes things easier to explain."
   ]
  },
  {
   "cell_type": "markdown",
   "id": "1473abe4",
   "metadata": {},
   "source": [
    "#### Top Three Only Ballots"
   ]
  },
  {
   "cell_type": "code",
   "execution_count": 19,
   "id": "c8bfc45d",
   "metadata": {},
   "outputs": [],
   "source": [
    "three_candidate_ballots = []\n",
    "for ballot in all_ballots:\n",
    "    new_ballot = Ballot([c for c in ballot.ranked_candidates if c in {wright, kiss, montroll}])\n",
    "    three_candidate_ballots.append(new_ballot)"
   ]
  },
  {
   "cell_type": "markdown",
   "id": "fb30ce91",
   "metadata": {},
   "source": [
    "We'll run the election again, juist to show the numbers between the three main candidates haven't changed."
   ]
  },
  {
   "cell_type": "code",
   "execution_count": 20,
   "id": "3639855a",
   "metadata": {},
   "outputs": [
    {
     "name": "stdout",
     "output_type": "stream",
     "text": [
      "ROUND 1\n",
      "Candidate        Votes  Status\n",
      "-------------  -------  --------\n",
      "Kurt Wright       3292  Active\n",
      "Bob Kiss          2981  Active\n",
      "Andy Montroll     2553  Rejected\n",
      "Dan Smith            0  Rejected\n",
      "James Simpson        0  Rejected\n",
      "Write-in             0  Rejected\n",
      "Blank votes        147  Rejected\n",
      "\n",
      "FINAL RESULT\n",
      "Candidate        Votes  Status\n",
      "-------------  -------  --------\n",
      "Bob Kiss          4313  Elected\n",
      "Kurt Wright       4058  Rejected\n",
      "Andy Montroll        0  Rejected\n",
      "Dan Smith            0  Rejected\n",
      "James Simpson        0  Rejected\n",
      "Write-in             0  Rejected\n",
      "Blank votes        602  Rejected\n",
      "\n"
     ]
    }
   ],
   "source": [
    "election_result = instant_runoff_voting(candidates, three_candidate_ballots)\n",
    "election_result.get_winners()\n",
    "print(election_result)"
   ]
  },
  {
   "cell_type": "markdown",
   "id": "e060d78b",
   "metadata": {},
   "source": [
    "OK. So let's say that Kiss campaigns extra hard and convinces more voters that he is the best candidate. Let's say that he convinces all the Wright > Kiss > Montroll voters to change their ballot to Kiss > Wright > Montroll. Then he convinces another 400 of the voters who only voted for Wright to vote for him instead. Let's see how this affects the results."
   ]
  },
  {
   "cell_type": "code",
   "execution_count": 21,
   "id": "af5018f6",
   "metadata": {},
   "outputs": [],
   "source": [
    "new_ballots = []\n",
    "counter = 0\n",
    "for ballot in three_candidate_ballots:\n",
    "    if ballot.ranked_candidates == (wright, kiss, montroll):\n",
    "        new_ballots.append(Ballot([kiss, wright, montroll]))\n",
    "    elif ballot.ranked_candidates == (wright,) and counter < 400:\n",
    "        counter += 1\n",
    "        new_ballots.append(Ballot([kiss]))\n",
    "    else:\n",
    "        new_ballots.append(ballot)\n",
    "        "
   ]
  },
  {
   "cell_type": "code",
   "execution_count": 22,
   "id": "1538c67e",
   "metadata": {},
   "outputs": [
    {
     "name": "stdout",
     "output_type": "stream",
     "text": [
      "ROUND 1\n",
      "Candidate        Votes  Status\n",
      "-------------  -------  --------\n",
      "Bob Kiss          3723  Active\n",
      "Andy Montroll     2553  Active\n",
      "Kurt Wright       2550  Rejected\n",
      "Write-in             0  Rejected\n",
      "James Simpson        0  Rejected\n",
      "Dan Smith            0  Rejected\n",
      "Blank votes        147  Rejected\n",
      "\n",
      "FINAL RESULT\n",
      "Candidate        Votes  Status\n",
      "-------------  -------  --------\n",
      "Andy Montroll     4063  Elected\n",
      "Bob Kiss          3876  Rejected\n",
      "Kurt Wright          0  Rejected\n",
      "Write-in             0  Rejected\n",
      "James Simpson        0  Rejected\n",
      "Dan Smith            0  Rejected\n",
      "Blank votes       1034  Rejected\n",
      "\n"
     ]
    }
   ],
   "source": [
    "election_result = instant_runoff_voting(candidates, new_ballots)\n",
    "election_result.get_winners()\n",
    "print(election_result)"
   ]
  },
  {
   "cell_type": "markdown",
   "id": "6b28bd63",
   "metadata": {},
   "source": [
    "Suddenly, Bob Kiss get many more votes, starts out with a huge lead after the first round, and loses the election. Note that this didn't happen in the real election. I don't know how likely this would be in a real election. My guess is not very often because the numbers need to align pretty well. However, it's definitely possible."
   ]
  },
  {
   "cell_type": "markdown",
   "id": "b6562e74",
   "metadata": {},
   "source": [
    "## Alternatives to Ranked-choice Voting"
   ]
  },
  {
   "cell_type": "markdown",
   "id": "aad7bac1",
   "metadata": {},
   "source": [
    "In the next post, I'll talk about approval voting and why I believe it is a good alternative to ranked-choice voting."
   ]
  },
  {
   "cell_type": "code",
   "execution_count": null,
   "id": "5f810f28",
   "metadata": {},
   "outputs": [],
   "source": []
  }
 ],
 "metadata": {
  "kernelspec": {
   "display_name": "Python 3 (ipykernel)",
   "language": "python",
   "name": "python3"
  },
  "language_info": {
   "codemirror_mode": {
    "name": "ipython",
    "version": 3
   },
   "file_extension": ".py",
   "mimetype": "text/x-python",
   "name": "python",
   "nbconvert_exporter": "python",
   "pygments_lexer": "ipython3",
   "version": "3.8.8"
  }
 },
 "nbformat": 4,
 "nbformat_minor": 5
}
