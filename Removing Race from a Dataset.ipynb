{
 "cells": [
  {
   "cell_type": "markdown",
   "metadata": {},
   "source": [
    "This notebook is an attempt to reduce the racial disparity in machine learning algorithms. It does this by finding instances where one race is mentioned specifically and adding a new instance where the text and metadata are the same except the race has been changed. To reduce complexity for this test other ethnicities are not included at the moment. If this technique actually works they will be added."
   ]
  },
  {
   "cell_type": "code",
   "execution_count": 233,
   "metadata": {
    "collapsed": true
   },
   "outputs": [],
   "source": [
    "import pandas as pd\n",
    "import re"
   ]
  },
  {
   "cell_type": "code",
   "execution_count": 234,
   "metadata": {},
   "outputs": [],
   "source": [
    "df = pd.read_csv('C:/Users/HMISYS/Documents/GitHub/D4D/hate_speech_detector/data/twitter-hate-speech2.csv')"
   ]
  },
  {
   "cell_type": "code",
   "execution_count": 235,
   "metadata": {},
   "outputs": [
    {
     "data": {
      "text/html": [
       "<div>\n",
       "<style>\n",
       "    .dataframe thead tr:only-child th {\n",
       "        text-align: right;\n",
       "    }\n",
       "\n",
       "    .dataframe thead th {\n",
       "        text-align: left;\n",
       "    }\n",
       "\n",
       "    .dataframe tbody tr th {\n",
       "        vertical-align: top;\n",
       "    }\n",
       "</style>\n",
       "<table border=\"1\" class=\"dataframe\">\n",
       "  <thead>\n",
       "    <tr style=\"text-align: right;\">\n",
       "      <th></th>\n",
       "      <th>Unnamed: 0</th>\n",
       "      <th>count</th>\n",
       "      <th>hate_speech</th>\n",
       "      <th>offensive_language</th>\n",
       "      <th>neither</th>\n",
       "      <th>class</th>\n",
       "      <th>tweet</th>\n",
       "    </tr>\n",
       "  </thead>\n",
       "  <tbody>\n",
       "    <tr>\n",
       "      <th>0</th>\n",
       "      <td>0</td>\n",
       "      <td>3</td>\n",
       "      <td>0</td>\n",
       "      <td>0</td>\n",
       "      <td>3</td>\n",
       "      <td>2</td>\n",
       "      <td>!!! RT @mayasolovely: As a woman you shouldn't complain about cleaning up your house. &amp;amp; as a man you should always take the trash out...</td>\n",
       "    </tr>\n",
       "    <tr>\n",
       "      <th>1</th>\n",
       "      <td>1</td>\n",
       "      <td>3</td>\n",
       "      <td>0</td>\n",
       "      <td>3</td>\n",
       "      <td>0</td>\n",
       "      <td>1</td>\n",
       "      <td>!!!!! RT @mleew17: boy dats cold...tyga dwn bad for cuffin dat hoe in the 1st place!!</td>\n",
       "    </tr>\n",
       "    <tr>\n",
       "      <th>2</th>\n",
       "      <td>2</td>\n",
       "      <td>3</td>\n",
       "      <td>0</td>\n",
       "      <td>3</td>\n",
       "      <td>0</td>\n",
       "      <td>1</td>\n",
       "      <td>!!!!!!! RT @UrKindOfBrand Dawg!!!! RT @80sbaby4life: You ever fuck a bitch and she start to cry? You be confused as shit</td>\n",
       "    </tr>\n",
       "    <tr>\n",
       "      <th>3</th>\n",
       "      <td>3</td>\n",
       "      <td>3</td>\n",
       "      <td>0</td>\n",
       "      <td>2</td>\n",
       "      <td>1</td>\n",
       "      <td>1</td>\n",
       "      <td>!!!!!!!!! RT @C_G_Anderson: @viva_based she look like a tranny</td>\n",
       "    </tr>\n",
       "    <tr>\n",
       "      <th>4</th>\n",
       "      <td>4</td>\n",
       "      <td>6</td>\n",
       "      <td>0</td>\n",
       "      <td>6</td>\n",
       "      <td>0</td>\n",
       "      <td>1</td>\n",
       "      <td>!!!!!!!!!!!!! RT @ShenikaRoberts: The shit you hear about me might be true or it might be faker than the bitch who told it to ya &amp;#57361;</td>\n",
       "    </tr>\n",
       "  </tbody>\n",
       "</table>\n",
       "</div>"
      ],
      "text/plain": [
       "   Unnamed: 0  count  hate_speech  offensive_language  neither  class  \\\n",
       "0  0           3      0            0                   3        2       \n",
       "1  1           3      0            3                   0        1       \n",
       "2  2           3      0            3                   0        1       \n",
       "3  3           3      0            2                   1        1       \n",
       "4  4           6      0            6                   0        1       \n",
       "\n",
       "                                                                                                                                          tweet  \n",
       "0  !!! RT @mayasolovely: As a woman you shouldn't complain about cleaning up your house. &amp; as a man you should always take the trash out...  \n",
       "1  !!!!! RT @mleew17: boy dats cold...tyga dwn bad for cuffin dat hoe in the 1st place!!                                                         \n",
       "2  !!!!!!! RT @UrKindOfBrand Dawg!!!! RT @80sbaby4life: You ever fuck a bitch and she start to cry? You be confused as shit                      \n",
       "3  !!!!!!!!! RT @C_G_Anderson: @viva_based she look like a tranny                                                                                \n",
       "4  !!!!!!!!!!!!! RT @ShenikaRoberts: The shit you hear about me might be true or it might be faker than the bitch who told it to ya &#57361;     "
      ]
     },
     "execution_count": 235,
     "metadata": {},
     "output_type": "execute_result"
    }
   ],
   "source": [
    "df.head()"
   ]
  },
  {
   "cell_type": "code",
   "execution_count": 236,
   "metadata": {},
   "outputs": [
    {
     "data": {
      "text/html": [
       "<div>\n",
       "<style>\n",
       "    .dataframe thead tr:only-child th {\n",
       "        text-align: right;\n",
       "    }\n",
       "\n",
       "    .dataframe thead th {\n",
       "        text-align: left;\n",
       "    }\n",
       "\n",
       "    .dataframe tbody tr th {\n",
       "        vertical-align: top;\n",
       "    }\n",
       "</style>\n",
       "<table border=\"1\" class=\"dataframe\">\n",
       "  <thead>\n",
       "    <tr style=\"text-align: right;\">\n",
       "      <th></th>\n",
       "      <th>Unnamed: 0</th>\n",
       "      <th>count</th>\n",
       "      <th>hate_speech</th>\n",
       "      <th>offensive_language</th>\n",
       "      <th>neither</th>\n",
       "      <th>class</th>\n",
       "    </tr>\n",
       "  </thead>\n",
       "  <tbody>\n",
       "    <tr>\n",
       "      <th>count</th>\n",
       "      <td>24783.000000</td>\n",
       "      <td>24783.000000</td>\n",
       "      <td>24783.000000</td>\n",
       "      <td>24783.000000</td>\n",
       "      <td>24783.000000</td>\n",
       "      <td>24783.000000</td>\n",
       "    </tr>\n",
       "    <tr>\n",
       "      <th>mean</th>\n",
       "      <td>12681.192027</td>\n",
       "      <td>3.243473</td>\n",
       "      <td>0.280515</td>\n",
       "      <td>2.413711</td>\n",
       "      <td>0.549247</td>\n",
       "      <td>1.110277</td>\n",
       "    </tr>\n",
       "    <tr>\n",
       "      <th>std</th>\n",
       "      <td>7299.553863</td>\n",
       "      <td>0.883060</td>\n",
       "      <td>0.631851</td>\n",
       "      <td>1.399459</td>\n",
       "      <td>1.113299</td>\n",
       "      <td>0.462089</td>\n",
       "    </tr>\n",
       "    <tr>\n",
       "      <th>min</th>\n",
       "      <td>0.000000</td>\n",
       "      <td>3.000000</td>\n",
       "      <td>0.000000</td>\n",
       "      <td>0.000000</td>\n",
       "      <td>0.000000</td>\n",
       "      <td>0.000000</td>\n",
       "    </tr>\n",
       "    <tr>\n",
       "      <th>25%</th>\n",
       "      <td>6372.500000</td>\n",
       "      <td>3.000000</td>\n",
       "      <td>0.000000</td>\n",
       "      <td>2.000000</td>\n",
       "      <td>0.000000</td>\n",
       "      <td>1.000000</td>\n",
       "    </tr>\n",
       "    <tr>\n",
       "      <th>50%</th>\n",
       "      <td>12703.000000</td>\n",
       "      <td>3.000000</td>\n",
       "      <td>0.000000</td>\n",
       "      <td>3.000000</td>\n",
       "      <td>0.000000</td>\n",
       "      <td>1.000000</td>\n",
       "    </tr>\n",
       "    <tr>\n",
       "      <th>75%</th>\n",
       "      <td>18995.500000</td>\n",
       "      <td>3.000000</td>\n",
       "      <td>0.000000</td>\n",
       "      <td>3.000000</td>\n",
       "      <td>0.000000</td>\n",
       "      <td>1.000000</td>\n",
       "    </tr>\n",
       "    <tr>\n",
       "      <th>max</th>\n",
       "      <td>25296.000000</td>\n",
       "      <td>9.000000</td>\n",
       "      <td>7.000000</td>\n",
       "      <td>9.000000</td>\n",
       "      <td>9.000000</td>\n",
       "      <td>2.000000</td>\n",
       "    </tr>\n",
       "  </tbody>\n",
       "</table>\n",
       "</div>"
      ],
      "text/plain": [
       "         Unnamed: 0         count   hate_speech  offensive_language  \\\n",
       "count  24783.000000  24783.000000  24783.000000  24783.000000         \n",
       "mean   12681.192027  3.243473      0.280515      2.413711             \n",
       "std    7299.553863   0.883060      0.631851      1.399459             \n",
       "min    0.000000      3.000000      0.000000      0.000000             \n",
       "25%    6372.500000   3.000000      0.000000      2.000000             \n",
       "50%    12703.000000  3.000000      0.000000      3.000000             \n",
       "75%    18995.500000  3.000000      0.000000      3.000000             \n",
       "max    25296.000000  9.000000      7.000000      9.000000             \n",
       "\n",
       "            neither         class  \n",
       "count  24783.000000  24783.000000  \n",
       "mean   0.549247      1.110277      \n",
       "std    1.113299      0.462089      \n",
       "min    0.000000      0.000000      \n",
       "25%    0.000000      1.000000      \n",
       "50%    0.000000      1.000000      \n",
       "75%    0.000000      1.000000      \n",
       "max    9.000000      2.000000      "
      ]
     },
     "execution_count": 236,
     "metadata": {},
     "output_type": "execute_result"
    }
   ],
   "source": [
    "df.describe()"
   ]
  },
  {
   "cell_type": "markdown",
   "metadata": {},
   "source": [
    "We're working with 24784 samples."
   ]
  },
  {
   "cell_type": "code",
   "execution_count": 117,
   "metadata": {
    "collapsed": true
   },
   "outputs": [],
   "source": [
    "# Don't truncate the text\n",
    "pd.set_option('display.max_colwidth', -1)\n",
    "# Show lots of examples\n",
    "pd.options.display.max_rows = 400"
   ]
  },
  {
   "cell_type": "markdown",
   "metadata": {},
   "source": [
    "Tweets that mention a specific race, such as those shown below, are likely to cause a racial disparity in a machine learning algorithm."
   ]
  },
  {
   "cell_type": "code",
   "execution_count": 34,
   "metadata": {},
   "outputs": [
    {
     "data": {
      "text/plain": [
       "184      \"@MarkRoundtreeJr: LMFAOOOO I HATE BLACK PEOPLE https://t.co/RNvD2nLCDR\" This is why there's black people and niggers                                           \n",
       "1465     &#8220;@PlMPCESS: In the fashion world \"urban\" means \"stolen from black people\" its ghetto on us, and urban on them haha http://t.co/S0XWGfLJ9C&#8221; &#128588;\n",
       "7105     @sweetakin Only rich white liberals know what's best for black people. If they don't see that, they're obviously Uncle Toms.                                    \n",
       "8813     Don't mind black people.....hate niggers!                                                                                                                       \n",
       "10198    I don't feel like all black people are niggers but if you're black and you're being a nigger, imma tell you, idc                                                \n",
       "10499    I hate when black people try and be white so bad ... Your a nigger                                                                                              \n",
       "11979    It's stuff like this that makes black people look retarded. It's not expressing yourself its stupidity http://t.co/MxbGfPvICF                                   \n",
       "13099    My nig \"@im_me_mi: \"@oneshadowlove: yes black people live in Wisconsin lmao @80sbaby4life\"shock da shit out me too #learnsomethingeveryday\"                     \n",
       "16908    RT @PlMPCESS: In the fashion world \"urban\" definitely means \"stolen from black people\" it's ghetto on us, and urban on them haha http://t.c&#8230;              \n",
       "17000    RT @RT_America: US Army removes &#8216;negro&#8217; as official reference to black people after public outrage http://t.co/qtiTEzE7Bh http://t.co/nudHr&#8230;  \n",
       "21025    Some black people live in an entirely different world where everything is peaches and cream, apparently. Take off the rose colored glasses.                     \n",
       "21620    The thing about working with black people. These bitches never on fucking time then wanna complain about a short check. Bitch die.Today. now                    \n",
       "Name: tweet, dtype: object"
      ]
     },
     "execution_count": 34,
     "metadata": {},
     "output_type": "execute_result"
    }
   ],
   "source": [
    "df[df['tweet'].str.contains(\"black people\")]['tweet']"
   ]
  },
  {
   "cell_type": "markdown",
   "metadata": {},
   "source": [
    "Before we go further, we'll build a quick function to remove the nonletters from the text."
   ]
  },
  {
   "cell_type": "code",
   "execution_count": 225,
   "metadata": {
    "collapsed": true
   },
   "outputs": [],
   "source": [
    "def clean_tweet(tweet):\n",
    "    # Remove nonletters\n",
    "    text_only = re.sub(\"[^a-zA-Z]\", \" \", tweet)\n",
    "    # Make it all lower case\n",
    "    lower = text_only.lower()\n",
    "    # Delete extra spaces\n",
    "    single_spaces = ' '.join(lower.split())\n",
    "    return single_spaces"
   ]
  },
  {
   "cell_type": "code",
   "execution_count": 226,
   "metadata": {
    "collapsed": true
   },
   "outputs": [],
   "source": [
    "all_tweets = df['tweet']\n",
    "clean_df = all_tweets.apply(clean_tweet)"
   ]
  },
  {
   "cell_type": "markdown",
   "metadata": {},
   "source": [
    "We don't want to switch all instances of \"black\" to \"white\" (and vice versa) because there are plenty of instances of those words that don't refer to people. To get around this I am making two lists - `black_phrases` and `white_phrases`. These are made by searching for all instances of \"black\" and \"white\" that actually refer to people, and putting that phrase in the list and the corresponding phrase (e.g. \"black man\" and \"white man\") in the opposite list. This will ensure that the nth entry in one list corresponds to the the nth entry in the other list."
   ]
  },
  {
   "cell_type": "code",
   "execution_count": 160,
   "metadata": {
    "collapsed": true
   },
   "outputs": [],
   "source": [
    "# phrases = ['black people', 'white people', 'black girl', 'white girl', 'nigger', 'nigga', 'cracker', 'cracka', 'whiggers',\n",
    "#          'white bitch', 'black bitch', 'white hoes', 'black hoes', 'white trash', 'black trash', 'white boy', 'black boy',\n",
    "#          'black man', 'white man', 'black men', 'white men', 'white woman', 'black woman', 'white women', 'black women',\n",
    "#         'whitey', 'blacky', 'black ass', 'white ass', 'black fag', 'white fag', 'black feminist', 'white feminist',\n",
    "#         'black dude', 'white dude']"
   ]
  },
  {
   "cell_type": "code",
   "execution_count": 228,
   "metadata": {},
   "outputs": [],
   "source": [
    "black_phrases = ['black people', 'black girl', 'nigger', 'nigga', 'black bitch',  'black hoes', 'black trash',\n",
    "                 'black boy', 'black man',  'black men', 'black woman', 'black women', 'blacky',\n",
    "                 'black ass', 'black fag','black feminist', 'black dude', 'black lady']\n",
    "white_phrases = ['white people', 'white girl', 'cracker', 'cracka', 'white bitch',  'white hoes',  'white trash',\n",
    "                 'white boy', 'white man',  'white men', 'white woman',  'white women', 'whitey',\n",
    "                 'white ass', 'white fag', 'white feminist', 'white dude', 'white lady']"
   ]
  },
  {
   "cell_type": "code",
   "execution_count": 229,
   "metadata": {
    "collapsed": true
   },
   "outputs": [],
   "source": [
    "all_phrases = black_phrases + white_phrases"
   ]
  },
  {
   "cell_type": "markdown",
   "metadata": {},
   "source": [
    "Now I need to find all the tweets that contain the words \"black\" or \"white\" but don't contain any of the words in `all_phrases`. I ran this search over and over again, each time adding another phrase to `black_phrases` and `white_phrases` until I felt like I got most of them."
   ]
  },
  {
   "cell_type": "code",
   "execution_count": 230,
   "metadata": {},
   "outputs": [
    {
     "data": {
      "text/plain": [
       "19       black bottle amp a bad bitch                                                                                                                \n",
       "83       blackchiquitita wow rt thatmanpalmer i m lost are those buttcheek piercings http t co yn guyouq yeah she s a hoe                            \n",
       "84       blacknerdjade ok sis she d rather be a broke bitch shrugs she ll have to tell me how it works for her                                       \n",
       "85       blackman tide whalelookyhere howdydowdy queer gaywad                                                                                        \n",
       "89       cb baby white thunduh alsarabsss hes a beaner smh you can tell hes a mexican                                                                \n",
       "97       celeynichole white thunduh how come you never bring me food i dont have a car retard                                                        \n",
       "106      crhedrys pussy licking pussy meow meow stopwhitepeople https t co keegdcjs k                                                                \n",
       "109      daedavidavie white thunduh im the bitch okay nudes pat wow                                                                                  \n",
       "110      devilgrimz vigxrarts you re fucking gay blacklisted hoe holding out for tehgodclan anyway http t co xuccwoetmn                              \n",
       "154      johnny perez white thunduh ha well iguess i make them hoes loyal bro theyll never be loyal that y they hoes my nig                          \n",
       "162      king shawn white thunduh that s where i get my yellow flags for being amazing hell yeah niggy                                               \n",
       "189      megamindnick white thunduh nah fam i gotta cheat with the hoes depends on the female i feel                                                 \n",
       "204      notoriousbm whiteponyjr ariza is a snake and a coward but at least he isn t a cripple like your hero roach lmaoo                            \n",
       "293      malibubarbie nd wtf is up with dark bitches with blonde please have several seats hoe looking like black amp milds out here                 \n",
       "306      alexissixela white thunduh i legit watched it for about or seconds so did i wtf prob cause were retarded smh                                \n",
       "315      bigbootybishopp white thunduh lassen cc the coach wants me i feel it youll get more my nig no doubt                                         \n",
       "348      jasmyncyniquee white thunduh k bye hoe um bye                                                                                               \n",
       "362      marackaf white thunduh aye yall ima tryout for the bowling team frfr tryouts passed tho no theres two more retard                           \n",
       "375      ozzie garza white thunduh i m so sure bitch frfr tf                                                                                         \n",
       "521      lmao blackbeauty rt sbaby life pound cake look like pussy http t co ufywcc xci                                                              \n",
       "561      the devil grows inside the hearts of the selfish and wicked white brown yellow and black color is not restricted                            \n",
       "609      you don t like us colored folks what the he ll you re not colored you white fucks                                                           \n",
       "745      nowplaying great white once bitten twice shy on thearrow http t co r wuxa jb                                                                \n",
       "776      somethingigetalot are you asian black hawaiian gay retarded drunk                                                                           \n",
       "779      stopwhitepeople rt abc cases of west nile virus infections reported in orange county this year dead birds found carrying virus              \n",
       "810      yankees damn you directtv blackout the yankee game with a freaking walk off you re killing me satellite douche                              \n",
       "898      porn android iphone ipad sex xxx masturbation a very hot black tranny is mastu http t co ofggmlxqaj                                         \n",
       "981      snapbackblac i seen a thot ass bitch in some high top whites                                                                                \n",
       "1024     rt funnyjulius actrist rt sheebonyblack hotkommodity a dao u bitches tripping smh http t co ywz nbnr                                        \n",
       "1113     ashlynwynns i m a mud shark because i have black friends makes perfect sense idiotic                                                        \n",
       "1143     black angelo first time with lol http t co mitmfpvvlw yuhhhh we hit that hoe                                                                \n",
       "1199     commonblackgiri bitch that s ham on her face http t co vsrayshd y rachel dority                                                             \n",
       "1200     commonblackgiri here s to all the kids who have never found their name on anything in a souvenir store thanks mom for the ghetto name       \n",
       "1227     drmalvo woods lamar http t co chnxcplzwr hidey hidey hoe white folk be all noyvous round coloreds                                           \n",
       "1347     juniormaye a lot of them are though attitudes be pure trash teamwhitegirls swirltheworld                                                    \n",
       "1357     keauram whitegoddesss repost http t co gcsrbhqoqp kush blunt convos a simple minded ho made this pic i bet                                  \n",
       "1412     maxwell larsen when you live this gay you can t be afraid of two black dicks in your butt you fucking queer                                 \n",
       "1445     nogovy smh bitches are such haters how dare they do this to her blackgirls jealousy http t co i nnm z yooo loool                            \n",
       "1458     onstar mondays are a whole lot better when you re driving a vehicle http t co liixxmzndz that white pussy uhhh get ya                       \n",
       "1639     dmill blackmigo kyrie fast than a bitch with the ball look like you out there lol lol i wish                                                \n",
       "1657     black jesus lil aerii happy new year check yo clock hun we got another hour lol they just did the lil count down thing                      \n",
       "1950     whiteboytatted dudes out here will try and fuck ya bitch behind ya back and tell you she aint good for ya its happend                       \n",
       "2176     but if a show about obama was called whitish y all motherfuckers would cry racist like lil bitches blackish                                 \n",
       "2280     feature car of yellow and black feature car buck tag is on the radiator support xx miles http t co nknfzqbo                                 \n",
       "2415     allielexilove i like them dark light carmel white red tan yellow blue purple green it doesnt matter what color they are                     \n",
       "2451     angllee ain t nobody offending u fuckin peckerwoods i despise of a no good white ungrateful honkey                                          \n",
       "2493     atblackface mrmooncricket uncleunco bobbybotsods fuckthemallcops racistnegro ape fuck u broke ass racist                                    \n",
       "2494     atblackface mrmooncricket uncleunco bobbybotsods fuckthemallcops racistnegro fuck u bitch                                                   \n",
       "2602     billionairecrow neelahrelates your what s wrong with the white race you fuckin coon slaying piece of poop please die alone                  \n",
       "2620     blackmanusa you re killin me man lt not all conservatives are racists just like not all nbp hate honkies                                    \n",
       "2621     black angelo chill cuz you ll regret it bro your hitting that hoe rn why quit                                                               \n",
       "2622     blackberrytroll blah if people are determined to think of you as a condescending bitch it s their loss                                      \n",
       "2623     blackman tide ha bitch i m pickin up beach babes left n right on the west coast http t co ldxnpohlyd                                        \n",
       "2624     blackman tide bandana orian they called me trailer trash for wearing my lil country getup                                                   \n",
       "2636     bloggerboxing yea what did it do for maidana it made him a greedy faggot loser atleast broner is black                                      \n",
       "2844     chokmah makob you said good bye dumb bitch snd i said ok what is it with you white devils i have nothing for you vampire lover of blood     \n",
       "2877     coley cee bitch do i look white to u                                                                                                        \n",
       "2888     complexmag i didn t know whitetears were blue and yellow lessonoftheday                                                                     \n",
       "2928     djsuggablack some people do shit to get shot at and then be like people hate me i dodge bullets karma is bitch                              \n",
       "2972     darknight it s showing fairy blocked me hajihuntingpat paulsmitheringa joedouglas jewjitsugrl blackorchidm taxman                           \n",
       "3041     dizzybala god awful and that dude is dorian eggplant black                                                                                  \n",
       "3083     dswizzle oh hell no u have no swag whats so ever not even a little bit with dem cheap ass pugs and why so have a rag on bitch u not black   \n",
       "3141     evan white jeremy hemsley really that s why we got side hoes                                                                                \n",
       "3166     femshaveballz have u spent significant time in any ghetto or witnessed the years of terrorism committed by police in the black community    \n",
       "3190     frankiejgrande ew queer white thirsty bitch                                                                                                 \n",
       "3229     gopblackchick barrackobama just said u s was full of nice giving smart ppl i thought we were mean unexceptional bitter clingers evolved     \n",
       "3259     gingerdemoness my shit s like an eggplant baby black and big enough so dat all da women gets dem a piece                                    \n",
       "3302     great white get it bc you called yourself a tool i called you a hoe bc hoes are tools hahahaha i m so funny                                 \n",
       "3326     gutta dadon i never really rocked with the white sole i feel ya bro but these my favorite foam of all time http t co ltssn ifj              \n",
       "3338     halawa not as sick as you muzzie trash jewjitsugrl joedouglas darknight blackorchidm http t co kqrmhszmpj                                   \n",
       "3417     hunglikerobby that was so gay and i was tanning bitch juvie made me white                                                                   \n",
       "3459     imnotmakingitup hey u just followed me not long ago gonna nip that in da bud like ur bio tho u know the white devils stole our our          \n",
       "3463     its makepeace i donno who demz iz but ima bout to get white gurll ghetto on there asses when i find out                                     \n",
       "4036     markhalperin wsjopinion barackobama anything to trash this black president                                                                  \n",
       "4041     marsdablackman thats why the hoes love her they can relate to being lonely amp depressed lol                                                \n",
       "4167     morning joe wonder how many us citizens have joined isis after listening to joe scarborough trash this black president good job joe         \n",
       "4177     mrmooncricket atblackface uncleunco bobbybotsods fuckthemallcops racistnegro bitch i m proud to be black ur a samba                         \n",
       "4179     mrmooncricket fuckthemallcops atblackface uncleunco bobbybotsods racistnegro y all is coons n uncle toms                                    \n",
       "4194     mrszookeeper cornfrmr when mary asked him about it said the part you eat is white you throw the yellow away                                 \n",
       "4248     natlfascist waspnse jews and white race traitors have to be swept clean so the aryan race can survive                                       \n",
       "4338     ole boy m eezy yes i m white washed because i don t go around repping my hood and saying a bunch of ignorant nig terms                      \n",
       "4504     realskipbayless man what about wilson being the nd black qb to win a chip talkn about trash talk no shine for russell                       \n",
       "4628     saltyblackbroad ma am did you clear that tweet with the naacp careful they may brand you race traitor for the nerve of thinking             \n",
       "4636     sammy sicko get me a bag of those pink n white coloured van sweets please thanks dude                                                       \n",
       "4642     sarahksilverman just saw your black nra skit it was vile you re not funny was a fan of yours not anymore cunt                               \n",
       "4644     sarahr y all gots to take da colored vacation kentucky fried chicken but only da white meat                                                 \n",
       "4715     slothng i can guarantee a few things you re white you ve never been anywhere near a real ghetto you or a relative is a pig                  \n",
       "4726     softestmuffin tee torahblaze at the end of the day they call yo dumb ass monkey picka nanny hoe but u luv them white devils                 \n",
       "4773     steveworks you its all about you and white conservative teabaggers you all make the world go round please be our rulers stockboy            \n",
       "4908     theblacktictac call me bitch again and see if i don t slap the sexy out of your mom and have justin timberlake bring it back                \n",
       "4913     thechicagobaker stopbeingfamous raniakhalek do birds have a out of wedlock rate is it white fathers that are running away                   \n",
       "4969     thereval you are not a cat you are a pussy black bored kid kills a cop by starting a fire where is the outrage you phony fnthefive          \n",
       "5141     whitekidwraps i was rt steal that bitch                                                                                                     \n",
       "5304     dreamchasers aint nobody got no time fo dat ghetto black lady voice                                                                         \n",
       "5356     theblacknerd wyd fag                                                                                                                        \n",
       "5370     black jesus bitch u know what i mean spell champ these nuts                                                                                 \n",
       "5371     black jesus yea i forgot i was talkin to a degenerate faggot                                                                                \n",
       "5402     fullawhite rt me to wey i went to the job interview high then a bitch straight stanking like dank haha eyes red then a hoe                  \n",
       "5424     shegotthis yellow rice black beans and pork chop sis                                                                                        \n",
       "5426     tee softestmuffin torahblaze after you spread that filth of urs to that white dog he amp the good ol boys were ltao on fuckin a monkey      \n",
       "5528     antiamnesty appsame whitehouse i agree no naturalized citizenship no anchor baby amnesty all go to parents country of origin                \n",
       "5626     blackrepublican how long after the name change will al memorabilia w redskins name be deemed racist and therby illegal                      \n",
       "5649     brandondgk the only boards i still have from them are just the tie dye ones monkey edition black and silver and the newest ones             \n",
       "5708     cgoodwoman stevenadamswv crystal probably only person in world interested in my poor black hillbilly jamaica poor white hillbilly wv idea   \n",
       "5885     dreadywhiteboy jwanurebay then the kid he sold it to brought it back to him cooked in a brownie                                             \n",
       "5893     dustincmc kevinkillsthngs ghetto black                                                                                                      \n",
       "5979     frankthetank jim mccloskey fran is a hillbilly virginia mountain man who has pre s white anglo saxon beliefs frankensteinmd kikme           \n",
       "6011     geokthree i literally just told black sins to his face how trash he is at the shop in hooping                                               \n",
       "6086     heydenbunsyolo jordan bird lovin yea native and black proud then a bitch                                                                    \n",
       "6111     iam troyal teflondon bossman carl mammy push you out and had a white baby like a bitch                                                      \n",
       "6120     igivepussycpr baker planted an m in that bitch when white guy lights the wick                                                               \n",
       "6133     inurselisa blackredsoxfan it s a nice way of callin y all honkies                                                                           \n",
       "6378     kcsnowwhite samsaunders don t forget nappy headed butt ugly bitch who s married to a muslim                                                 \n",
       "6522     kliontiii yfly lol tell liv none of her usual redneck hillbilly places an none of ur black gangsta places either                            \n",
       "6574     lillivonschtupp damage brazenmodels i don t likes dat magazine all da black folk look like dey one chromeasome away from da ape             \n",
       "6652     mcclearyb y other than those the university and the white black and red ones the rest trash anyway they just making shit up now             \n",
       "6818     patrickkimmis white remember dad running a rotary hoe over corn after a freeze to knock the dead leaves off after they turn brown           \n",
       "6997     seanphathaway that wasn t as bad though drawing conclusions about white america based on a person poll is a slippery slope                  \n",
       "7109     syd renae okay cool then i m not the only one mine is black and fuzzy and it has pink on the back in all sparkles hallelujah                \n",
       "7140     terrorwatchusa i think its about whites trying to be the most blackish what we in socal call wiggers liberals democrats                     \n",
       "7147     theechaco danawhite you watching this trash                                                                                                 \n",
       "7280     white thunduh my bitch dont want your ugly ass gtfo ol peyton manning lookin ass                                                            \n",
       "7281     white thunduh stfu you dont get any pussy fuck boy                                                                                          \n",
       "7282     whiteangelss fields devante bitch stfu u livin off our tax money too we pay shit just like u so don t get that white power shit to head     \n",
       "7283     whiteangelss fields devante mmm where the fuck is that at honkey u need to wake up and realize its and get off of the skin                  \n",
       "7287     whizkhidk rubyfakhoury amberadamzzz forget that bitch and come get some of this white chocolate                                             \n",
       "7337     xblackoutbarbie bitch don t retweet my question psh nasty ass ho                                                                            \n",
       "7373     youngblackbitch raspy ass voice annoying bitch                                                                                              \n",
       "7393     zhandlen i love white noise and love delillo i ve resisted reading house of leaves for years it mocks me on my shelf                        \n",
       "7473     a white lighter is bad luck not yellow ur stupid                                                                                            \n",
       "7584     all da white folk off twitter yet da colored tweet at night while y all sleep cuz you gotta woyke tomorrow                                  \n",
       "7592     all my gold is white not yellow                                                                                                             \n",
       "7678     aloha bitches minutes before i caught a ft greatwhite okaysomaybeimlying butiwasfishing http t co n ew zhep                                 \n",
       "7838     at a point where i ve got to make a tough life decision ice black translucent sole or solid black sole on my kd vi s blk or orange airbag   \n",
       "7935     bags bags that s that bag money trash bag black and it s filled up with money                                                               \n",
       "8103     black dynamite all the hoes gone my dick harder than slavery wall slides                                                                    \n",
       "8106     black cops want to kill white citizens spic cops want to kill anglo citizens zigeuner cops are all rapists                                  \n",
       "8107     black guy in class attempts to throw a paper ball into the trash misses mrs mundy you re a disgrace to your race marcus                     \n",
       "8109     black twitter needs to get off paul george dick about him impregnating a stripper wiz did tyga did kanye turned a hoe into a housewife      \n",
       "8125     bobby stole the black from gabby pedro but she kept all the ghetto lifemade                                                                 \n",
       "8173     breakfast fried chicken jerk chicken tater tots white rice nd press yellow rice nd beans mac nd cheese http t co usz gjnzl                  \n",
       "8230     bumoose ducking those insults like a scared white pussy                                                                                     \n",
       "8380     cants da coloreds and da white folk gets along we all be da same cept da colored men gots da bigga dicks                                    \n",
       "8401     celebrities teeth really be white as shit i mean don t get me wrong my shit aint yellow by far but i need whatever toothpaste they be using \n",
       "8736     dino in rare form rt baltsneakershow mind your business hoe rt drewhite annually rt baltsneakershow smh webb hurt                           \n",
       "8818     don t really care if a fighters black white yellow or dalmatian if he is good he is good                                                    \n",
       "8838     dooms rt gutta dadon white nubuck or leather for the upper of the foam makes them a pass to me white soles too http t co qivkeptlkj         \n",
       "8869     drunkkkk hotboxing these kushy blunts straight bumpin aob this hoe on some other shit bro i got mind fucked like when black zetzu betrayed  \n",
       "9623     haha macklemoore was just on my ferry boat bitches that black caddy                                                                         \n",
       "9803     hey everybody the white iron band plays this saturday on the slopes of lutsen mn at papa charlie s going to be a real                       \n",
       "10002    i almost blacked out little cunt was disrespecting my turtle and we don t disrespect gorilla                                                \n",
       "10021    i am for equality in the law for all people white black red yellow and blue homo s hetero s well i draw the line http t co ugzyrtkabw       \n",
       "10042    i be jamming skid row kix cinderella damn yankees bon jovi def leppard whitesnake extreme vinnie vincent invasion ratt scorpions etc        \n",
       "10260    i dont give a single shit who you are if you wear a suit and white cotton socks i am just going to assume you are functionally retarded     \n",
       "10354    i got ass cheeks on my white tee all these hoes keep grindin on me                                                                          \n",
       "10519    i hate when those little white kids try and act black like bitch you are white                                                              \n",
       "10568    i jus wanna watch this last episode of orange is the new black but netflix jus wants to be a bitch                                          \n",
       "10580    i just fucked an albino it was weird because it was like a white body impersonating a black voice like iggy azalea                          \n",
       "10644    i knows y all white folk only be playin wit me i colored and i knows my place                                                               \n",
       "10887    i show do like the jeffersons dat george make me wanna open up a dry cleaning stow and call all da white folk honkey                        \n",
       "11399    i m sticking with tha fluzzy s theory that black pussy tastes like strawberry milk                                                          \n",
       "11510    if i were born black i would have tons of kids never work get lots of free stuff amp bitch about it thank god i wasn t what a drag i d b    \n",
       "11531    if a spic ever talks to a white person and the white person kills them it s self defense                                                    \n",
       "11584    if the servers for black ops acts gay today this is my bitch fo the nite http t co rbdheia                                                  \n",
       "11887    it be so good to not gotta woyke in da moanin i da only colored dat woyke cuz colored folk be lazy and lives off da white guilt             \n",
       "11921    it s a bob schieffer holiday now he s proud and smitten that he s the good white guy hicks be damned everything is everything               \n",
       "11943    it s funny when u get a black female mad they start acting ghetto then a bitch                                                              \n",
       "12127    just got out the gym saw an old black hoe with the coldest body but the hoe had a jerry curl like it was                                    \n",
       "12158    just seen a dude wearing all black and white outfit with pyrex shorts she s getting some pussy tonight                                      \n",
       "12220    kentucky fried cater to da white folk no colored menu                                                                                       \n",
       "12261    kobe is fat amp im white rt jwill some people just retarded lol rt thetrackmamba y all really think kobe fat tho give me a break            \n",
       "12270    lmao joe was calling whitehouse offering advice yeah the president cares what a disgraced former redneck house guy from fl says morningjoe  \n",
       "12282    lmfao rt rickiroma shut up u slutty white hoe rt thotcho didn t know the pats got destroyed tonight lmfaoooo                                \n",
       "12545    lmfao rt luvv st eating pussy rt danablack st of what rt creativeblair i really want my braces off it s in the way                          \n",
       "12593    lol at these honkies talking trash i m done with this shit growup whitetrash                                                                \n",
       "12996    my black queen dreading my hairs thank you most high for this moor queen i asked you for i want to be better with her http t co ifmrpjgyic  \n",
       "13003    my brothers ex was a fat hog man i swear this is the reason why he doesn t have any money or anything right now it s cause of that white hoe\n",
       "13068    my manager flyy new brand pre order now w gt sevenflyy red lust amp cherry white beanies http t co lxjmbctgjj                               \n",
       "13250    new boss said my buttons on my shirt can t be white so i colored them hoes with a sharpie glossy                                            \n",
       "13378    no cuz redskins are dumpster juice rt trackinblackkev game of the week still the best rivalry in sports                                     \n",
       "13404    no these are only whites pies well do you have any negro pies                                                                               \n",
       "13455    not the type to take it slow turn a good girl into a hoe spookyblack                                                                        \n",
       "13519    obama s faves muslims black ghetto trash http t co qtfjraijwn via worldnetdaily                                                             \n",
       "13591    older black guy at factory i know none of these coons i work with tipped so here s he was right too                                         \n",
       "13616    on upenn campus all the black chicks here are trash but they re gonna be paid                                                               \n",
       "13642    one of my favorite songs there s a man on the shoreline with a white parakeet trying to make his bird go home http t co bq cbipk s          \n",
       "13669    only faggots use white ds s                                                                                                                 \n",
       "13748    paceys just told me about how flash was touching himself and he was turning yellow and black whatwashedoing                                 \n",
       "13974    rino trash like speakerboehner karlrove frankluntz see conservatives as the democrat party see blacks as their slave property tcot          \n",
       "14066    rt ag pearl black americans are worse off under bho http t co k iweugnyx well researched article bound to elicit cries of uncle tom         \n",
       "14145    rt aliyahkorea whiteculture thinking weave is ratchet and ghetto while extensions are perfectly fine                                        \n",
       "14270    rt blackhilton glad none of my followers can say they fucked noway yall hoes really make this a goal                                        \n",
       "14271    rt blackhilton some of y all hoes thighs be so thick and can t even walk yankee food                                                        \n",
       "14406    rt blackjeezuss i want a black guy thats wears jordans and has tattoos bitch thats a created player on k                                    \n",
       "14407    rt blackjeezuss when someone drops their trash mixtape in my dms http t co wkfjfjknci                                                       \n",
       "14408    rt blackjeezuss bitches cant finish a inch sub but want a inch dick                                                                         \n",
       "14410    rt blacknerdjade rt parkour lewis last hours rt the blueprint the last hour and a half of work trash just for existing                      \n",
       "14411    rt blacknerdjade rt fivefifths hell wrong with yall rt twantargaryen pecan pie and sweet potato pie trash http t co hh p pytx               \n",
       "14412    rt blackoutninja what a bitch                                                                                                               \n",
       "14416    rt blackman tide whalelookyhere trying to cat fish me like nuh uh bitch get in the back                                                     \n",
       "14472    rt brentlanders charlie my last two songs will be quasi religious songs for the sake of whiteironband who s coming up next                  \n",
       "14523    rt buckm se eric mariners whiteponyjr jc this faggot is a lil attention whore fuck him mute                                                 \n",
       "14525    rt buckm se whiteponyjr ivanrabago when i drink some beurs kid plus ur a faggot anyways                                                     \n",
       "14756    rt commonblackgiri when a hoe says hi to bae http t co bbmgjijf                                                                             \n",
       "14757    rt commonwhitegiri don t send me snapchats from something i wasn t invited to you rude ass bitch                                            \n",
       "14758    rt commonwhitegiri hiding your favorite snacks from your family bc you re a selfish bitch                                                   \n",
       "14759    rt commonwhitegrl mom why can t u just accept me for the bad bitch i am                                                                     \n",
       "14945    rt datnigpriest bookieg not all of us my nig i m light skin with a dark skin mentality lol we all black                                     \n",
       "14966    rt deemayweather brees you need a black hoe who cheating on her man that work offshore that would fuck you while the baby in the bed w      \n",
       "14988    rt devydevblack yung berg trying to fuck all these hoes                                                                                     \n",
       "15029    rt dookiewithme rt itsablackguy i m assuming she got a cup on rt assholefrmny her pussy got a bicep b wtf http t co cl jhgmxpi              \n",
       "15135    rt eviljeanyis thewhite coward is pussy                                                                                                     \n",
       "15182    rt femshaveballz lol at my mentions liberal you re a racist bitch liberal yeah kill all whites liberal is white liberal not                 \n",
       "15197    rt fit lifemike whitecholo chanelisabeth true i need to sleep to make them gainz bruh so all the hoes stay mirin p alright later            \n",
       "15272    rt funsizedyogi theblackvoice well how else will white ppl get us to forget our horrific past other than to paint a pretty picture of ho    \n",
       "15315    rt gopblackchick the racists are msnbc and its crew of anchors not right wing folks mharrisperry mocks mixed gop kids http t co             \n",
       "15475    rt hidevon the nae nae got to the white ppl it s too late ayoteeshh lmao they ate this hoe stonnaaaaa naenae https t co pn                  \n",
       "15684    rt its ms brenduh got kicked out of aa classes bc i laughed at a guy and called him a pussy for blacking out every time he drank            \n",
       "15694    rt jayreidofficial check out joy and pain my nicca im yung jay mme blackkingz https t co ezuqc knyg                                         \n",
       "15701    rt jen jen my old man has a white galaxy phone cuz he s a fag                                                                               \n",
       "15743    rt jamesblunt me me pick me rt blackeyelined who is a bigger twat james blunt or robin thicke                                               \n",
       "15745    rt jamesokeefeiii denver tv airs clip of digging through trash in ghetto aurora to put black and mexican ballots to good use http           \n",
       "16052    rt king shawn white thunduh dez is caked up with some bitch or something cause hes not playing like dez bryant god dammit patr              \n",
       "16094    rt kylekallgren you know how in superhero stories the best insult for superheroes dumb mooks can come up with is do gooder whiteknight      \n",
       "16103    rt lanurse here is a michaelbrown supporter she says whites are just evil albino black babies seriously tcot klsouth http t co p            \n",
       "16141    rt laquishabae racist white cops arresting blacks again can t wait till black cops arrest whities then hear them bitch fastfoodstrike       \n",
       "16284    rt lovelifeest west u look like an all black persian rug with no designs on that bitch and couple nut stains dingy boy                      \n",
       "16324    rt maniac x notoriousbm woody afc whiteponyjr santi l bamoose start crying and stalking him faggot i want to laff                           \n",
       "16366    rt mandylougraham we put a redneck in the white house it s gonna be the camo house moccasin creek                                           \n",
       "16405    rt maxdelacruz happy birthday bitch whitecholo http t co dmeqqfl x                                                                          \n",
       "16437    rt michaelblackson shoutout to chrisbrown for beating up another bitch                                                                      \n",
       "16438    rt michaelblackson this tall goofy bitch just walked in the club sit your britney griner lookin ass down                                    \n",
       "16465    rt mikeyblackheart i never talk to anybody has dinner with family i hate everyone defends people when i call them cunts                     \n",
       "16578    rt mymangot jobs who is she ill fight her bestie rt veronicagk then this bitch in my class wanna copy my homework off blackboard disc       \n",
       "16705    rt notoriousbm abel whiteponyjr fallenloki stick to hockey faggot you re finished                                                           \n",
       "16729    rt o millz black pussy remind me of roast beef white pussy remind me of cheesecake and mixed girl pussy remind me of apple pie              \n",
       "16817    rt opatz fuck michelle obama that monkey doesnt belong in the white house                                                                   \n",
       "16875    rt patt bentancur zzachbarness agrisbhy whiteboicoleman had to help my gma move bitch                                                       \n",
       "17079    rt redscarebot commie amp mints rt whiteponyjr f kkk this faggot commie http t co lnqnpchcia                                                \n",
       "17118    rt robisrandomaf tyrese a baby back bitch hope they kill him before black history month amcwalkingdead                                      \n",
       "17219    rt scarlett iam you d rather live with trash than make it work with a good woman diaryofamadblackwoman                                      \n",
       "17434    rt stevestfler stop talking ghetto you re white http t co wzbdbi f k                                                                        \n",
       "17463    rt stuff blackppl not basic bitches                                                                                                         \n",
       "17604    rt thaddiemac light skin bitches cheat on their man dark skin bitches squirt bike chain oil latinas will cut your dick off amp white gir    \n",
       "17606    rt thatbajankidd neveraskablackperson if her hair is hers she will hit you with a bitch i bought it so it s mine                            \n",
       "17627    rt theafricansiren automatically suspicious of white folk who try too hard to show they like us darkies                                     \n",
       "17633    rt thebananafacts wiz khalifas s song black and yellow is a beautiful song about a bruised banana                                           \n",
       "17706    rt thepoke this crow in aberdeen just won at photobombing pic by steve black via dailymirror http t co qdclxyjoct                           \n",
       "17730    rt thetypicalchick why do you always wear black cause i m ready for your funeral bitch                                                      \n",
       "17759    rt things whiteppl being pussy whipped http t co bxg pbng                                                                                   \n",
       "17808    rt tooracist some black guy at my school asked if there were colored printers in the library it s man you can use any printer you           \n",
       "18032    rt waynedupreeshow mt coachktola waynedupreeshow is paid by white supremacist they always get a negro to do their dirty work fergus         \n",
       "18057    rt whiteboyceezy these hoes too familiar                                                                                                    \n",
       "18059    rt whitepeopletalk kobe as they shoot a piece of paper into the trash                                                                       \n",
       "18060    rt whiteboicoleman stepping away from the twitter beef i m going to bed cause i gotta be up at gotta go be a redneck asshole at my us       \n",
       "18061    rt whiteboyyx behind that twinkle in your eyes i can see the bitch in you                                                                   \n",
       "18063    rt whitesidemzu me mom can you make me a sandwhich doesnt hear whispers to myself deaf bitch mom what the fuck did you just sa              \n",
       "18085    rt woody afc maniac x whiteponyjr lmaoooo what a bunch of fags                                                                              \n",
       "18086    rt woody afc whiteponyjr ivanrabago no doubt about it i mean its cute tossing around trash cans and having lb mexican boys wantin           \n",
       "18150    rt yankees ballgame over yankees win yanks beat the white sox in innings                                                                    \n",
       "18241    rt bayou bob white thunduh why does nobody believe me when i say im a virgin dewd wtf no you aint hoe                                       \n",
       "18363    rt whiteponyjr eric mariners jc peace out then faggot http t co qsgycvcvap                                                                  \n",
       "18521    rt ahmadblack can someone find the georgia fan who talked trash to me and told me he hope we don t end up like tennessee tell him i m       \n",
       "18545    rt allisonnamaya whitecholo omg nathaniel no come here mr pussy mr pussy where are you lol                                                  \n",
       "18564    rt andrewtylerdick zwhite or run wildcat let romo run that deep post and have murray bomb that bitch to tony                                \n",
       "18666    rt bjs elect democratic nominee amos powers powers congress tn defeat tea diane black red blue tntweeters cir http t c                      \n",
       "18671    rt blackrepublican spike lee is one of those wealthy people he bitches about that s causing gentrification                                  \n",
       "18736    rt chanelisabeth happy th birthday to my main hoe and partner in crime bountyhunters lyfe whitecholo                                        \n",
       "18770    rt cigarsnscotch what s black and yellow and not going to win this year wrong the answer is tiger woods                                     \n",
       "18778    rt cockyblackguy when a hoe get outta line featuring ssippihippie cat http t co vhgexgipas                                                  \n",
       "18810    rt crystalcheyenne whiteboicoleman thought you were sleeping bitch                                                                          \n",
       "18881    rt devonceeknowles uhm bitch the fuck its wednesday and we are suppose to wear black u can t sit with us http t co elxi kys b               \n",
       "18955    rt elchavaloko whiteponyjr buckm se eric mariners i see you guys kicked this long haired faggot out your lil video game team                \n",
       "18956    rt elchavaloko whiteponyjr saucygyro buckm se so you gonna believe me a cripple or a fuckn hippo                                            \n",
       "19002    rt fields devante whiteangelss now let s get onto you you slingy dingy ugly salamander lookin bitch i will not waist my time tweeti         \n",
       "19033    rt gab mccarthy rosestokoe juliamarie suline violetethompson camatuzzo but then there s the yellow writing on the black jerse               \n",
       "19046    rt gioisblack goodbye you faggot http t co ojkzjkgvxl                                                                                       \n",
       "19135    rt ibanexx shinsnipes thanks for being black in darth and now years old you kinky hentai son of a bitch                                     \n",
       "19244    rt ilywhitesiders jacob needs to stop being a little bitch and follow me on instagram                                                       \n",
       "19257    rt inmysexdreams i love black shoes cause i can match them with anything but i also need some colored shoes                                 \n",
       "19301    rt ivanrabago infamouscoryog whiteponyjr eakaerick there s only like one retarded fucking beaner that does and he s a stupid ass ex         \n",
       "19572    rt longbongchris woridstarhlphop white twitter when they get in an argument https t co u dfp xj b i wouldve bitch slapped her into          \n",
       "19645    rt maycie whitecholo np big nig nig                                                                                                         \n",
       "19646    rt maycie whitecholo ya by being your bitch                                                                                                 \n",
       "19777    rt obeyyreggie stfu hoe rt tedddydgaf i m proud to be african american proud african american i m proud to be white racist                  \n",
       "19844    rt pissyopants man robin thicke all on black tv trying to get that pussy back                                                               \n",
       "19974    rt saucygyro whiteponyjr ugly bitch has blood on her hands for her whore ways                                                               \n",
       "20016    rt sidneeyrosee fuckin skyler white is such a bitch                                                                                         \n",
       "20030    rt slbgng eddie white thunduh on boys im a retard sometimes all the time                                                                    \n",
       "20031    rt slbgng eddie white thunduh bitch spoil me                                                                                                \n",
       "20072    rt stillandru white ppl will call mexicans beaners and claim they taking their jobs but have sugar skull tattoos                            \n",
       "20097    rt taylor tm pacmanjonez philwotg you the whitest person on my tl but you always so ghetto im sick of it                                    \n",
       "20172    rt thewhite gucci this bitch just blew my high and i was high off all of these drugs                                                        \n",
       "20179    rt thirlrection i will fight a bitch for austin that s my gringo right there ain t no one messing with my white chocolate drop              \n",
       "20214    rt trackinblackkev michelledbeadle shut the fuck up dumb bitch                                                                              \n",
       "20316    rt whiteboytatted shout out to all you girls that wear those holy cross leggings but got a pussy thats full of sin                          \n",
       "20320    rt willyroast ratchet hoes wear flip flops that curl up and turned black like souls of slaves walked in them                                \n",
       "20648    seattle mayoral election this year a choice between a bunch of women non whites and faggots fag lovers http t co rwhgmrlazx                 \n",
       "20687    sesh with my n words say it like a white kid yes my kush is betta than yours u are a whore so please kill yo self fool bitch ass            \n",
       "20833    shutup faggot rt black taco to fumble thotcho took them a while                                                                             \n",
       "20866    sitting alone watching white chicks no pants fuzzy blankets tea turn up                                                                     \n",
       "20889    slut i ain t playin go find a white crayon and color a fuckin zebra                                                                         \n",
       "20937    so sterling bitch gotta he a hoe aye she paid and you re mad dont blame the bitch she half black                                            \n",
       "20965    so much more going on but hypocrisy doesn t sit well with me my redneck family from central illinois more black then bieber                 \n",
       "21110    sorry fo da rant it make me mad and ashamed to be colored i wish i be white so y all would like me                                          \n",
       "21124    speaking of rt kinghorsedick a lot of them backpage hoes don t like fucking black guys so i never went thru with it                         \n",
       "21235    surrender of divinity conquerors of the apocalypse http t co qv rsy p via youtube gt oriental black metal hell                              \n",
       "21243    sweet milf in white lingerie has her hose ripped and her pussy pounded http t co cmacswjn a                                                 \n",
       "21859    they come to you out of the blue they make others see red and green with envy they aren t always black or white you re not yellow luckily   \n",
       "21923    this uncle tom mother fucking wants to invoke a man in his speech dude you ain t white no matter how much http t co yrcyc ezc               \n",
       "22182    thw white iron band plays this weekend in fargo nd at the aquarium friday with charlie parr the next night saturday                         \n",
       "22359    ugh i can t stand a bitch that smokes black amp milds they make me itch                                                                     \n",
       "22598    what be the peckin order white christian colored porto ricans arab jews i donts know i be axin                                              \n",
       "22614    what manner of black folk take their kids riding in the ghetto to point out misplaced youth and victimized amp cursed brethren and say      \n",
       "22799    white kids black kids yellow kids hell even purple kids if you carry yourselves like daniel geale you will go far gealemundine              \n",
       "22824    who would ve known that jesus ll come back to the ghetto on that level and that thorough like a black heroine                               \n",
       "23118    yea randy that white changed my whole mind that hoe nice                                                                                    \n",
       "23158    yes lawd jusdahl god took extra time on you jaleesaraex you have lips like kylie jenner bitch i m black http t co zj guu pcm                \n",
       "23338    you just salty you ugly and white rt jaywiz itsnotharold they all some hoes                                                                 \n",
       "23340    you know i m not big on the nfl but i m so sick of hearing all of this black and yellow shit lol bandwagon fans and hell go packers         \n",
       "23466    you re black your name looks hungarian you marry a hunky juliesczesny chrisloesch                                                           \n",
       "23529    a bitch can have two black eyes bloody lip scalp bleeding bruises and a broken arm and still be like but i love him lmao                    \n",
       "23536    after the steelers lost the superbowl i loaded up the black and yellow gmix on my moms computer i think the youtube page is still open      \n",
       "23652    bitch you re white stfu with your shitty spanish                                                                                            \n",
       "23703    can t decide if i should wear my yellow rain boots for the purposes of being all black amp yellow errrrything                               \n",
       "23713    cheeky lol rt melisa jay i want those all black and yellow s again ughh i those                                                             \n",
       "23727    country boy hick lyfe white tee rebel flag                                                                                                  \n",
       "23812    f u tumblr bc my blog is black amp white but there s so many great colored things i could reblog fml                                        \n",
       "23878    greatwhiteprivilege straight people are like can we all just be nice to each other and queer people are http t co mikfblnzii                \n",
       "23946    how much you wanna bet that a anti government black helicopter teabagger was behind the boston marathon explosions twitchyteam p tcot       \n",
       "24064    iggy wanna be black so bad ur a white widow hoe                                                                                             \n",
       "24156    lmao i s g having roots with yellow white hair makes it look so dirty i m http t co sqbyduizr                                               \n",
       "24165    lmaoooo rt phillytheboss everything on bet is trash rt mrcook b rad rt fkinlive white mike was on bet he can t be trash                     \n",
       "24229    my drugs are green my bitches white                                                                                                         \n",
       "24389    redneck in the white house moccasin creek                                                                                                   \n",
       "24697    why is this thirsty white basic ass bitch still talking to me gtfo                                                                          \n",
       "24782    ruffled ntac eileen dahlia beautiful color combination of pink orange yellow amp white a coll http t co h dyebvnzb                          \n",
       "Name: tweet, dtype: object"
      ]
     },
     "execution_count": 230,
     "metadata": {},
     "output_type": "execute_result"
    }
   ],
   "source": [
    "clean_df[(clean_df.str.contains(\"black\") | clean_df.str.contains(\"white\")) & ~clean_df.str.contains('|'.join(words))]"
   ]
  },
  {
   "cell_type": "code",
   "execution_count": 231,
   "metadata": {},
   "outputs": [],
   "source": [
    "#df[(df['tweet'].str.contains(\"black\") | df['tweet'].str.contains(\"white\")) & ~df['tweet'].str.contains('|'.join(all_phrases))]['tweet']"
   ]
  },
  {
   "cell_type": "markdown",
   "metadata": {},
   "source": [
    "Now go through the data set and add new data"
   ]
  },
  {
   "cell_type": "markdown",
   "metadata": {},
   "source": [
    "Now we'll go through the df and each time we see a black phrase we'll add a version with the white phrase. We'll make a new df to add the phrases to"
   ]
  },
  {
   "cell_type": "code",
   "execution_count": 237,
   "metadata": {},
   "outputs": [
    {
     "name": "stderr",
     "output_type": "stream",
     "text": [
      "C:\\Users\\HMISYS\\Anaconda3\\lib\\site-packages\\ipykernel_launcher.py:11: SettingWithCopyWarning: \n",
      "A value is trying to be set on a copy of a slice from a DataFrame\n",
      "\n",
      "See the caveats in the documentation: http://pandas.pydata.org/pandas-docs/stable/indexing.html#indexing-view-versus-copy\n",
      "  # This is added back by InteractiveShellApp.init_path()\n",
      "C:\\Users\\HMISYS\\Anaconda3\\lib\\site-packages\\ipykernel_launcher.py:13: SettingWithCopyWarning: \n",
      "A value is trying to be set on a copy of a slice from a DataFrame\n",
      "\n",
      "See the caveats in the documentation: http://pandas.pydata.org/pandas-docs/stable/indexing.html#indexing-view-versus-copy\n",
      "  del sys.path[0]\n"
     ]
    }
   ],
   "source": [
    "# Create an empty dataframe with the same columns\n",
    "white_phrase_df = df[0:0]\n",
    "for x in range(len(df)):\n",
    "    for y in range(len(black_phrases)):\n",
    "        if black_phrases[y] in df.loc[x]['tweet']:\n",
    "            #print(df.loc[x]['tweet'])\n",
    "            white_phrase_draft = df.loc[x]\n",
    "            # Switch out the black phrase for the equivalent white phrase\n",
    "            temp_tweet = white_phrase_draft['tweet'].replace(black_phrases[y], white_phrases[y])\n",
    "            # Insert the new tweet\n",
    "            white_phrase_draft['tweet'] = temp_tweet\n",
    "            # Add the phrase to the end of the white phrase df\n",
    "            white_phrase_df.loc[(len(white_phrase_df))] = white_phrase_draft"
   ]
  },
  {
   "cell_type": "markdown",
   "metadata": {},
   "source": [
    "Now let's do the same thing except flip the race roles"
   ]
  },
  {
   "cell_type": "code",
   "execution_count": 238,
   "metadata": {},
   "outputs": [
    {
     "name": "stderr",
     "output_type": "stream",
     "text": [
      "C:\\Users\\HMISYS\\Anaconda3\\lib\\site-packages\\ipykernel_launcher.py:11: SettingWithCopyWarning: \n",
      "A value is trying to be set on a copy of a slice from a DataFrame\n",
      "\n",
      "See the caveats in the documentation: http://pandas.pydata.org/pandas-docs/stable/indexing.html#indexing-view-versus-copy\n",
      "  # This is added back by InteractiveShellApp.init_path()\n",
      "C:\\Users\\HMISYS\\Anaconda3\\lib\\site-packages\\ipykernel_launcher.py:13: SettingWithCopyWarning: \n",
      "A value is trying to be set on a copy of a slice from a DataFrame\n",
      "\n",
      "See the caveats in the documentation: http://pandas.pydata.org/pandas-docs/stable/indexing.html#indexing-view-versus-copy\n",
      "  del sys.path[0]\n"
     ]
    }
   ],
   "source": [
    "# Create an empty dataframe with the same columns\n",
    "black_phrase_df = df[0:0]\n",
    "for x in range(len(df)):\n",
    "    for y in range(len(white_phrases)):\n",
    "        if white_phrases[y] in df.loc[x]['tweet']:\n",
    "            #print(df.loc[x]['tweet'])\n",
    "            black_phrase_draft = df.loc[x]\n",
    "            # Switch out the black phrase for the equivalent white phrase\n",
    "            temp_tweet = black_phrase_draft['tweet'].replace(white_phrases[y], black_phrases[y])\n",
    "            # Insert the new tweet\n",
    "            black_phrase_draft['tweet'] = temp_tweet\n",
    "            # Add the phrase to the end of the white phrase df\n",
    "            black_phrase_df.loc[(len(black_phrase_df))] = black_phrase_draft"
   ]
  },
  {
   "cell_type": "code",
   "execution_count": 239,
   "metadata": {},
   "outputs": [
    {
     "data": {
      "text/html": [
       "<div>\n",
       "<style>\n",
       "    .dataframe thead tr:only-child th {\n",
       "        text-align: right;\n",
       "    }\n",
       "\n",
       "    .dataframe thead th {\n",
       "        text-align: left;\n",
       "    }\n",
       "\n",
       "    .dataframe tbody tr th {\n",
       "        vertical-align: top;\n",
       "    }\n",
       "</style>\n",
       "<table border=\"1\" class=\"dataframe\">\n",
       "  <thead>\n",
       "    <tr style=\"text-align: right;\">\n",
       "      <th></th>\n",
       "      <th>Unnamed: 0</th>\n",
       "      <th>count</th>\n",
       "      <th>hate_speech</th>\n",
       "      <th>offensive_language</th>\n",
       "      <th>neither</th>\n",
       "      <th>class</th>\n",
       "      <th>tweet</th>\n",
       "    </tr>\n",
       "  </thead>\n",
       "  <tbody>\n",
       "    <tr>\n",
       "      <th>0</th>\n",
       "      <td>15</td>\n",
       "      <td>3</td>\n",
       "      <td>0</td>\n",
       "      <td>3</td>\n",
       "      <td>0</td>\n",
       "      <td>1</td>\n",
       "      <td>\" bitch cracka miss me with it \"</td>\n",
       "    </tr>\n",
       "    <tr>\n",
       "      <th>1</th>\n",
       "      <td>32</td>\n",
       "      <td>3</td>\n",
       "      <td>0</td>\n",
       "      <td>3</td>\n",
       "      <td>0</td>\n",
       "      <td>1</td>\n",
       "      <td>\" if you aint bout that Murder Game pussy cracka shut up \"</td>\n",
       "    </tr>\n",
       "    <tr>\n",
       "      <th>2</th>\n",
       "      <td>49</td>\n",
       "      <td>3</td>\n",
       "      <td>1</td>\n",
       "      <td>2</td>\n",
       "      <td>0</td>\n",
       "      <td>1</td>\n",
       "      <td>\" these hoes like crackas that spend money not talk bout it \"</td>\n",
       "    </tr>\n",
       "    <tr>\n",
       "      <th>3</th>\n",
       "      <td>50</td>\n",
       "      <td>3</td>\n",
       "      <td>1</td>\n",
       "      <td>2</td>\n",
       "      <td>0</td>\n",
       "      <td>1</td>\n",
       "      <td>\" we dont trust these crackas all these bitches \"</td>\n",
       "    </tr>\n",
       "    <tr>\n",
       "      <th>4</th>\n",
       "      <td>51</td>\n",
       "      <td>3</td>\n",
       "      <td>0</td>\n",
       "      <td>3</td>\n",
       "      <td>0</td>\n",
       "      <td>1</td>\n",
       "      <td>\" yall crackas b cuffing hoes cause yall aint never have bitches \"</td>\n",
       "    </tr>\n",
       "  </tbody>\n",
       "</table>\n",
       "</div>"
      ],
      "text/plain": [
       "   Unnamed: 0  count  hate_speech  offensive_language  neither  class  \\\n",
       "0  15          3      0            3                   0        1       \n",
       "1  32          3      0            3                   0        1       \n",
       "2  49          3      1            2                   0        1       \n",
       "3  50          3      1            2                   0        1       \n",
       "4  51          3      0            3                   0        1       \n",
       "\n",
       "                                                                tweet  \n",
       "0  \" bitch cracka miss me with it \"                                    \n",
       "1  \" if you aint bout that Murder Game pussy cracka shut up \"          \n",
       "2  \" these hoes like crackas that spend money not talk bout it \"       \n",
       "3  \" we dont trust these crackas all these bitches \"                   \n",
       "4  \" yall crackas b cuffing hoes cause yall aint never have bitches \"  "
      ]
     },
     "execution_count": 239,
     "metadata": {},
     "output_type": "execute_result"
    }
   ],
   "source": [
    "white_phrase_df.head()"
   ]
  },
  {
   "cell_type": "markdown",
   "metadata": {},
   "source": [
    "Let's see how many instances we added"
   ]
  },
  {
   "cell_type": "code",
   "execution_count": 240,
   "metadata": {},
   "outputs": [
    {
     "name": "stdout",
     "output_type": "stream",
     "text": [
      "2318\n",
      "365\n"
     ]
    }
   ],
   "source": [
    "print(len(white_phrase_df))\n",
    "print(len(black_phrase_df))"
   ]
  },
  {
   "cell_type": "markdown",
   "metadata": {},
   "source": [
    "For example, here's a newly created phrase:"
   ]
  },
  {
   "cell_type": "code",
   "execution_count": 214,
   "metadata": {},
   "outputs": [
    {
     "data": {
      "text/html": [
       "<div>\n",
       "<style>\n",
       "    .dataframe thead tr:only-child th {\n",
       "        text-align: right;\n",
       "    }\n",
       "\n",
       "    .dataframe thead th {\n",
       "        text-align: left;\n",
       "    }\n",
       "\n",
       "    .dataframe tbody tr th {\n",
       "        vertical-align: top;\n",
       "    }\n",
       "</style>\n",
       "<table border=\"1\" class=\"dataframe\">\n",
       "  <thead>\n",
       "    <tr style=\"text-align: right;\">\n",
       "      <th></th>\n",
       "      <th>Unnamed: 0</th>\n",
       "      <th>count</th>\n",
       "      <th>hate_speech</th>\n",
       "      <th>offensive_language</th>\n",
       "      <th>neither</th>\n",
       "      <th>class</th>\n",
       "      <th>tweet</th>\n",
       "    </tr>\n",
       "  </thead>\n",
       "  <tbody>\n",
       "    <tr>\n",
       "      <th>0</th>\n",
       "      <td>15</td>\n",
       "      <td>3</td>\n",
       "      <td>0</td>\n",
       "      <td>3</td>\n",
       "      <td>0</td>\n",
       "      <td>1</td>\n",
       "      <td>\" bitch cracka miss me with it \"</td>\n",
       "    </tr>\n",
       "  </tbody>\n",
       "</table>\n",
       "</div>"
      ],
      "text/plain": [
       "   Unnamed: 0  count  hate_speech  offensive_language  neither  class  \\\n",
       "0  15          3      0            3                   0        1       \n",
       "\n",
       "                              tweet  \n",
       "0  \" bitch cracka miss me with it \"  "
      ]
     },
     "execution_count": 214,
     "metadata": {},
     "output_type": "execute_result"
    }
   ],
   "source": [
    "white_phrase_df[white_phrase_df['Unnamed: 0'] == 15]"
   ]
  },
  {
   "cell_type": "markdown",
   "metadata": {},
   "source": [
    "And here's the original:"
   ]
  },
  {
   "cell_type": "code",
   "execution_count": 217,
   "metadata": {},
   "outputs": [
    {
     "data": {
      "text/html": [
       "<div>\n",
       "<style>\n",
       "    .dataframe thead tr:only-child th {\n",
       "        text-align: right;\n",
       "    }\n",
       "\n",
       "    .dataframe thead th {\n",
       "        text-align: left;\n",
       "    }\n",
       "\n",
       "    .dataframe tbody tr th {\n",
       "        vertical-align: top;\n",
       "    }\n",
       "</style>\n",
       "<table border=\"1\" class=\"dataframe\">\n",
       "  <thead>\n",
       "    <tr style=\"text-align: right;\">\n",
       "      <th></th>\n",
       "      <th>Unnamed: 0</th>\n",
       "      <th>count</th>\n",
       "      <th>hate_speech</th>\n",
       "      <th>offensive_language</th>\n",
       "      <th>neither</th>\n",
       "      <th>class</th>\n",
       "      <th>tweet</th>\n",
       "    </tr>\n",
       "  </thead>\n",
       "  <tbody>\n",
       "    <tr>\n",
       "      <th>15</th>\n",
       "      <td>15</td>\n",
       "      <td>3</td>\n",
       "      <td>0</td>\n",
       "      <td>3</td>\n",
       "      <td>0</td>\n",
       "      <td>1</td>\n",
       "      <td>\" bitch nigga miss me with it \"</td>\n",
       "    </tr>\n",
       "  </tbody>\n",
       "</table>\n",
       "</div>"
      ],
      "text/plain": [
       "    Unnamed: 0  count  hate_speech  offensive_language  neither  class  \\\n",
       "15  15          3      0            3                   0        1       \n",
       "\n",
       "                              tweet  \n",
       "15  \" bitch nigga miss me with it \"  "
      ]
     },
     "execution_count": 217,
     "metadata": {},
     "output_type": "execute_result"
    }
   ],
   "source": [
    "df[df['Unnamed: 0'] == 15]"
   ]
  },
  {
   "cell_type": "markdown",
   "metadata": {},
   "source": [
    "Now append them to the original data frame"
   ]
  },
  {
   "cell_type": "code",
   "execution_count": 245,
   "metadata": {},
   "outputs": [],
   "source": [
    "df = df.append(white_phrase_df)\n",
    "df = df.append(black_phrase_df)"
   ]
  },
  {
   "cell_type": "code",
   "execution_count": 246,
   "metadata": {},
   "outputs": [
    {
     "data": {
      "text/plain": [
       "27466"
      ]
     },
     "execution_count": 246,
     "metadata": {},
     "output_type": "execute_result"
    }
   ],
   "source": [
    "len(df)"
   ]
  },
  {
   "cell_type": "markdown",
   "metadata": {},
   "source": [
    "We're started with 24783 samples and now have 27466."
   ]
  }
 ],
 "metadata": {
  "kernelspec": {
   "display_name": "Python 3",
   "language": "python",
   "name": "python3"
  },
  "language_info": {
   "codemirror_mode": {
    "name": "ipython",
    "version": 3
   },
   "file_extension": ".py",
   "mimetype": "text/x-python",
   "name": "python",
   "nbconvert_exporter": "python",
   "pygments_lexer": "ipython3",
   "version": "3.6.2"
  }
 },
 "nbformat": 4,
 "nbformat_minor": 2
}
