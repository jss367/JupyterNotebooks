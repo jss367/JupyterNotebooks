{
 "cells": [
  {
   "cell_type": "code",
   "execution_count": 10,
   "metadata": {
    "collapsed": true,
    "deletable": true,
    "editable": true
   },
   "outputs": [],
   "source": [
    "from urllib import request\n",
    "import nltk\n",
    "import os\n",
    "import re\n",
    "#import os.path\n",
    "import matplotlib.pyplot as plt\n",
    "import pandas as pd\n",
    "import matplotlib.pyplot as plt\n",
    "import numpy as np"
   ]
  },
  {
   "cell_type": "code",
   "execution_count": 2,
   "metadata": {
    "collapsed": true,
    "deletable": true,
    "editable": true
   },
   "outputs": [],
   "source": [
    "class Book(object):\n",
    "    all_books = []\n",
    "    def __init__(self, title, url, start=0, end=-1):\n",
    "        # start is the location of where the book actually begins in the text file (skips headers, publisher info, etc.)\n",
    "        # Let's create an end text so we can just grab a small amount for testing\n",
    "        self.title = title\n",
    "        self.url = url\n",
    "        self.start = start\n",
    "        self.end = end\n",
    "        self.raw_ = None\n",
    "        self.tokens_ = None\n",
    "        # self.words = None\n",
    "        # self.words2tokens = None\n",
    "        self.pos_ = None\n",
    "\n",
    "    def __str__(self):\n",
    "        return self.title\n",
    "\n",
    "    @property\n",
    "    def raw(self):\n",
    "        if self.raw_ is None:\n",
    "            #First check if the file is stored locally\n",
    "            fname = 'corpora/canon_texts/' + self.title\n",
    "            if os.path.isfile(fname):\n",
    "                print(\"File already exists\")\n",
    "                print(\"Extracting text from file\")\n",
    "                with open(fname, 'r') as f:\n",
    "                    raw = f.read()\n",
    "            else:\n",
    "                print(\"{title} does not already exist. Grabbing from project Gutenberg\".format(title=self.title))\n",
    "                response = request.urlopen(self.url)\n",
    "                raw = response.read().decode('utf-8-sig')\n",
    "                print(\"Now let's save it\")\n",
    "                with open(fname, 'w') as outfile:\n",
    "                    outfile.write(raw)\n",
    "        self.raw_ = raw[self.start:self.end]\n",
    "        return self.raw_\n",
    "    \n",
    "    @property\n",
    "    def tokens(self):\n",
    "        if self.tokens_ is None:\n",
    "            self.tokens_ = nltk.word_tokenize(self.raw)\n",
    "        return self.tokens_\n",
    "\n",
    "\n",
    "    @property\n",
    "    def pos(self):\n",
    "        if self.pos_ == None:\n",
    "            \n",
    "            def mytagger(tokens):\n",
    "                '''This function inputs tokens'''\n",
    "                tags = nltk.pos_tag(tokens)\n",
    "                return tags\n",
    "\n",
    "            tagged = mytagger(self.tokens)\n",
    "\n",
    "            # Note that IN can be either a preposition or a conjunction, for now we're going to list it with the prepositions\n",
    "            common_noun_pos = ['NN', 'NNS']\n",
    "            common_nouns = []\n",
    "            verb_pos = ['VB', 'VBD', 'VBG', 'VBN', 'VBP', 'VBZ']\n",
    "            verbs=[]\n",
    "            adjective_pos = ['JJ', 'JJR', 'JJS']\n",
    "            adjectives = []\n",
    "            pronoun_pos = ['PRP', 'PRP$', 'WP', 'WP$']\n",
    "            pronouns = []\n",
    "            adverb_pos = ['RB', 'RBR', 'RBS', 'WRB']\n",
    "            adverbs = []\n",
    "            proper_noun_pos = ['NNP', 'NNPS']\n",
    "            proper_nouns = []\n",
    "            conjunction_pos = ['CC']\n",
    "            conjunctions = []\n",
    "            preposition_pos = ['IN', 'TO']\n",
    "            prepositions = []\n",
    "            interjection_pos = ['UH']\n",
    "            interjections = []\n",
    "            modal_pos = ['MD'] # But these are also verbs, so let's make sure they show up as such\n",
    "            modals = []\n",
    "            tagged_other_pos = ['CD', 'DT', 'EX', 'FW', 'LS', 'PDT', 'POS', 'RP', 'SYM', 'WDT']\n",
    "            tagged_others = []\n",
    "            other = []\n",
    "\n",
    "            for idx, token in enumerate(tagged):\n",
    "                if token[1] in common_noun_pos:\n",
    "                    common_nouns.append(token)\n",
    "                elif token[1] in verb_pos:\n",
    "                    verbs.append(token)\n",
    "                elif token[1] in adjective_pos:\n",
    "                    adjectives.append(token)\n",
    "                elif token[1] in pronoun_pos:\n",
    "                    pronouns.append(token)\n",
    "                elif token[1] in adverb_pos:\n",
    "                    adverbs.append(token)\n",
    "                elif token[1] in proper_noun_pos:\n",
    "                    proper_nouns.append(token)\n",
    "                elif token[1] in conjunction_pos:\n",
    "                    conjunctions.append(token)\n",
    "                elif token[1] in preposition_pos:\n",
    "                    prepositions.append(token)\n",
    "                elif token[1] in interjection_pos:\n",
    "                    interjections.append(token)\n",
    "                elif token[1] in modal_pos:\n",
    "                    modals.append(token)\n",
    "                elif token[1] in tagged_other_pos:\n",
    "                    tagged_others.append(token)\n",
    "                else:\n",
    "                    other.append(token)\n",
    "\n",
    "\n",
    "            self.pos_ = [common_nouns, verbs, adjectives, pronouns, adverbs, proper_nouns, conjunctions, prepositions, interjections, modals]\n",
    "        return self.pos_\n",
    "        # Append modals to verbs\n",
    "        # Create nouns that is both proper nouns and common nouns"
   ]
  },
  {
   "cell_type": "code",
   "execution_count": 18,
   "metadata": {
    "collapsed": false,
    "deletable": true,
    "editable": true
   },
   "outputs": [
    {
     "name": "stdout",
     "output_type": "stream",
     "text": [
      "['be', 'am', \"'m\", 'is', 'are', \"'re\", 'wa', 'were', 'been', 'have', 'ha', 'had', \"'ve\", 'do', 'doe', 'did', 'done', 'go', 'goe', 'went', 'gone', 'give', 'gave', 'given', 'put', 'take', 'took', 'taken', 'feel', 'felt', 'begin', 'began', 'begun', 'get', 'got', 'make', 'put', '']\n"
     ]
    }
   ],
   "source": [
    "# Let's grab our list of all the light verbs\n",
    "file = 'corpora/light_verbs.txt'\n",
    "with open(file, 'r') as f:\n",
    "    light_verbs = f.read().splitlines()\n",
    "print(light_verbs)"
   ]
  },
  {
   "cell_type": "code",
   "execution_count": 19,
   "metadata": {
    "collapsed": true,
    "deletable": true,
    "editable": true
   },
   "outputs": [],
   "source": [
    "# But you should be comparing stems, so find the stems for all these first\n",
    "# Before we do any stemming, let's make a list of all the irregular word stems\n",
    "with open(os.path.join(os.path.dirname(os.getcwd()), 'Writing Buddy/corpora/irregular-stems')) as f:\n",
    "    dict_irregular_stems_lines = f.read().splitlines()\n",
    "    dict_irregular_stems_draft = [line.split(',') for line in dict_irregular_stems_lines]\n",
    "    dict_irregular_stems = {}\n",
    "    for stem_old, stem_new in dict_irregular_stems_draft:\n",
    "        dict_irregular_stems[stem_old] = stem_new"
   ]
  },
  {
   "cell_type": "code",
   "execution_count": 20,
   "metadata": {
    "collapsed": true,
    "deletable": true,
    "editable": true
   },
   "outputs": [],
   "source": [
    "# Now let's create a stemmer\n",
    "stemmer = nltk.PorterStemmer()\n",
    "def stem_better(word):\n",
    "    stem = stemmer.stem(word.lower())\n",
    "    if stem in dict_irregular_stems:\n",
    "        stem = dict_irregular_stems[stem]\n",
    "    return stem"
   ]
  },
  {
   "cell_type": "code",
   "execution_count": 21,
   "metadata": {
    "collapsed": true,
    "deletable": true,
    "editable": true
   },
   "outputs": [],
   "source": [
    "books = [Book('Frankenstein', 'http://www.gutenberg.org/cache/epub/84/pg84.txt', 500),\n",
    "        Book('Great Expectations', 'http://www.gutenberg.org/files/1400/1400-0.txt', 885),\n",
    "        Book('A Tale of Two Cities', 'https://www.gutenberg.org/files/98/98-0.txt', 2400),\n",
    "        Book('Pride and Prejudice', 'https://www.gutenberg.org/files/1342/1342-0.txt', 1200),\n",
    "        Book(\"Alice's Adventures in Wonderland\", 'https://www.gutenberg.org/files/11/11-0.txt', 1200),\n",
    "        Book('Oliver Twist', 'http://www.gutenberg.org/cache/epub/730/pg730.txt', 500)]"
   ]
  },
  {
   "cell_type": "code",
   "execution_count": 22,
   "metadata": {
    "collapsed": false,
    "deletable": true,
    "editable": true
   },
   "outputs": [
    {
     "name": "stdout",
     "output_type": "stream",
     "text": [
      "File already exists\n",
      "Extracting text from file\n",
      "File already exists\n",
      "Extracting text from file\n",
      "File already exists\n",
      "Extracting text from file\n",
      "File already exists\n",
      "Extracting text from file\n",
      "File already exists\n",
      "Extracting text from file\n",
      "File already exists\n",
      "Extracting text from file\n"
     ]
    }
   ],
   "source": [
    "# Now let's get the parts of speech\n",
    "all_pos = []\n",
    "for book in books:\n",
    "    all_pos.append(book.pos)"
   ]
  },
  {
   "cell_type": "code",
   "execution_count": 23,
   "metadata": {
    "collapsed": false,
    "deletable": true,
    "editable": true
   },
   "outputs": [],
   "source": [
    "# Now let's stem the verbs we've got\n",
    "verb_stems = []\n",
    "for idx, pos in enumerate(books[0].pos[1]):\n",
    "    verb_stems.append(stem_better(pos[0]))"
   ]
  },
  {
   "cell_type": "code",
   "execution_count": 25,
   "metadata": {
    "collapsed": false,
    "deletable": true,
    "editable": true
   },
   "outputs": [
    {
     "name": "stdout",
     "output_type": "stream",
     "text": [
      "In Frankenstein, 32.49%% of the 14170 verbs are weak.\n",
      "In Great Expectations, 38.82%% of the 36901 verbs are weak.\n",
      "In A Tale of Two Cities, 37.38%% of the 25171 verbs are weak.\n",
      "In Pride and Prejudice, 42.33%% of the 24419 verbs are weak.\n",
      "In Alice's Adventures in Wonderland, 31.08%% of the 6104 verbs are weak.\n",
      "In Oliver Twist, 33.30%% of the 30576 verbs are weak.\n"
     ]
    }
   ],
   "source": [
    "perc_light = []\n",
    "for book in books:\n",
    "    verb_stems = []\n",
    "    for idx, pos in enumerate(book.pos[1]):\n",
    "        verb_stems.append(stem_better(pos[0]))\n",
    "        num_light_verbs = 0\n",
    "    for idx, stem in enumerate(verb_stems):\n",
    "        if stem in light_verbs:\n",
    "            num_light_verbs+=1\n",
    "    current_perc_light = num_light_verbs/len(verb_stems)\n",
    "    perc_light.append(current_perc_light)\n",
    "    print(\"In {title}, {perc:.2%}% of the {num_verbs} verbs are weak.\".format(title=book.title, perc=current_perc_light, num_verbs=len(verb_stems)))"
   ]
  },
  {
   "cell_type": "code",
   "execution_count": 54,
   "metadata": {
    "collapsed": false,
    "deletable": true,
    "editable": true
   },
   "outputs": [
    {
     "data": {
      "image/png": "[encoded data removed]",
      "text/plain": [
       "<matplotlib.figure.Figure at 0x18010ef3048>"
      ]
     },
     "metadata": {},
     "output_type": "display_data"
    }
   ],
   "source": [
    "plt.figure(figsize=(8,8))\n",
    "\n",
    "titles = [b.title for b in books]\n",
    "pos = np.arange(len(titles))\n",
    "graph_verbs = [100 * percent_light for percent_light in perc_light]\n",
    "\n",
    "# create the bars\n",
    "bars = plt.bar(pos, graph_verbs, align='center', linewidth=0)\n",
    "\n",
    "# soften all labels by turning grey\n",
    "plt.xticks(pos, titles, rotation = 'vertical', fontsize=15)\n",
    "# remove the Y label since bars are directly labeled\n",
    "#plt.ylabel('% Popularity', alpha=0.8)\n",
    "plt.title('Light verb frequency \\nin the literary canon', alpha=0.8, fontsize=18)\n",
    "\n",
    "# remove all the ticks (both axes), and tick labels on the Y axis\n",
    "plt.tick_params(top='off', bottom='off', left='off', right='off', labelleft='off', labelbottom='on')\n",
    "\n",
    "# remove the frame of the chart\n",
    "for spine in plt.gca().spines.values():\n",
    "    spine.set_visible(False)\n",
    "    \n",
    "# direct label each bar with Y axis values\n",
    "for bar in bars:\n",
    "    plt.gca().text(bar.get_x() + bar.get_width()/2, bar.get_height() - 5, str(int(bar.get_height())) + '%', \n",
    "                 ha='center', color='w', fontsize=18)\n",
    "plt.show()"
   ]
  }
 ],
 "metadata": {
  "kernelspec": {
   "display_name": "Python [conda root]",
   "language": "python",
   "name": "conda-root-py"
  },
  "language_info": {
   "codemirror_mode": {
    "name": "ipython",
    "version": 3
   },
   "file_extension": ".py",
   "mimetype": "text/x-python",
   "name": "python",
   "nbconvert_exporter": "python",
   "pygments_lexer": "ipython3",
   "version": "3.5.2"
  }
 },
 "nbformat": 4,
 "nbformat_minor": 2
}
