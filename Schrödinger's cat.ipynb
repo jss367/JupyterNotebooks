{
 "cells": [
  {
   "cell_type": "markdown",
   "metadata": {},
   "source": [
    "Richard,\n",
    "\n",
    "Thanks for the article. Here are some problems I have with that interpretation of Shcrodinger's cat "
   ]
  },
  {
   "cell_type": "code",
   "execution_count": 197,
   "metadata": {
    "collapsed": false
   },
   "outputs": [],
   "source": [
    "from __future__ import division"
   ]
  },
  {
   "cell_type": "code",
   "execution_count": 198,
   "metadata": {
    "collapsed": true
   },
   "outputs": [],
   "source": [
    "import random"
   ]
  },
  {
   "cell_type": "code",
   "execution_count": 199,
   "metadata": {
    "collapsed": false
   },
   "outputs": [],
   "source": [
    "#Give me a random percentage between 0 and 100\n",
    "a = random.randint(1,100)"
   ]
  },
  {
   "cell_type": "markdown",
   "metadata": {},
   "source": [
    "Let's assume we have the typical Schrödinger's cat experiment. We'll let the experiment run for a amount of time such that the probability of the cat being either alive or dead is exactly 50%. Then, we'll assume the vial of poison is destroyed, thus at all times after the experiment, the chance that the cat remains at 50%, and we have the job of determining when the waveform collapses. To save on cats, we'll instead use the function experiment() to give a result of either 1, for alive, or 0, for dead. experiment() will generate these result randomly with a probability of 50% for each result."
   ]
  },
  {
   "cell_type": "code",
   "execution_count": 200,
   "metadata": {
    "collapsed": true
   },
   "outputs": [],
   "source": [
    "#This function simulates the Schrödinger's cat experiment by outputting either a 1, for alive, or a 0.\n",
    "def experiment():\n",
    "    alive = random.randint(0,1) # Randomly decide between a 0 and a 1\n",
    "    return alive"
   ]
  },
  {
   "cell_type": "markdown",
   "metadata": {},
   "source": [
    "Now let's set up the rest of the experiment. Attached to the experimental device is a printer. The experimental device learns the results of the experiment, but instead of just printing the result accurately, it'll print out a result that might not be true. For the first round, we'll print out either \"The cat is alive\" or \"The cat is dead\" with a 50% probability. Thus, there is actually no information about the experiment contained in the first printout."
   ]
  },
  {
   "cell_type": "code",
   "execution_count": 211,
   "metadata": {
    "collapsed": true
   },
   "outputs": [],
   "source": [
    "all_results=[] # we'll use this to collect all of our results in\n",
    "def print_result(result, veracity):\n",
    "    if result==1 and  veracity == True or result==0 and veracity == False:\n",
    "        print(\"The cat is alive\")\n",
    "        all_results.append(1)\n",
    "    else:\n",
    "        print(\"The cat is dead\")\n",
    "        all_results.append(0)"
   ]
  },
  {
   "cell_type": "markdown",
   "metadata": {},
   "source": [
    "OK, now we'll got our experiment and our printer set up, let's run the experiment!"
   ]
  },
  {
   "cell_type": "code",
   "execution_count": 212,
   "metadata": {
    "collapsed": false
   },
   "outputs": [],
   "source": [
    "#Run the experiment and get the result\n",
    "result = experiment()"
   ]
  },
  {
   "cell_type": "code",
   "execution_count": 213,
   "metadata": {
    "collapsed": false
   },
   "outputs": [
    {
     "name": "stdout",
     "output_type": "stream",
     "text": [
      "50\n",
      "The cat is alive\n"
     ]
    }
   ],
   "source": [
    "probability_of_truth = 50\n",
    "print(probability_of_truth)\n",
    "random_number = random.randint(1,100) # Generate a random number\n",
    "if random_number<probability_of_truth:\n",
    "    print_result(result, True)\n",
    "else:\n",
    "    print_result(result, False)"
   ]
  },
  {
   "cell_type": "markdown",
   "metadata": {},
   "source": [
    "Now the experiment has been conducted and a result has been printed, although the result is meaningless. Let's do that a few more times, except with each time we'll increase the probability that a True result is printed by one percentage point. Thus the next printout will be the truth with a probability of 51% and a lie with a probability of 49%. And the one after that will have a 52% chance of being true, and so on until 60%. "
   ]
  },
  {
   "cell_type": "code",
   "execution_count": 214,
   "metadata": {
    "collapsed": false
   },
   "outputs": [
    {
     "name": "stdout",
     "output_type": "stream",
     "text": [
      "The cat is alive\n",
      "The cat is dead\n",
      "The cat is alive\n",
      "The cat is dead\n",
      "The cat is dead\n",
      "The cat is dead\n",
      "The cat is dead\n",
      "The cat is dead\n",
      "The cat is dead\n"
     ]
    }
   ],
   "source": [
    "trials = 9\n",
    "previous_trials = len(all_results)\n",
    "for x in range(trials):\n",
    "    probability_of_truth = 50 + previous_trials + x # Starting at 50% plus 1% for every previous trial and then increasing it by 1% every iteration\n",
    "    random_number = random.randint(1,100) # Generate a new random number each time\n",
    "    if random_number<probability_of_truth:\n",
    "        print_result(result, True)\n",
    "    else:\n",
    "        print_result(result, False)"
   ]
  },
  {
   "cell_type": "markdown",
   "metadata": {},
   "source": [
    "If it so happens that the person receiving the printout, we'll call her Alice, is a statistician, she could quickly calculate the true probability:"
   ]
  },
  {
   "cell_type": "code",
   "execution_count": 215,
   "metadata": {
    "collapsed": false
   },
   "outputs": [
    {
     "name": "stdout",
     "output_type": "stream",
     "text": [
      "Alice know that the probability that the cat survived the experiment is 18.38%\n"
     ]
    }
   ],
   "source": [
    "#Alice does some quick number crunching in her head... \n",
    "probability_if_alive=[]\n",
    "probability_if_dead=[]\n",
    "for x in range(len(all_results)):\n",
    "    if all_results[x]==0:\n",
    "        probability_if_alive.append(50-x)\n",
    "        probability_if_dead.append(50+x)\n",
    "    if all_results[x]==1:\n",
    "        probability_if_alive.append(50+x)\n",
    "        probability_if_dead.append(50-x)\n",
    "relative_probability_alive = reduce(lambda x, y: x*y/100, probability_if_alive)\n",
    "relative_probability_dead = reduce(lambda x, y: x*y/100, probability_if_dead)\n",
    "probability_alive = relative_probability_alive / (relative_probability_dead + relative_probability_alive)\n",
    "print(\"Alice know that the probability that the cat survived the experiment is {probability:.2%}\".format(probability=probability_alive))"
   ]
  },
  {
   "cell_type": "markdown",
   "metadata": {},
   "source": [
    "Then we add a second person to the experiment. We'll call him Bob. Bob never sees Alice, but he does get a printout from the experiment. However, instead of printing \"The cat is alive\" or \"The cat is dead\", it prints either \"That statement was true\" or \"That statement was false\". Now, Bob knows whether the statement that Alice is reading is true or false, but he does not know what Alice is acutally reading, and therefore doesn't know anything about the cat.\n",
    "So let's do another trial, this time looking at what Bob sees"
   ]
  },
  {
   "cell_type": "code",
   "execution_count": 216,
   "metadata": {
    "collapsed": false
   },
   "outputs": [
    {
     "name": "stdout",
     "output_type": "stream",
     "text": [
      "That statement was false\n",
      "That statement was false\n",
      "That statement was false\n",
      "That statement was true\n",
      "That statement was true\n",
      "That statement was true\n",
      "That statement was false\n",
      "That statement was false\n",
      "That statement was true\n",
      "That statement was true\n"
     ]
    }
   ],
   "source": [
    "trials = 10\n",
    "previous_trials = len(all_results) # We've now completed the first trial plus the other nine, so ten in total\n",
    "for x in range(trials):\n",
    "    probability_of_truth = 50 + previous_trials + x # Starting at 50% plus 1% for every previous trial and then increasing it by 1% every iteration\n",
    "    random_number = random.randint(1,100) # Generate a new random number each time\n",
    "    if random_number<probability_of_truth:\n",
    "        print(\"That statement was true\")\n",
    "    else:\n",
    "        print(\"That statement was false\")"
   ]
  },
  {
   "cell_type": "markdown",
   "metadata": {},
   "source": [
    "Bob can see that Alice is getting some true and some false statements, but he can't see what the statements are. Bob has no idea about the results of the experiment."
   ]
  },
  {
   "cell_type": "markdown",
   "metadata": {},
   "source": [
    "Now let's go back to Alice and run some more trials."
   ]
  },
  {
   "cell_type": "code",
   "execution_count": 217,
   "metadata": {
    "collapsed": false
   },
   "outputs": [
    {
     "name": "stdout",
     "output_type": "stream",
     "text": [
      "The cat is dead\n",
      "The cat is dead\n",
      "The cat is alive\n",
      "The cat is alive\n",
      "The cat is alive\n",
      "The cat is dead\n",
      "The cat is dead\n",
      "The cat is alive\n",
      "The cat is alive\n"
     ]
    }
   ],
   "source": [
    "trials = 9\n",
    "previous_trials = len(all_results)\n",
    "for x in range(trials):\n",
    "    probability_of_truth = 50 + previous_trials + x # Starting at 50% plus 1% for every previous trial and then increasing it by 1% every iteration\n",
    "    random_number = random.randint(1,100) # Generate a new random number each time\n",
    "    if random_number<probability_of_truth:\n",
    "        print_result(result, True)\n",
    "    else:\n",
    "        print_result(result, False)"
   ]
  },
  {
   "cell_type": "markdown",
   "metadata": {},
   "source": [
    "All the while Bob is in his room getting his printouts. There is still a lot of noise in her data. But she can calculate the probability again, and this time she gets:"
   ]
  },
  {
   "cell_type": "code",
   "execution_count": 218,
   "metadata": {
    "collapsed": false
   },
   "outputs": [
    {
     "name": "stdout",
     "output_type": "stream",
     "text": [
      "Alice know that the probability that the cat survived the experiment is 36.20%\n"
     ]
    }
   ],
   "source": [
    "#Crunch crunch crunch... \n",
    "probability_if_alive=[]\n",
    "probability_if_dead=[]\n",
    "for x in range(len(all_results)):\n",
    "    if all_results[x]==0:\n",
    "        probability_if_alive.append(50-x)\n",
    "        probability_if_dead.append(50+x)\n",
    "    if all_results[x]==1:\n",
    "        probability_if_alive.append(50+x)\n",
    "        probability_if_dead.append(50-x)\n",
    "relative_probability_alive = reduce(lambda x, y: x*y/100, probability_if_alive)\n",
    "relative_probability_dead = reduce(lambda x, y: x*y/100, probability_if_dead)\n",
    "probability_alive = relative_probability_alive / (relative_probability_dead + relative_probability_alive)\n",
    "print(\"Alice know that the probability that the cat survived the experiment is {probability:.2%}\".format(probability=probability_alive))"
   ]
  },
  {
   "cell_type": "markdown",
   "metadata": {},
   "source": [
    "The last result was given with 80% confidence. Let's do another ten trials with Alice."
   ]
  },
  {
   "cell_type": "code",
   "execution_count": 219,
   "metadata": {
    "collapsed": false
   },
   "outputs": [
    {
     "name": "stdout",
     "output_type": "stream",
     "text": [
      "The cat is dead\n",
      "The cat is dead\n",
      "The cat is dead\n",
      "The cat is alive\n",
      "The cat is dead\n",
      "The cat is dead\n",
      "The cat is dead\n",
      "The cat is dead\n",
      "The cat is alive\n"
     ]
    }
   ],
   "source": [
    "trials = 9\n",
    "previous_trials = len(all_results)\n",
    "for x in range(trials):\n",
    "    probability_of_truth = 50 + previous_trials + x # Starting at 50% plus 1% for every previous trial and then increasing it by 1% every iteration\n",
    "    random_number = random.randint(1,100) # Generate a new random number each time\n",
    "    if random_number<probability_of_truth:\n",
    "        print_result(result, True)\n",
    "    else:\n",
    "        print_result(result, False)"
   ]
  },
  {
   "cell_type": "markdown",
   "metadata": {},
   "source": [
    "OK, now it's starting to settle down for Alice.\n",
    "Now let's add another person, Charlie, to the experiment. Charlie doesn't get any printout, but he can talk to both Alice and Bob. They run another trial but now with Charlie"
   ]
  },
  {
   "cell_type": "code",
   "execution_count": 220,
   "metadata": {
    "collapsed": false
   },
   "outputs": [
    {
     "name": "stdout",
     "output_type": "stream",
     "text": [
      "The cat is dead\n",
      "That statement was true\n"
     ]
    }
   ],
   "source": [
    "trials = 1\n",
    "previous_trials = len(all_results)\n",
    "for x in range(trials):\n",
    "    probability_of_truth = 50 + previous_trials + x # Starting at 50% plus 1% for every previous trial and then increasing it by 1% every iteration\n",
    "    random_number = random.randint(1,100) # Generate a new random number each time\n",
    "    if random_number<probability_of_truth:\n",
    "        print_result(result, True)\n",
    "        print(\"That statement was true\")\n",
    "    else:\n",
    "        print_result(result, False)\n",
    "        print(\"That statement was false\")"
   ]
  },
  {
   "cell_type": "markdown",
   "metadata": {},
   "source": [
    "Finally, Charlie is the first person to truely know with certainty the true fate of the Mr. Whiskers."
   ]
  },
  {
   "cell_type": "markdown",
   "metadata": {},
   "source": [
    "And, to finish up the experiment, let's see what Charlie sees and the probability of truth that Alice was getting."
   ]
  },
  {
   "cell_type": "code",
   "execution_count": 221,
   "metadata": {
    "collapsed": false
   },
   "outputs": [
    {
     "name": "stdout",
     "output_type": "stream",
     "text": [
      "The probability the statement will be true is 79%\n",
      "The cat is dead\n",
      "That statement was true\n",
      "The probability the statement will be true is 80%\n",
      "The cat is dead\n",
      "That statement was true\n",
      "The probability the statement will be true is 81%\n",
      "The cat is dead\n",
      "That statement was true\n",
      "The probability the statement will be true is 82%\n",
      "The cat is dead\n",
      "That statement was true\n",
      "The probability the statement will be true is 83%\n",
      "The cat is dead\n",
      "That statement was true\n",
      "The probability the statement will be true is 84%\n",
      "The cat is dead\n",
      "That statement was true\n",
      "The probability the statement will be true is 85%\n",
      "The cat is alive\n",
      "That statement was false\n",
      "The probability the statement will be true is 86%\n",
      "The cat is dead\n",
      "That statement was true\n",
      "The probability the statement will be true is 87%\n",
      "The cat is dead\n",
      "That statement was true\n"
     ]
    }
   ],
   "source": [
    "trials = 9\n",
    "previous_trials = len(all_results)\n",
    "for x in range(trials):\n",
    "    probability_of_truth = 50 + previous_trials + x # Starting at 50% plus 1% for every previous trial and then increasing it by 1% every iteration\n",
    "    print(\"The probability the statement will be true is {}%\".format(probability_of_truth))\n",
    "    random_number = random.randint(1,100) # Generate a new random number each time\n",
    "    if random_number<probability_of_truth:\n",
    "        print_result(result, True)\n",
    "        print(\"That statement was true\")\n",
    "    else:\n",
    "        print_result(result, False)\n",
    "        print(\"That statement was false\")"
   ]
  },
  {
   "cell_type": "code",
   "execution_count": null,
   "metadata": {
    "collapsed": true
   },
   "outputs": [],
   "source": []
  },
  {
   "cell_type": "code",
   "execution_count": null,
   "metadata": {
    "collapsed": true
   },
   "outputs": [],
   "source": []
  },
  {
   "cell_type": "code",
   "execution_count": null,
   "metadata": {
    "collapsed": true
   },
   "outputs": [],
   "source": []
  },
  {
   "cell_type": "code",
   "execution_count": null,
   "metadata": {
    "collapsed": true
   },
   "outputs": [],
   "source": [
    "#The other person learns whether the truth or a lie was told"
   ]
  },
  {
   "cell_type": "code",
   "execution_count": 22,
   "metadata": {
    "collapsed": true
   },
   "outputs": [],
   "source": [
    "#Two people could also lie to each other with a probability"
   ]
  }
 ],
 "metadata": {
  "kernelspec": {
   "display_name": "Python 2",
   "language": "python",
   "name": "python2"
  },
  "language_info": {
   "codemirror_mode": {
    "name": "ipython",
    "version": 2
   },
   "file_extension": ".py",
   "mimetype": "text/x-python",
   "name": "python",
   "nbconvert_exporter": "python",
   "pygments_lexer": "ipython2",
   "version": "2.7.11"
  }
 },
 "nbformat": 4,
 "nbformat_minor": 0
}
