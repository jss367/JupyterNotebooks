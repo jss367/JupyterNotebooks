{
 "cells": [
  {
   "cell_type": "markdown",
   "metadata": {},
   "source": [
    "Schrödinger's cat\n",
    "\n",
    "There exists a belief found in popular culture as well as many popular science articles that the famous Schrödinger's cat experiment suggests that cats can be both alive and dead at the same time. This is so common that when you Google \"Schrodinger's cat\" the following definition appears: \"a cat imagined as being enclosed in a box with a radioactive source and a poison that will be released when the source (unpredictably) emits radiation, the cat being considered (according to quantum mechanics) to be simultaneously both dead and alive until the box is opened and the cat observed.\" I propose an experiment which demonstrates that this is an unsatisfactory explanation, and that at no time is a cat both alive and dead."
   ]
  },
  {
   "cell_type": "code",
   "execution_count": 1,
   "metadata": {
    "collapsed": false
   },
   "outputs": [],
   "source": [
    "'''The following code is written in Python 2.7. The raw code is provided for transparency and reproducibility but does not need\n",
    "to be read to understand the experiment.'''\n",
    "\n",
    "#Importing some things that we'll need later\n",
    "from __future__ import division\n",
    "import random"
   ]
  },
  {
   "cell_type": "markdown",
   "metadata": {},
   "source": [
    "Let's assume we have the typical Schrödinger's cat experiment. We'll let the experiment run for a fixed amount of time such that the probability that the vial of poison is destroyed and the cat is dead is 50%. After that time the vial be automatically be removed and we will attempt to determine the viability of the cat, i.e. whether Mr. Whiskers is dead or alive. To save on cats, we'll instead use the function experiment() to give a result of either 1, for alive, or 0, for dead. experiment() will generate this result randomly with a probability of 50% for each result."
   ]
  },
  {
   "cell_type": "code",
   "execution_count": 2,
   "metadata": {
    "collapsed": true
   },
   "outputs": [],
   "source": [
    "#This function simulates the Schrödinger's cat experiment by outputting either a 1, for alive, or a 0.\n",
    "def experiment():\n",
    "    alive = random.randint(0,1) # Randomly decide between a 0 and a 1\n",
    "    return alive # Returns a variable \"alive\" this is 1 if true and 0 if false"
   ]
  },
  {
   "cell_type": "markdown",
   "metadata": {},
   "source": [
    "Now let's set up the rest of the experiment. Attached to the experimental device is a printer. The experimental device knows whether the hammer has been released to crush the vial of poison, but instead of just printing the result accurately, it'll print out a result that might not be true. For the first round, we'll print out either \"The cat is alive\" or \"The cat is dead\" with a 50% probability. Thus, there is actually no information about the experiment contained in the first printout."
   ]
  },
  {
   "cell_type": "code",
   "execution_count": 3,
   "metadata": {
    "collapsed": true
   },
   "outputs": [],
   "source": [
    "all_results=[] # We'll use this to collect all of our results in\n",
    "def print_result(result, veracity): # This function takes the true result and whether or not to print out the truth, then prints something\n",
    "    if result==1 and  veracity == True or result==0 and veracity == False:\n",
    "        print(\"The cat is alive\")\n",
    "        all_results.append(1)\n",
    "    else:\n",
    "        print(\"The cat is dead\")\n",
    "        all_results.append(0)"
   ]
  },
  {
   "cell_type": "markdown",
   "metadata": {},
   "source": [
    "OK, now we'll got our experiment and our printer set up, let's run the experiment!"
   ]
  },
  {
   "cell_type": "code",
   "execution_count": 4,
   "metadata": {
    "collapsed": false
   },
   "outputs": [],
   "source": [
    "#Run the experiment and get the result\n",
    "result = experiment()"
   ]
  },
  {
   "cell_type": "markdown",
   "metadata": {},
   "source": [
    "Experiment has been conducted! Now we'll print our first result,  which will be a meaningless statement about the cat. Just to things organized, we'll also add the probability that the statement is true to each printout."
   ]
  },
  {
   "cell_type": "code",
   "execution_count": 5,
   "metadata": {
    "collapsed": false
   },
   "outputs": [
    {
     "name": "stdout",
     "output_type": "stream",
     "text": [
      "50: The cat is alive\n"
     ]
    }
   ],
   "source": [
    "probability_of_truth = 50 #Initially, it's 50-50\n",
    "print(\"{}:\".format(probability_of_truth)),\n",
    "random_number = random.randint(1,100) # Generate a random number\n",
    "if random_number<probability_of_truth:\n",
    "    print_result(result, True)\n",
    "else:\n",
    "    print_result(result, False)"
   ]
  },
  {
   "cell_type": "markdown",
   "metadata": {},
   "source": [
    "Now the experiment has been conducted and a result has been printed, although the result is meaningless. Let's do that some more times, except with each time we'll increase the probability that a true result is printed by one percentage point. Thus the next printout will be the truth with a probability of 51% and a lie with a probability of 49%. And the one after that will have a 52% chance of being true, and so on."
   ]
  },
  {
   "cell_type": "code",
   "execution_count": 6,
   "metadata": {
    "collapsed": false
   },
   "outputs": [
    {
     "name": "stdout",
     "output_type": "stream",
     "text": [
      "51: The cat is alive\n",
      "52: The cat is alive\n",
      "53: The cat is dead\n",
      "54: The cat is alive\n",
      "55: The cat is dead\n",
      "56: The cat is alive\n",
      "57: The cat is alive\n",
      "58: The cat is dead\n",
      "59: The cat is alive\n",
      "60: The cat is dead\n"
     ]
    }
   ],
   "source": [
    "trials = 10\n",
    "previous_trials = len(all_results)\n",
    "for x in range(trials):\n",
    "    probability_of_truth = 50 + previous_trials + x # Starts at 50% plus 1% for every previous trial and increases by 1% every iteration\n",
    "    print(\"{}:\".format(probability_of_truth)),\n",
    "    random_number = random.randint(1,100) # Generate a new random number each time\n",
    "    if random_number<probability_of_truth:\n",
    "        print_result(result, True)\n",
    "    else:\n",
    "        print_result(result, False)"
   ]
  },
  {
   "cell_type": "markdown",
   "metadata": {},
   "source": [
    "If it so happens that the person receiving the printout, we'll call her Alice, is a statistician, she could quickly calculate the true probability:"
   ]
  },
  {
   "cell_type": "code",
   "execution_count": 7,
   "metadata": {
    "collapsed": false
   },
   "outputs": [
    {
     "name": "stdout",
     "output_type": "stream",
     "text": [
      "Alice calculates that the probability that the cat survived the experiment is 52.95%\n"
     ]
    }
   ],
   "source": [
    "#Alice does some quick number crunching in her head... feel free to skip\n",
    "probability_if_alive=[]\n",
    "probability_if_dead=[]\n",
    "for x in range(len(all_results)):\n",
    "    if all_results[x]==0:\n",
    "        probability_if_alive.append(50-x)\n",
    "        probability_if_dead.append(50+x)\n",
    "    if all_results[x]==1:\n",
    "        probability_if_alive.append(50+x)\n",
    "        probability_if_dead.append(50-x)\n",
    "relative_probability_alive = reduce(lambda x, y: x*y/100, probability_if_alive)\n",
    "relative_probability_dead = reduce(lambda x, y: x*y/100, probability_if_dead)\n",
    "probability_alive = relative_probability_alive / (relative_probability_dead + relative_probability_alive)\n",
    "print(\"Alice calculates that the probability that the cat survived the experiment is {probability:.2%}\".format(probability=probability_alive))"
   ]
  },
  {
   "cell_type": "markdown",
   "metadata": {},
   "source": [
    "Then we add a second person to the experiment. We'll call him Bob. Bob never sees Alice, but he does get a printout from the experiment. However, instead of printing \"The cat is alive\" or \"The cat is dead\", it prints either \"That statement was true\" or \"That statement was false\". Now, Bob knows whether the statement that Alice is reading is true or false, but he does not know what Alice is acutally reading, and therefore doesn't know anything about the cat.\n",
    "Instead of repeating the same trials, we'll continue on for another ten, seeing only what Bob sees. We'll keep printing the probability that Alice's statement is correct just to keep the record straight."
   ]
  },
  {
   "cell_type": "code",
   "execution_count": 8,
   "metadata": {
    "collapsed": false
   },
   "outputs": [
    {
     "name": "stdout",
     "output_type": "stream",
     "text": [
      "61: That statement was false\n",
      "62: That statement was true\n",
      "63: That statement was true\n",
      "64: That statement was false\n",
      "65: That statement was true\n",
      "66: That statement was true\n",
      "67: That statement was true\n",
      "68: That statement was true\n",
      "69: That statement was true\n",
      "70: That statement was true\n"
     ]
    }
   ],
   "source": [
    "trials = 10\n",
    "previous_trials = len(all_results) # We've now completed the first trial plus the other nine, so ten in total\n",
    "for x in range(trials):\n",
    "    probability_of_truth = 50 + previous_trials + x # Starts at 50% plus 1% for every previous trial and increases by 1% every iteration\n",
    "    probability_of_truth = 50 + previous_trials + x # Starting at 50% plus 1% for every previous trial and then increasing it by 1% every iteration\n",
    "    print(\"{}:\".format(probability_of_truth)),\n",
    "    random_number = random.randint(1,100) # Generate a new random number each time\n",
    "    if random_number<probability_of_truth:\n",
    "        print(\"That statement was true\")\n",
    "        all_results.append(1)\n",
    "    else:\n",
    "        print(\"That statement was false\")\n",
    "        all_results.append(0)"
   ]
  },
  {
   "cell_type": "markdown",
   "metadata": {},
   "source": [
    "Bob can see that Alice is getting some true and some false statements, but he can't see what the statements are. Bob has no idea about the results of the experiment."
   ]
  },
  {
   "cell_type": "markdown",
   "metadata": {},
   "source": [
    "Now let's go back to Alice and run some more trials."
   ]
  },
  {
   "cell_type": "code",
   "execution_count": 9,
   "metadata": {
    "collapsed": false
   },
   "outputs": [
    {
     "name": "stdout",
     "output_type": "stream",
     "text": [
      "71: The cat is dead\n",
      "72: The cat is alive\n",
      "73: The cat is dead\n",
      "74: The cat is dead\n",
      "75: The cat is dead\n",
      "76: The cat is alive\n",
      "77: The cat is dead\n",
      "78: The cat is dead\n",
      "79: The cat is dead\n",
      "80: The cat is dead\n"
     ]
    }
   ],
   "source": [
    "trials = 10\n",
    "previous_trials = len(all_results)\n",
    "for x in range(trials):\n",
    "    probability_of_truth = 50 + previous_trials + x # Starts at 50% plus 1% for every previous trial and increases by 1% every iteration\n",
    "    print(\"{}:\".format(probability_of_truth)),\n",
    "    random_number = random.randint(1,100) # Generate a new random number each time\n",
    "    if random_number<probability_of_truth:\n",
    "        print_result(result, True)\n",
    "    else:\n",
    "        print_result(result, False)"
   ]
  },
  {
   "cell_type": "markdown",
   "metadata": {},
   "source": [
    "All the while Bob is in his room getting his printouts. There is still a lot of noise in her data. But she can calculate the probability again. She'll include the results she got when we were in the room with Bob and didn't see. This time she gets:"
   ]
  },
  {
   "cell_type": "code",
   "execution_count": 10,
   "metadata": {
    "collapsed": false
   },
   "outputs": [
    {
     "name": "stdout",
     "output_type": "stream",
     "text": [
      "Alice calculates that the probability that the cat survived the experiment is 6.83%\n"
     ]
    }
   ],
   "source": [
    "#Crunch crunch crunch... \n",
    "probability_if_alive=[]\n",
    "probability_if_dead=[]\n",
    "for x in range(len(all_results)):\n",
    "    if all_results[x]==0:\n",
    "        probability_if_alive.append(50-x)\n",
    "        probability_if_dead.append(50+x)\n",
    "    if all_results[x]==1:\n",
    "        probability_if_alive.append(50+x)\n",
    "        probability_if_dead.append(50-x)\n",
    "relative_probability_alive = reduce(lambda x, y: x*y/100, probability_if_alive)\n",
    "relative_probability_dead = reduce(lambda x, y: x*y/100, probability_if_dead)\n",
    "probability_alive = relative_probability_alive / (relative_probability_dead + relative_probability_alive)\n",
    "print(\"Alice calculates that the probability that the cat survived the experiment is {probability:.2%}\".format(probability=probability_alive))"
   ]
  },
  {
   "cell_type": "markdown",
   "metadata": {},
   "source": [
    "The last result was given with 80% confidence. Let's do another ten trials with Alice."
   ]
  },
  {
   "cell_type": "code",
   "execution_count": 11,
   "metadata": {
    "collapsed": false
   },
   "outputs": [
    {
     "name": "stdout",
     "output_type": "stream",
     "text": [
      "81: The cat is dead\n",
      "82: The cat is dead\n",
      "83: The cat is alive\n",
      "84: The cat is dead\n",
      "85: The cat is dead\n",
      "86: The cat is alive\n",
      "87: The cat is dead\n",
      "88: The cat is dead\n",
      "89: The cat is dead\n",
      "90: The cat is dead\n"
     ]
    }
   ],
   "source": [
    "trials = 10\n",
    "previous_trials = len(all_results)\n",
    "for x in range(trials):\n",
    "    probability_of_truth = 50 + previous_trials + x # Starts at 50% plus 1% for every previous trial and increases by 1% every iteration\n",
    "    print(\"{}:\".format(probability_of_truth)),\n",
    "    random_number = random.randint(1,100) # Generate a new random number each time\n",
    "    if random_number<probability_of_truth:\n",
    "        print_result(result, True)\n",
    "    else:\n",
    "        print_result(result, False)"
   ]
  },
  {
   "cell_type": "markdown",
   "metadata": {},
   "source": [
    "OK, now it's starting to settle down for Alice.\n",
    "Now let's add another person, Charlie, to the experiment. Charlie doesn't get any printout, but he can talk to both Alice and Bob. They run another trial but now Alice and Bob tell their results to Charlie. Let's take a look at what Charlie sees."
   ]
  },
  {
   "cell_type": "code",
   "execution_count": 12,
   "metadata": {
    "collapsed": false
   },
   "outputs": [
    {
     "name": "stdout",
     "output_type": "stream",
     "text": [
      "The cat is dead\n",
      "That statement was true\n"
     ]
    }
   ],
   "source": [
    "trials = 1\n",
    "previous_trials = len(all_results)\n",
    "for x in range(trials):\n",
    "    probability_of_truth = 50 + previous_trials + x # Starting at 50% plus 1% for every previous trial and then increasing it by 1% every iteration\n",
    "    random_number = random.randint(1,100) # Generate a new random number each time\n",
    "    if random_number<probability_of_truth:\n",
    "        print_result(result, True)\n",
    "        print(\"That statement was true\")\n",
    "    else:\n",
    "        print_result(result, False)\n",
    "        print(\"That statement was false\")"
   ]
  },
  {
   "cell_type": "markdown",
   "metadata": {},
   "source": [
    "Finally, Charlie is the first person to truely know with certainty the true fate of the Mr. Whiskers."
   ]
  },
  {
   "cell_type": "markdown",
   "metadata": {},
   "source": [
    "And, to finish up the experiment, let's see what Charlie sees."
   ]
  },
  {
   "cell_type": "code",
   "execution_count": 13,
   "metadata": {
    "collapsed": false
   },
   "outputs": [
    {
     "name": "stdout",
     "output_type": "stream",
     "text": [
      "92: The cat is dead\n",
      "That statement was true\n",
      "93: The cat is dead\n",
      "That statement was true\n",
      "94: The cat is dead\n",
      "That statement was true\n",
      "95: The cat is dead\n",
      "That statement was true\n",
      "96: The cat is alive\n",
      "That statement was false\n",
      "97: The cat is dead\n",
      "That statement was true\n",
      "98: The cat is dead\n",
      "That statement was true\n",
      "99: The cat is dead\n",
      "That statement was true\n",
      "100: The cat is dead\n",
      "That statement was true\n"
     ]
    }
   ],
   "source": [
    "trials = 9\n",
    "previous_trials = len(all_results)\n",
    "for x in range(trials):\n",
    "    probability_of_truth = 50 + previous_trials + x # Starting at 50% plus 1% for every previous trial and then increasing it by 1% every iteration\n",
    "    print(\"{}:\".format(probability_of_truth)),\n",
    "    random_number = random.randint(1,100) # Generate a new random number each time\n",
    "    if random_number<probability_of_truth:\n",
    "        print_result(result, True)\n",
    "        print(\"That statement was true\")\n",
    "    else:\n",
    "        print_result(result, False)\n",
    "        print(\"That statement was false\")"
   ]
  },
  {
   "cell_type": "markdown",
   "metadata": {
    "collapsed": true
   },
   "source": [
    "For the final step of the experiment, Bob goes into the room with the experiment and opens the box. He looks for the first time to see the ultimate fate of Mr. Whiskers.\n",
    "This concludes the experiment."
   ]
  },
  {
   "cell_type": "markdown",
   "metadata": {
    "collapsed": true
   },
   "source": [
    "According to the definition provided by Google, the cat remains in a state of being both alive and dead until the box is opened and the cat is observed. In this experiment, there are many points where the question of whether the radioactive material has decayed could be said to be answered. The following are test points when the quantum phenomenon could be said to be resolved:\n",
    "\n",
    "The machine prints the 50-50 result to Alice.\n",
    "\n",
    "The machine prints the 51-49 result to Alice, marking the first time the experiment affected the macroscopic world.\n",
    "\n",
    "Alice calculates the probability the cat is alive, marking the first time a person has a good estimate of the probability.\n",
    "\n",
    "Bob enters the experiment and the result of the experiment could be determined by knowing what both Alice and Bob know.\n",
    "\n",
    "Charlie enters the experiment and become the first person to know the result of the experiment with certainty.\n",
    "\n",
    "Bob opens the container and obeserves the cat directly."
   ]
  },
  {
   "cell_type": "markdown",
   "metadata": {
    "collapsed": true
   },
   "source": [
    "I think that this experiment shows that none of the above explanations are satisfactory, and the only possible explanation is that the observation occurs at every point in time, when the first macroscopic entity, the Geiger counter, either detects or does not detect the radiation which causes it to release the hammer smashing the vial of poison. The presence of humans or human consciousness have no effect on quantum mechanical systems."
   ]
  }
 ],
 "metadata": {
  "kernelspec": {
   "display_name": "Python 2",
   "language": "python",
   "name": "python2"
  },
  "language_info": {
   "codemirror_mode": {
    "name": "ipython",
    "version": 2
   },
   "file_extension": ".py",
   "mimetype": "text/x-python",
   "name": "python",
   "nbconvert_exporter": "python",
   "pygments_lexer": "ipython2",
   "version": "2.7.11"
  }
 },
 "nbformat": 4,
 "nbformat_minor": 0
}
