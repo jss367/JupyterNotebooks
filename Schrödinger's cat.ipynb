{
 "cells": [
  {
   "cell_type": "markdown",
   "metadata": {},
   "source": [
    "Richard,\n",
    "\n",
    "Thanks for the article. Here are some problems I have with that interpretation of Shcrodinger's cat "
   ]
  },
  {
   "cell_type": "code",
   "execution_count": 12,
   "metadata": {
    "collapsed": false
   },
   "outputs": [],
   "source": [
    "from __future__ import division"
   ]
  },
  {
   "cell_type": "code",
   "execution_count": 13,
   "metadata": {
    "collapsed": true
   },
   "outputs": [],
   "source": [
    "import random"
   ]
  },
  {
   "cell_type": "code",
   "execution_count": 17,
   "metadata": {
    "collapsed": false
   },
   "outputs": [],
   "source": [
    "#Give me a random percentage between 0 and 100\n",
    "a = random.randint(1,100)"
   ]
  },
  {
   "cell_type": "markdown",
   "metadata": {},
   "source": [
    "Let's assume we have the typical Schrödinger's cat experiment. We'll let the experiment run for a amount of time such that the probability of the cat being either alive or dead is exactly 50%. Then, we'll assume the vial of poison is destroyed, thus at all times after the experiment, the chance that the cat remains at 50%, and we have the job of determining when the waveform collapses. To save on cats, we'll instead use the function experiment() to give a result of either 1, for alive, or 0, for dead. experiment() will generate these result randomly with a probability of 50% for each result."
   ]
  },
  {
   "cell_type": "code",
   "execution_count": 1,
   "metadata": {
    "collapsed": true
   },
   "outputs": [],
   "source": [
    "#This function simulates the Schrödinger's cat experiment by outputting either a 1, for alive, or a 0.\n",
    "def experiment():\n",
    "    alive = random.randint(0,1) # Randomly decide between a 0 and a 1\n",
    "    return alive"
   ]
  },
  {
   "cell_type": "markdown",
   "metadata": {},
   "source": [
    "Now let's set up the rest of the experiment. Attached to the experimental device is a printer. The experimental device learns the results of the experiment, but instead of just printing the result accurately, it'll print out a result that might not be true. For the first round, we'll print out either \"The cat is alive\" or \"The cat is dead\" with a 50% probability. Thus, there is actually no information about the experiment contained in the first printout."
   ]
  },
  {
   "cell_type": "code",
   "execution_count": 42,
   "metadata": {
    "collapsed": true
   },
   "outputs": [],
   "source": [
    "all_results=[] # we'll use this to collect all of our results in\n",
    "def print_result(result, veracity):\n",
    "    if result==1 and  veracity == True or result==0 and veracity == False:\n",
    "        print(\"The cat is alive\")\n",
    "        all_results.append(1)\n",
    "    else:\n",
    "        print(\"The cat is dead\")\n",
    "        all_results.append(0)"
   ]
  },
  {
   "cell_type": "markdown",
   "metadata": {},
   "source": [
    "OK, now we'll got our experiment and our printer set up, let's run the experiment!"
   ]
  },
  {
   "cell_type": "code",
   "execution_count": 14,
   "metadata": {
    "collapsed": false
   },
   "outputs": [],
   "source": [
    "#Run the experiment and get the result\n",
    "result = experiment()"
   ]
  },
  {
   "cell_type": "code",
   "execution_count": 38,
   "metadata": {
    "collapsed": false
   },
   "outputs": [
    {
     "name": "stdout",
     "output_type": "stream",
     "text": [
      "50\n",
      "The cat is dead\n"
     ]
    }
   ],
   "source": [
    "probability_of_truth = 50\n",
    "print(probability_of_truth)\n",
    "random_number = random.randint(1,100) # Generate a random number\n",
    "if random_number<probability_of_truth:\n",
    "    print_result(result, True)\n",
    "else:\n",
    "    print_result(result, False)"
   ]
  },
  {
   "cell_type": "markdown",
   "metadata": {},
   "source": [
    "Now the experiment has been conducted and a result has been printed, although the result is meaningless. Let's do that a few more times, except with each time we'll increase the probability that a True result is printed by one percentage point. Thus the next printout will be the truth with a probability of 51% and a lie with a probability of 49%. And the one after that will have a 52% chance of being true, and so on until 60%. "
   ]
  },
  {
   "cell_type": "code",
   "execution_count": 30,
   "metadata": {
    "collapsed": false
   },
   "outputs": [
    {
     "name": "stdout",
     "output_type": "stream",
     "text": [
      "The cat is alive\n",
      "The cat is dead\n",
      "The cat is alive\n",
      "The cat is dead\n",
      "The cat is dead\n",
      "The cat is alive\n",
      "The cat is alive\n",
      "The cat is alive\n",
      "The cat is alive\n"
     ]
    }
   ],
   "source": [
    "\n",
    "trials = 9\n",
    "for x in range(trials):\n",
    "    probability_of_truth = 51 + x # Starting at 51% and then increasing it by 1% every iteration\n",
    "    #print(\"\\nWith a probability of {probability}%:\".format(probability=probability_of_truth))\n",
    "    random_number = random.randint(1,100) # Generate a new random number each time\n",
    "    if random_number<probability_of_truth:\n",
    "        print_result(result, True)\n",
    "    else:\n",
    "        print_result(result, False)\n",
    "#print (count / trials)"
   ]
  },
  {
   "cell_type": "markdown",
   "metadata": {},
   "source": [
    "If it so happens that the person receiving the printout, we'll call her Alice, is a statistician, she could quickly calculate the true probability:"
   ]
  },
  {
   "cell_type": "code",
   "execution_count": 41,
   "metadata": {
    "collapsed": false
   },
   "outputs": [
    {
     "data": {
      "text/plain": [
       "[]"
      ]
     },
     "execution_count": 41,
     "metadata": {},
     "output_type": "execute_result"
    }
   ],
   "source": [
    "all_results"
   ]
  },
  {
   "cell_type": "code",
   "execution_count": null,
   "metadata": {
    "collapsed": true
   },
   "outputs": [],
   "source": []
  },
  {
   "cell_type": "code",
   "execution_count": 40,
   "metadata": {
    "collapsed": false
   },
   "outputs": [
    {
     "name": "stdout",
     "output_type": "stream",
     "text": [
      "50.0\n",
      "The cat is dead\n",
      "51.0\n",
      "The cat is dead\n",
      "52.0\n",
      "The cat is dead\n",
      "53.0\n",
      "The cat is alive\n",
      "54.0\n",
      "The cat is dead\n",
      "55.0\n",
      "The cat is dead\n",
      "56.0\n",
      "The cat is dead\n",
      "57.0\n",
      "The cat is alive\n",
      "58.0\n",
      "The cat is alive\n",
      "59.0\n",
      "The cat is dead\n",
      "60.0\n",
      "The cat is alive\n",
      "61.0\n",
      "The cat is dead\n",
      "62.0\n",
      "The cat is dead\n",
      "63.0\n",
      "The cat is alive\n",
      "64.0\n",
      "The cat is alive\n",
      "65.0\n",
      "The cat is dead\n",
      "66.0\n",
      "The cat is dead\n",
      "67.0\n",
      "The cat is dead\n",
      "68.0\n",
      "The cat is alive\n",
      "69.0\n",
      "The cat is dead\n",
      "70.0\n",
      "The cat is alive\n",
      "71.0\n",
      "The cat is dead\n",
      "72.0\n",
      "The cat is alive\n",
      "73.0\n",
      "The cat is alive\n",
      "74.0\n",
      "The cat is alive\n",
      "75.0\n",
      "The cat is alive\n",
      "76.0\n",
      "The cat is dead\n",
      "77.0\n",
      "The cat is alive\n",
      "78.0\n",
      "The cat is alive\n",
      "79.0\n",
      "The cat is alive\n",
      "80.0\n",
      "The cat is alive\n",
      "81.0\n",
      "The cat is dead\n",
      "82.0\n",
      "The cat is alive\n",
      "83.0\n",
      "The cat is alive\n",
      "84.0\n",
      "The cat is alive\n",
      "85.0\n",
      "The cat is alive\n",
      "86.0\n",
      "The cat is alive\n",
      "87.0\n",
      "The cat is alive\n",
      "88.0\n",
      "The cat is alive\n",
      "89.0\n",
      "The cat is alive\n",
      "90.0\n",
      "The cat is alive\n",
      "91.0\n",
      "The cat is dead\n",
      "92.0\n",
      "The cat is alive\n",
      "93.0\n",
      "The cat is alive\n",
      "94.0\n",
      "The cat is alive\n",
      "95.0\n",
      "The cat is alive\n",
      "96.0\n",
      "The cat is alive\n",
      "97.0\n",
      "The cat is alive\n",
      "98.0\n",
      "The cat is alive\n",
      "99.0\n",
      "The cat is alive\n",
      "0.0\n"
     ]
    }
   ],
   "source": [
    "trials = 50\n",
    "count = 0\n",
    "\n",
    "for x in range(trials):\n",
    "    prob_of_truth = 50 + 100*(x/(2*trials))\n",
    "    print(prob_of_truth)\n",
    "    a = random.randint(1,100)\n",
    "    if a<prob_of_truth:\n",
    "        truth(result)\n",
    "    else:\n",
    "        lie(result)\n",
    "print (count / trials)"
   ]
  },
  {
   "cell_type": "code",
   "execution_count": 23,
   "metadata": {
    "collapsed": true
   },
   "outputs": [],
   "source": [
    "def truth(result):\n",
    "    if result==1:\n",
    "        print(\"The cat is alive\")\n",
    "    else:\n",
    "        print(\"The cat is dead\")\n",
    "def lie(result):\n",
    "    if result==1:\n",
    "        print(\"The cat is dead\")\n",
    "    else:\n",
    "        print(\"The cat is alive\")"
   ]
  },
  {
   "cell_type": "code",
   "execution_count": 40,
   "metadata": {
    "collapsed": false
   },
   "outputs": [],
   "source": []
  },
  {
   "cell_type": "code",
   "execution_count": 30,
   "metadata": {
    "collapsed": false
   },
   "outputs": [
    {
     "name": "stdout",
     "output_type": "stream",
     "text": [
      "0\n",
      "0\n",
      "1\n",
      "0\n",
      "1\n"
     ]
    }
   ],
   "source": [
    "for x in range(5):\n",
    "    print(experiment())"
   ]
  },
  {
   "cell_type": "code",
   "execution_count": 32,
   "metadata": {
    "collapsed": true
   },
   "outputs": [],
   "source": [
    "result = experiment()"
   ]
  },
  {
   "cell_type": "code",
   "execution_count": null,
   "metadata": {
    "collapsed": true
   },
   "outputs": [],
   "source": [
    "#The other person learns whether the truth or a lie was told"
   ]
  },
  {
   "cell_type": "code",
   "execution_count": 22,
   "metadata": {
    "collapsed": true
   },
   "outputs": [],
   "source": [
    "#Two people could also lie to each other with a probability"
   ]
  },
  {
   "cell_type": "code",
   "execution_count": 9,
   "metadata": {
    "collapsed": false
   },
   "outputs": [
    {
     "name": "stdout",
     "output_type": "stream",
     "text": [
      "The cat is dead\n"
     ]
    }
   ],
   "source": [
    "print_result(0, 1)"
   ]
  },
  {
   "cell_type": "code",
   "execution_count": null,
   "metadata": {
    "collapsed": true
   },
   "outputs": [],
   "source": []
  }
 ],
 "metadata": {
  "kernelspec": {
   "display_name": "Python 2",
   "language": "python",
   "name": "python2"
  },
  "language_info": {
   "codemirror_mode": {
    "name": "ipython",
    "version": 2
   },
   "file_extension": ".py",
   "mimetype": "text/x-python",
   "name": "python",
   "nbconvert_exporter": "python",
   "pygments_lexer": "ipython2",
   "version": "2.7.11"
  }
 },
 "nbformat": 4,
 "nbformat_minor": 0
}
