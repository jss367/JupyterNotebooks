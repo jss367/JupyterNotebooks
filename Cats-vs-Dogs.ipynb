{
 "cells": [
  {
   "cell_type": "code",
   "execution_count": 1,
   "metadata": {},
   "outputs": [],
   "source": [
    "from tensorflow.compat.v1 import ConfigProto\n",
    "from tensorflow.compat.v1 import InteractiveSession\n",
    "\n",
    "config = ConfigProto()\n",
    "config.gpu_options.allow_growth = True\n",
    "session = InteractiveSession(config=config)"
   ]
  },
  {
   "cell_type": "code",
   "execution_count": 2,
   "metadata": {},
   "outputs": [],
   "source": [
    "import tensorflow as tf"
   ]
  },
  {
   "cell_type": "code",
   "execution_count": 3,
   "metadata": {},
   "outputs": [
    {
     "name": "stdout",
     "output_type": "stream",
     "text": [
      "2.1.0\n"
     ]
    }
   ],
   "source": [
    "print(tf.__version__)"
   ]
  },
  {
   "cell_type": "code",
   "execution_count": 4,
   "metadata": {},
   "outputs": [],
   "source": [
    "from tensorflow.keras.layers import Conv2D, Dense, Flatten, MaxPool2D\n",
    "from tensorflow.keras.models import Sequential\n",
    "from tensorflow.keras.preprocessing.image import ImageDataGenerator\n",
    "from os import listdir\n",
    "from os.path import join\n",
    "from matplotlib import pyplot as plt"
   ]
  },
  {
   "cell_type": "code",
   "execution_count": 5,
   "metadata": {},
   "outputs": [],
   "source": [
    "train_data_gen = ImageDataGenerator(rescale = 1./255,\n",
    "                                   rotation_range=30,\n",
    "                                   horizontal_flip=True,\n",
    "                                   zoom_range=0.75)\n",
    "validation_data_gen = ImageDataGenerator(rescale = 1./255)"
   ]
  },
  {
   "cell_type": "code",
   "execution_count": 6,
   "metadata": {},
   "outputs": [],
   "source": [
    "train_path = 'cats_vs_dogs_dataset/training'\n",
    "validation_path = 'cats_vs_dogs_dataset/validation'"
   ]
  },
  {
   "cell_type": "code",
   "execution_count": null,
   "metadata": {},
   "outputs": [],
   "source": []
  },
  {
   "cell_type": "code",
   "execution_count": 7,
   "metadata": {},
   "outputs": [
    {
     "name": "stdout",
     "output_type": "stream",
     "text": [
      "4000\n",
      "4000\n",
      "1000\n",
      "1000\n"
     ]
    }
   ],
   "source": [
    "num_cat_train_im = len(listdir(join(train_path, 'cats')))\n",
    "num_dog_train_im = len(listdir(join(train_path, 'dogs')))\n",
    "num_cat_val_im = len(listdir(join(validation_path, 'cats')))\n",
    "num_dog_val_im = len(listdir(join(validation_path, 'dogs')))\n",
    "print(num_cat_train_im)\n",
    "print(num_dog_train_im)\n",
    "print(num_cat_val_im)\n",
    "print(num_dog_val_im)"
   ]
  },
  {
   "cell_type": "code",
   "execution_count": 8,
   "metadata": {},
   "outputs": [],
   "source": [
    "num_train_im = num_cat_train_im + num_dog_train_im\n",
    "num_val_im = num_cat_val_im + num_dog_val_im"
   ]
  },
  {
   "cell_type": "code",
   "execution_count": 9,
   "metadata": {},
   "outputs": [],
   "source": [
    "img_height = 64\n",
    "img_width = 64\n",
    "num_channels = 3"
   ]
  },
  {
   "cell_type": "code",
   "execution_count": 10,
   "metadata": {},
   "outputs": [],
   "source": [
    "batch_size = 32\n",
    "epochs = 25"
   ]
  },
  {
   "cell_type": "code",
   "execution_count": 11,
   "metadata": {},
   "outputs": [
    {
     "name": "stdout",
     "output_type": "stream",
     "text": [
      "Found 8000 images belonging to 2 classes.\n",
      "Found 2000 images belonging to 2 classes.\n"
     ]
    }
   ],
   "source": [
    "training_data = train_data_gen.flow_from_directory(train_path,\n",
    "                                                 target_size = (img_height, img_width),\n",
    "                                                 batch_size = batch_size,\n",
    "                                                 class_mode = 'binary')\n",
    "\n",
    "validation_data = validation_data_gen.flow_from_directory(validation_path,\n",
    "                                                 target_size = (img_height, img_width),\n",
    "                                                 batch_size = batch_size,\n",
    "                                                 class_mode = 'binary')"
   ]
  },
  {
   "cell_type": "code",
   "execution_count": 12,
   "metadata": {},
   "outputs": [],
   "source": [
    "examp_images, _ = next(training_data)"
   ]
  },
  {
   "cell_type": "code",
   "execution_count": 13,
   "metadata": {},
   "outputs": [
    {
     "data": {
      "text/plain": [
       "<matplotlib.image.AxesImage at 0x21a66c4b9c8>"
      ]
     },
     "execution_count": 13,
     "metadata": {},
     "output_type": "execute_result"
    },
    {
     "data": {
      "image/png": "[encoded data removed]",
      "text/plain": [
       "<Figure size 432x288 with 1 Axes>"
      ]
     },
     "metadata": {
      "needs_background": "light"
     },
     "output_type": "display_data"
    }
   ],
   "source": [
    "plt.imshow(examp_images[0])"
   ]
  },
  {
   "cell_type": "code",
   "execution_count": 14,
   "metadata": {},
   "outputs": [],
   "source": [
    "model = Sequential()\n",
    "model.add(Conv2D(16, kernel_size=(3,3), padding='same', strides=2, input_shape=(img_height, img_width, num_channels), activation='relu'))\n",
    "model.add(MaxPool2D(pool_size=(2, 2)))\n",
    "model.add(Conv2D(32, kernel_size=(3,3), padding='same', strides=2, activation='relu'))\n",
    "model.add(MaxPool2D(pool_size=(2, 2)))\n",
    "model.add(Conv2D(64, kernel_size=(3,3), padding='same', strides=2, activation='relu'))\n",
    "model.add(MaxPool2D(pool_size=(2, 2)))\n",
    "model.add(Flatten())\n",
    "model.add(Dense(256, activation='relu'))\n",
    "model.add(Dense(1, activation='sigmoid'))"
   ]
  },
  {
   "cell_type": "code",
   "execution_count": 15,
   "metadata": {},
   "outputs": [
    {
     "name": "stdout",
     "output_type": "stream",
     "text": [
      "Model: \"sequential\"\n",
      "_________________________________________________________________\n",
      "Layer (type)                 Output Shape              Param #   \n",
      "=================================================================\n",
      "conv2d (Conv2D)              (None, 32, 32, 16)        448       \n",
      "_________________________________________________________________\n",
      "max_pooling2d (MaxPooling2D) (None, 16, 16, 16)        0         \n",
      "_________________________________________________________________\n",
      "conv2d_1 (Conv2D)            (None, 8, 8, 32)          4640      \n",
      "_________________________________________________________________\n",
      "max_pooling2d_1 (MaxPooling2 (None, 4, 4, 32)          0         \n",
      "_________________________________________________________________\n",
      "conv2d_2 (Conv2D)            (None, 2, 2, 64)          18496     \n",
      "_________________________________________________________________\n",
      "max_pooling2d_2 (MaxPooling2 (None, 1, 1, 64)          0         \n",
      "_________________________________________________________________\n",
      "flatten (Flatten)            (None, 64)                0         \n",
      "_________________________________________________________________\n",
      "dense (Dense)                (None, 256)               16640     \n",
      "_________________________________________________________________\n",
      "dense_1 (Dense)              (None, 1)                 257       \n",
      "=================================================================\n",
      "Total params: 40,481\n",
      "Trainable params: 40,481\n",
      "Non-trainable params: 0\n",
      "_________________________________________________________________\n"
     ]
    }
   ],
   "source": [
    "model.summary()"
   ]
  },
  {
   "cell_type": "code",
   "execution_count": 16,
   "metadata": {},
   "outputs": [],
   "source": [
    "model.compile(optimizer = 'adam', loss = 'binary_crossentropy', metrics=['accuracy'])"
   ]
  },
  {
   "cell_type": "code",
   "execution_count": 17,
   "metadata": {},
   "outputs": [
    {
     "name": "stdout",
     "output_type": "stream",
     "text": [
      "WARNING:tensorflow:From <ipython-input-17-918f6677065b>:5: Model.fit_generator (from tensorflow.python.keras.engine.training) is deprecated and will be removed in a future version.\n",
      "Instructions for updating:\n",
      "Please use Model.fit, which supports generators.\n",
      "WARNING:tensorflow:sample_weight modes were coerced from\n",
      "  ...\n",
      "    to  \n",
      "  ['...']\n",
      "WARNING:tensorflow:sample_weight modes were coerced from\n",
      "  ...\n",
      "    to  \n",
      "  ['...']\n",
      "Train for 250 steps, validate for 62 steps\n",
      "Epoch 1/20\n",
      "250/250 [==============================] - 27s 107ms/step - loss: 0.6929 - accuracy: 0.5140 - val_loss: 0.6885 - val_accuracy: 0.5368\n",
      "Epoch 2/20\n",
      "250/250 [==============================] - 27s 107ms/step - loss: 0.6755 - accuracy: 0.5757 - val_loss: 0.6500 - val_accuracy: 0.6270uracy: 0.525 - ETA: 19s - loss: 0.6889 - accu - ETA: 18s\n",
      "Epoch 3/20\n",
      "250/250 [==============================] - 27s 108ms/step - loss: 0.6541 - accuracy: 0.6161 - val_loss: 0.6383 - val_accuracy: 0.6270\n",
      "Epoch 4/20\n",
      "250/250 [==============================] - 27s 107ms/step - loss: 0.6395 - accuracy: 0.6299 - val_loss: 0.6002 - val_accuracy: 0.6941\n",
      "Epoch 5/20\n",
      "250/250 [==============================] - 26s 105ms/step - loss: 0.6290 - accuracy: 0.6434 - val_loss: 0.6354 - val_accuracy: 0.6346\n",
      "Epoch 6/20\n",
      "250/250 [==============================] - 26s 103ms/step - loss: 0.6094 - accuracy: 0.6674 - val_loss: 0.5914 - val_accuracy: 0.6835\n",
      "Epoch 7/20\n",
      "250/250 [==============================] - 26s 105ms/step - loss: 0.6064 - accuracy: 0.6675 - val_loss: 0.5870 - val_accuracy: 0.6835\n",
      "Epoch 8/20\n",
      "250/250 [==============================] - 26s 106ms/step - loss: 0.5931 - accuracy: 0.6783 - val_loss: 0.5664 - val_accuracy: 0.7021\n",
      "Epoch 9/20\n",
      "250/250 [==============================] - 29s 116ms/step - loss: 0.5923 - accuracy: 0.6875 - val_loss: 0.5623 - val_accuracy: 0.7046\n",
      "Epoch 10/20\n",
      "250/250 [==============================] - 26s 105ms/step - loss: 0.5770 - accuracy: 0.6900 - val_loss: 0.6122 - val_accuracy: 0.6860\n",
      "Epoch 11/20\n",
      "250/250 [==============================] - 27s 106ms/step - loss: 0.5708 - accuracy: 0.7035 - val_loss: 0.5497 - val_accuracy: 0.7203\n",
      "Epoch 12/20\n",
      "250/250 [==============================] - 27s 107ms/step - loss: 0.5713 - accuracy: 0.6990 - val_loss: 0.6072 - val_accuracy: 0.6709\n",
      "Epoch 13/20\n",
      "250/250 [==============================] - 26s 105ms/step - loss: 0.5723 - accuracy: 0.6991 - val_loss: 0.5363 - val_accuracy: 0.7359\n",
      "Epoch 14/20\n",
      "250/250 [==============================] - 27s 106ms/step - loss: 0.5665 - accuracy: 0.7086 - val_loss: 0.5284 - val_accuracy: 0.7384\n",
      "Epoch 15/20\n",
      "250/250 [==============================] - 26s 104ms/step - loss: 0.5608 - accuracy: 0.7079 - val_loss: 0.5317 - val_accuracy: 0.7354\n",
      "Epoch 16/20\n",
      "250/250 [==============================] - 26s 103ms/step - loss: 0.5672 - accuracy: 0.6955 - val_loss: 0.5253 - val_accuracy: 0.7465\n",
      "Epoch 17/20\n",
      "250/250 [==============================] - 26s 106ms/step - loss: 0.5555 - accuracy: 0.7069 - val_loss: 0.5262 - val_accuracy: 0.7288\n",
      "Epoch 18/20\n",
      "250/250 [==============================] - 27s 109ms/step - loss: 0.5585 - accuracy: 0.7099 - val_loss: 0.5305 - val_accuracy: 0.7339\n",
      "Epoch 19/20\n",
      "250/250 [==============================] - 27s 107ms/step - loss: 0.5570 - accuracy: 0.7075 - val_loss: 0.5214 - val_accuracy: 0.7440\n",
      "Epoch 20/20\n",
      "250/250 [==============================] - 26s 105ms/step - loss: 0.5599 - accuracy: 0.7110 - val_loss: 0.5237 - val_accuracy: 0.7359\n"
     ]
    },
    {
     "data": {
      "text/plain": [
       "<tensorflow.python.keras.callbacks.History at 0x21a670928c8>"
      ]
     },
     "execution_count": 17,
     "metadata": {},
     "output_type": "execute_result"
    }
   ],
   "source": [
    "model.fit_generator(training_data,\n",
    "                   steps_per_epoch = int(num_train_im / batch_size),\n",
    "                   epochs = 20,\n",
    "                   validation_data = validation_data,\n",
    "                   validation_steps = int(num_val_im / batch_size))"
   ]
  },
  {
   "cell_type": "code",
   "execution_count": null,
   "metadata": {},
   "outputs": [],
   "source": []
  },
  {
   "cell_type": "code",
   "execution_count": null,
   "metadata": {},
   "outputs": [],
   "source": []
  }
 ],
 "metadata": {
  "kernelspec": {
   "display_name": "Python 3",
   "language": "python",
   "name": "python3"
  },
  "language_info": {
   "codemirror_mode": {
    "name": "ipython",
    "version": 3
   },
   "file_extension": ".py",
   "mimetype": "text/x-python",
   "name": "python",
   "nbconvert_exporter": "python",
   "pygments_lexer": "ipython3",
   "version": "3.7.6"
  }
 },
 "nbformat": 4,
 "nbformat_minor": 4
}
