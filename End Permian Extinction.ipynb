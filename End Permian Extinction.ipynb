{
 "cells": [
  {
   "cell_type": "code",
   "execution_count": 54,
   "metadata": {
    "collapsed": false
   },
   "outputs": [],
   "source": [
    "from __future__ import print_function\n",
    "from __future__ import division"
   ]
  },
  {
   "cell_type": "code",
   "execution_count": 40,
   "metadata": {
    "collapsed": true
   },
   "outputs": [],
   "source": [
    "import numpy as np\n",
    "import math"
   ]
  },
  {
   "cell_type": "markdown",
   "metadata": {},
   "source": [
    "Chicxulub facts:\n",
    "\n",
    "\n",
    "Energy before atmospheric entry: 5.43 x 10^23 Joules\n",
    "\n",
    "Projectile diameter: 12.00 km ( = 7.45 miles )\n",
    "\n",
    "Projectile Density: 3000 kg/m3\n",
    "\n",
    "Impact Velocity: 20.00 km per second ( = 12.40 miles per second )"
   ]
  },
  {
   "cell_type": "code",
   "execution_count": 71,
   "metadata": {
    "collapsed": true
   },
   "outputs": [],
   "source": [
    "chicx_density = 3000 # kg/m^3\n",
    "chicx_diameter = 12000 #meters\n",
    "chicx_velocity = 20000 # meters per second"
   ]
  },
  {
   "cell_type": "code",
   "execution_count": 73,
   "metadata": {
    "collapsed": false
   },
   "outputs": [],
   "source": [
    "def impact(density, diameter, velocity):\n",
    "    volume = (4/3)*(diameter/2)**3 #\n",
    "    print(\"The volume of the impact is {:.2E} cubic meters\".format(volume))\n",
    "    mass = density * volume\n",
    "    print(\"The mass of the impact is {:.2E} kilograms\".format(mass))\n",
    "    energy = .5 * mass * (velocity **2)\n",
    "    print(\"The energy of the bollide at impact is {:.2E} Joules\".format(energy))\n",
    "    '''How much energy could this vaporize?'''\n",
    "    energy_to_vaporize_gram = 2260 # Joules per gram\n",
    "    energy_to_vaporize = energy_to_vaporize_gram * 1000 #Convert to Joules per kilogram\n",
    "    vaporized_water = energy / energy_to_vaporize # In kilograms\n",
    "    print(\"The mass of water vaporized by the impact is {:.2E} kilograms\".format(vaporized_water))\n",
    "    '''How much water is this?'''\n",
    "    volume_of_water = vaporized_water / 1000 # Converting kilograms to cubic meters\n",
    "    print(\"The volume of water vaporized by the impact is {:.2E} cubic meters\".format(volume_of_water))\n",
    "    water_in_the_ocean = 1.332e+18\n",
    "    percent_chic_vaporized = 100 * volume_of_water / water_in_the_ocean # 100 times that fraction to convert it to a percentage\n",
    "    print(\"The percentage of total water vaporized by the impact is {}%\".format(percent_chic_vaporized))\n",
    "    \"\"\"Let's see how much of the ocean is vaporized\"\"\"\n",
    "    #Let's use the surface area of all the water today, which should be roughly close enough\n",
    "    surface_area_sq_kilometers = 361132000\n",
    "    surface_area = surface_area_sq_kilometers * 1000000 #Converting to square meters\n",
    "    print(\"The surface area of the water on Earth is {:.2E} square meters\".format(surface_area))\n",
    "    \"\"\"Now let's see how much depth the volume of water vaporized would create\"\"\"\n",
    "    depth_vaporized = volume_of_water / surface_area # This result is in meters\n",
    "    print(\"The depth of water vaporized by the impact is {:.2E} meteres\".format(depth_vaporized))"
   ]
  },
  {
   "cell_type": "code",
   "execution_count": 74,
   "metadata": {
    "collapsed": false
   },
   "outputs": [
    {
     "name": "stdout",
     "output_type": "stream",
     "text": [
      "The volume of the impact is 2.88E+11 cubic meters\n",
      "The mass of the impact is 8.64E+14 kilograms\n",
      "The energy of the bollide at impact is 1.73E+23 Joules\n",
      "The mass of water vaporized by the impact is 7.65E+16 kilograms\n",
      "The volume of water vaporized by the impact is 7.65E+13 cubic meters\n",
      "The percentage of total water vaporized by the impact is 0.00574025352786%\n",
      "The surface area of the water on Earth is 3.61E+14 square meters\n",
      "The depth of water vaporized by the impact is 2.12E-01 meteres\n"
     ]
    }
   ],
   "source": [
    "impact(chicx_density, chicx_diameter, chicx_velocity)\n",
    "#The result is about 15-20 centimeters. Woo woo! (Dad says BFD!)"
   ]
  },
  {
   "cell_type": "code",
   "execution_count": 78,
   "metadata": {
    "collapsed": false
   },
   "outputs": [],
   "source": [
    "#End Permian Bolide\n",
    "EPB_denisty = 3000 # kg/m^3\n",
    "EPB_diameter = 75000 #meters\n",
    "EPB_velocity = 25000 # meters per second"
   ]
  },
  {
   "cell_type": "code",
   "execution_count": 79,
   "metadata": {
    "collapsed": false
   },
   "outputs": [
    {
     "name": "stdout",
     "output_type": "stream",
     "text": [
      "The volume of the impact is 7.03E+13 cubic meters\n",
      "The mass of the impact is 2.11E+17 kilograms\n",
      "The energy of the bollide at impact is 6.59E+25 Joules\n",
      "The mass of water vaporized by the impact is 2.92E+19 kilograms\n",
      "The volume of water vaporized by the impact is 2.92E+16 cubic meters\n",
      "The percentage of total water vaporized by the impact is 2.18973294367%\n",
      "The surface area of the water on Earth is 3.61E+14 square meters\n",
      "The depth of water vaporized by the impact is 8.08E+01 meteres\n"
     ]
    }
   ],
   "source": [
    "impact(EPB_denisty, EPB_diameter, EPB_velocity)"
   ]
  },
  {
   "cell_type": "code",
   "execution_count": 66,
   "metadata": {
    "collapsed": true
   },
   "outputs": [],
   "source": []
  },
  {
   "cell_type": "code",
   "execution_count": null,
   "metadata": {
    "collapsed": true
   },
   "outputs": [],
   "source": []
  }
 ],
 "metadata": {
  "kernelspec": {
   "display_name": "Python 2",
   "language": "python",
   "name": "python2"
  },
  "language_info": {
   "codemirror_mode": {
    "name": "ipython",
    "version": 2
   },
   "file_extension": ".py",
   "mimetype": "text/x-python",
   "name": "python",
   "nbconvert_exporter": "python",
   "pygments_lexer": "ipython2",
   "version": "2.7.11"
  }
 },
 "nbformat": 4,
 "nbformat_minor": 0
}
