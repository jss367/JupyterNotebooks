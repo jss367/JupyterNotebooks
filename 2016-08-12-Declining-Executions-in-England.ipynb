{
 "cells": [
  {
   "cell_type": "markdown",
   "metadata": {},
   "source": [
    "After coming across the numbers of convictions and executions in later 18th century England, I noticed that the percentage of those convicted each year seemed to decrease with each decade. Although the total number of executions (expressed below by line thickness) fluctuated, the percentage continuously decreased. I think this is due to Englanders growing distate of the practice."
   ]
  },
  {
   "cell_type": "code",
   "execution_count": 1,
   "metadata": {
    "collapsed": true
   },
   "outputs": [],
   "source": [
    "import pandas as pd\n",
    "import numpy as np\n",
    "import matplotlib.pyplot as plt\n",
    "%matplotlib inline"
   ]
  },
  {
   "cell_type": "code",
   "execution_count": 2,
   "metadata": {
    "collapsed": true
   },
   "outputs": [],
   "source": [
    "decade = ('1749-58', '1759-68', '1769-78', '1779-88', '1789-98', '1799-1808')\n",
    "convictions = (527, 372, 787, 1152, 770, 804)\n",
    "executions = (365, 206, 357, 531, 191, 126)"
   ]
  },
  {
   "cell_type": "code",
   "execution_count": 3,
   "metadata": {
    "collapsed": true
   },
   "outputs": [],
   "source": [
    "df = pd.DataFrame({'Convictions' : convictions, 'Executions' : executions}, index=decade)"
   ]
  },
  {
   "cell_type": "code",
   "execution_count": 5,
   "metadata": {
    "collapsed": true
   },
   "outputs": [],
   "source": [
    "df['Percentage'] = round((df['Executions'] / df['Convictions']) * 100,1)"
   ]
  },
  {
   "cell_type": "code",
   "execution_count": 16,
   "metadata": {},
   "outputs": [
    {
     "data": {
      "text/html": [
       "<div>\n",
       "<style>\n",
       "    .dataframe thead tr:only-child th {\n",
       "        text-align: right;\n",
       "    }\n",
       "\n",
       "    .dataframe thead th {\n",
       "        text-align: left;\n",
       "    }\n",
       "\n",
       "    .dataframe tbody tr th {\n",
       "        vertical-align: top;\n",
       "    }\n",
       "</style>\n",
       "<table border=\"1\" class=\"dataframe\">\n",
       "  <thead>\n",
       "    <tr style=\"text-align: right;\">\n",
       "      <th></th>\n",
       "      <th>Convictions</th>\n",
       "      <th>Executions</th>\n",
       "      <th>Percentage</th>\n",
       "    </tr>\n",
       "  </thead>\n",
       "  <tbody>\n",
       "    <tr>\n",
       "      <th>1749-58</th>\n",
       "      <td>527</td>\n",
       "      <td>365</td>\n",
       "      <td>69.3</td>\n",
       "    </tr>\n",
       "    <tr>\n",
       "      <th>1759-68</th>\n",
       "      <td>372</td>\n",
       "      <td>206</td>\n",
       "      <td>55.4</td>\n",
       "    </tr>\n",
       "    <tr>\n",
       "      <th>1769-78</th>\n",
       "      <td>787</td>\n",
       "      <td>357</td>\n",
       "      <td>45.4</td>\n",
       "    </tr>\n",
       "    <tr>\n",
       "      <th>1779-88</th>\n",
       "      <td>1152</td>\n",
       "      <td>531</td>\n",
       "      <td>46.1</td>\n",
       "    </tr>\n",
       "    <tr>\n",
       "      <th>1789-98</th>\n",
       "      <td>770</td>\n",
       "      <td>191</td>\n",
       "      <td>24.8</td>\n",
       "    </tr>\n",
       "    <tr>\n",
       "      <th>1799-1808</th>\n",
       "      <td>804</td>\n",
       "      <td>126</td>\n",
       "      <td>15.7</td>\n",
       "    </tr>\n",
       "  </tbody>\n",
       "</table>\n",
       "</div>"
      ],
      "text/plain": [
       "           Convictions  Executions  Percentage\n",
       "1749-58            527         365        69.3\n",
       "1759-68            372         206        55.4\n",
       "1769-78            787         357        45.4\n",
       "1779-88           1152         531        46.1\n",
       "1789-98            770         191        24.8\n",
       "1799-1808          804         126        15.7"
      ]
     },
     "execution_count": 16,
     "metadata": {},
     "output_type": "execute_result"
    }
   ],
   "source": [
    "df"
   ]
  },
  {
   "cell_type": "code",
   "execution_count": 11,
   "metadata": {
    "collapsed": true
   },
   "outputs": [],
   "source": [
    "x = np.array(range(6))\n",
    "y = df['Percentage']\n",
    "widths2 = df['Executions'].values / 100"
   ]
  },
  {
   "cell_type": "code",
   "execution_count": 37,
   "metadata": {},
   "outputs": [
    {
     "data": {
      "image/png": "[encoded data removed]",
      "text/plain": [
       "<matplotlib.figure.Figure at 0x1419dc50>"
      ]
     },
     "metadata": {},
     "output_type": "display_data"
    }
   ],
   "source": [
    "import matplotlib.patches as patch\n",
    "\n",
    "fig, ax = plt.subplots(1, 1, figsize=(10, 10))\n",
    "ax.set_xlim(-.5,5.5)\n",
    "ax.set_ylim(10,80)\n",
    "\n",
    "new_w = np.array(widths2) # <<< change according to your needs\n",
    "# FIXME: this should probably be done using some sort of affine\n",
    "#        transformation already build-in in matplotlib, but I don't know how\n",
    "\n",
    "for i in range(len(x)-1):\n",
    "    c = [[x[i], y[i]+new_w[i]/2.],\n",
    "         [x[i+1], y[i+1]+new_w[i+1]/2.],\n",
    "         [x[i+1], y[i+1]-new_w[i+1]/2.],\n",
    "         [x[i], y[i]-new_w[i]/2.]\n",
    "        ]\n",
    "    p = patch.Polygon(c)\n",
    "    ax.add_patch(p)\n",
    "plt.xlabel(\"Decade\")\n",
    "plt.ylabel(\"Execution Percentage\")\n",
    "plt.title(\"Declining appetite for executions in 18th century England\")\n",
    "plt.xticks(x, decade)\n",
    "plt.show()"
   ]
  },
  {
   "cell_type": "code",
   "execution_count": null,
   "metadata": {
    "collapsed": true
   },
   "outputs": [],
   "source": []
  }
 ],
 "metadata": {
  "kernelspec": {
   "display_name": "Python 3",
   "language": "python",
   "name": "python3"
  },
  "language_info": {
   "codemirror_mode": {
    "name": "ipython",
    "version": 3
   },
   "file_extension": ".py",
   "mimetype": "text/x-python",
   "name": "python",
   "nbconvert_exporter": "python",
   "pygments_lexer": "ipython3",
   "version": "3.6.2"
  }
 },
 "nbformat": 4,
 "nbformat_minor": 2
}
