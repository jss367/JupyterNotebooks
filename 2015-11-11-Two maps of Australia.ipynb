{
 "cells": [
  {
   "cell_type": "markdown",
   "metadata": {},
   "source": [
    "How long do you have to read or watch Australian news before there's any mention of the Northern Territory? Or someone living here, from here, or even anyone who's ever been here? It shouldn't take that long, but I assure you, it is. The truth is, the NT is mostly absent from national conversation that occurs in nationwide newspapers, telecasts, and the like. Why is that?\n",
    "\n",
    "A geographic map does nothing to explain this. The Northern Territory of Australia looms large on a map of Australia, appearing as an equal peer to the Australian states. This shouldn’t come as a surprise, as the Northern Territory covers the combined areas of France, Germany, and the U.K. with plenty of room to spare. But this map misleads more than it elucidates. The reality is that the Northern Territory plays so little a role in  Australian politics, business, and sports. Using land mass is a fine place to start, but for questions of culture, economics, and influence, it makes a pretty irrelevant map. What’s not seen in a geographic map is, naturally, the actual population sizes. This is where the incredible population imbalance between the states and territories becomes so profound. So how can we change the map to better explain Australian culture?\n",
    "\n",
    "To explore this question, I've made two maps. The first should look roughly familiar, except that the intricate Australian coasts have been reduced to straight lines for ease of use."
   ]
  },
  {
   "cell_type": "code",
   "execution_count": 1,
   "metadata": {
    "collapsed": true
   },
   "outputs": [],
   "source": [
    "import matplotlib.pyplot as plt\n",
    "import matplotlib.patches as patches\n",
    "%matplotlib inline"
   ]
  },
  {
   "cell_type": "code",
   "execution_count": 2,
   "metadata": {},
   "outputs": [
    {
     "data": {
      "text/plain": [
       "(-8, 5)"
      ]
     },
     "execution_count": 2,
     "metadata": {},
     "output_type": "execute_result"
    },
    {
     "data": {
      "image/png": "[encoded data removed]",
      "text/plain": [
       "<matplotlib.figure.Figure at 0x43fd9b0>"
      ]
     },
     "metadata": {},
     "output_type": "display_data"
    }
   ],
   "source": [
    "fig, ax = plt.subplots(1, 1, figsize=(10, 10))\n",
    "\n",
    "wa_h = 8\n",
    "wa_w = 5\n",
    "nt_w = 3\n",
    "nt_h = 4\n",
    "sa_h = 4\n",
    "sa_w = 4\n",
    "qld_w = 3\n",
    "qld_h = 4\n",
    "nsw_w = 2\n",
    "nsw_h = 3\n",
    "vic_h = 1\n",
    "vic_w = 2\n",
    "tas_h = 1\n",
    "tas_w = 1\n",
    "\n",
    "ax.add_patch(patches.Rectangle((0, -nsw_h), nsw_w, nsw_h, color='y')) #NSW   \n",
    "ax.add_patch(patches.Rectangle((-sa_w, -sa_h), sa_w, sa_h, color='g')) #SA\n",
    "ax.add_patch(patches.Rectangle((-sa_w, 0), nt_w, nt_h, color='r')) #NT\n",
    "ax.add_patch(patches.Rectangle((-sa_w+nt_w, 0), qld_w, qld_h, color='c')) #QLD\n",
    "ax.add_patch(patches.Rectangle((-sa_w-wa_w, -wa_h/2), wa_w, wa_h, color='k')) #WA\n",
    "ax.add_patch(patches.Rectangle((0, -nsw_h-vic_h), vic_w, vic_h, color='m')) #VIC\n",
    "ax.add_patch(patches.Rectangle((vic_w-tas_w, -nsw_h-vic_h-tas_h), tas_w, tas_h, color='b')) #TAS\n",
    "\n",
    "plt.text(1, -1.75, \"NSW\")\n",
    "plt.text(-2, -2, \"SA\")\n",
    "plt.text(-3, 2, \"NT\")\n",
    "plt.text(.25, 2, \"QLD\")\n",
    "plt.text(-9.5, 0, \"WA\")\n",
    "plt.text(2.1, -3.5, \"VIC\")\n",
    "plt.text(2.1, -5, \"TAS\")\n",
    "\n",
    "plt.axis('off')\n",
    "\n",
    "ax.set_xlim(-10,5)\n",
    "ax.set_ylim(-8,5)"
   ]
  },
  {
   "cell_type": "markdown",
   "metadata": {},
   "source": [
    "But for the second, I’ve adjusted the size of the territories based on their population. Australia is dominated by Queensland, New South Wales, and Victoria. The Northern Territory is tiny. While this map has no relation to the geographic realities of Australia, I think it's actually more accurate to look at this map when you consider how Australia works."
   ]
  },
  {
   "cell_type": "code",
   "execution_count": 4,
   "metadata": {
    "collapsed": true
   },
   "outputs": [],
   "source": [
    "nsw_pop = 7.27\n",
    "vic_pop = 5.60\n",
    "qld_pop = 4.56\n",
    "wa_pop = 2.45\n",
    "sa_pop = 1.65\n",
    "tas_pop = .51\n",
    "act_pop = .373\n",
    "nt_pop = .23"
   ]
  },
  {
   "cell_type": "code",
   "execution_count": 5,
   "metadata": {
    "collapsed": true
   },
   "outputs": [],
   "source": [
    "def find_pop_patch(h,w,pop):\n",
    "    std_h = h/(h+w)\n",
    "    std_w = w/(h+w)\n",
    "    new_h = std_h * pop\n",
    "    new_w = std_w * pop\n",
    "    return (new_w, new_h)"
   ]
  },
  {
   "cell_type": "code",
   "execution_count": 6,
   "metadata": {
    "collapsed": true
   },
   "outputs": [],
   "source": [
    "wa_w, wa_h = find_pop_patch(wa_h, wa_w, wa_pop)\n",
    "nt_w, nt_h = find_pop_patch(nt_h, nt_w, nt_pop)\n",
    "sa_w, sa_h = find_pop_patch(sa_h, sa_w, sa_pop)\n",
    "qld_w, qld_h = find_pop_patch(qld_h, qld_w, qld_pop)\n",
    "nsw_w, nsw_h = find_pop_patch(nsw_h, nsw_w, nsw_pop)\n",
    "#act_patch = find_pop_patch(act_h, act_w, act_pop)\n",
    "vic_w, vic_h = find_pop_patch(vic_h, vic_w, vic_pop)\n",
    "tas_w, tas_h = find_pop_patch(tas_h, tas_w, tas_pop)"
   ]
  },
  {
   "cell_type": "code",
   "execution_count": 8,
   "metadata": {},
   "outputs": [
    {
     "data": {
      "text/plain": [
       "(-8, 5)"
      ]
     },
     "execution_count": 8,
     "metadata": {},
     "output_type": "execute_result"
    },
    {
     "data": {
      "image/png": "[encoded data removed]",
      "text/plain": [
       "<matplotlib.figure.Figure at 0x11470128>"
      ]
     },
     "metadata": {},
     "output_type": "display_data"
    }
   ],
   "source": [
    "fig, ax = plt.subplots(1, 1, figsize=(12, 14))\n",
    "    \n",
    "ax.add_patch(patches.Rectangle((0, -nsw_h), nsw_w, nsw_h, color='y', label='NSW')) #NSW   \n",
    "ax.add_patch(patches.Rectangle((-sa_w, -sa_h), sa_w, sa_h, color='g')) #SA\n",
    "ax.add_patch(patches.Rectangle((-sa_w, 0), nt_w, nt_h, color='r')) #NT\n",
    "ax.add_patch(patches.Rectangle((-sa_w+nt_w, 0), qld_w, qld_h, color='c')) #QLD\n",
    "ax.add_patch(patches.Rectangle((-sa_w-wa_w, -wa_h/2), wa_w, wa_h, color='k')) #WA\n",
    "ax.add_patch(patches.Rectangle((0, -nsw_h-vic_h), vic_w, vic_h, color='m')) #VIC\n",
    "ax.add_patch(patches.Rectangle((vic_w-tas_w, -nsw_h-vic_h-tas_h), tas_w, tas_h, color='b')) #TAS\n",
    "ax.arrow(-.77, 1.5, 0, -0.95, head_width=0.05, head_length=0.1, fc='k', ec='k')\n",
    "\n",
    "plt.text(1.5, -2.5, \"NSW\")\n",
    "plt.text(-.5, -.5, \"SA\")\n",
    "plt.text(-1.6, 1.5, \"NT down there\")\n",
    "plt.text(.25, 1, \"QLD\")\n",
    "plt.text(-1.95, 0, \"WA\")\n",
    "plt.text(3.8, -5, \"VIC\")\n",
    "plt.text(3.8, -6.5, \"TAS\")\n",
    "\n",
    "plt.axis('off')\n",
    "\n",
    "ax.set_xlim(-2,5)\n",
    "ax.set_ylim(-8,5)"
   ]
  }
 ],
 "metadata": {
  "kernelspec": {
   "display_name": "Python 3",
   "language": "python",
   "name": "python3"
  },
  "language_info": {
   "codemirror_mode": {
    "name": "ipython",
    "version": 3
   },
   "file_extension": ".py",
   "mimetype": "text/x-python",
   "name": "python",
   "nbconvert_exporter": "python",
   "pygments_lexer": "ipython3",
   "version": "3.6.2"
  }
 },
 "nbformat": 4,
 "nbformat_minor": 1
}
