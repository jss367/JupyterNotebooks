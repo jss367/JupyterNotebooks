{
 "cells": [
  {
   "cell_type": "code",
   "execution_count": 2,
   "metadata": {},
   "outputs": [],
   "source": [
    "from fastai.tabular.all import *"
   ]
  },
  {
   "cell_type": "code",
   "execution_count": 2,
   "metadata": {},
   "outputs": [
    {
     "name": "stderr",
     "output_type": "stream",
     "text": [
      "/Users/jsimonelli/opt/anaconda3/envs/pt/lib/python3.8/site-packages/fastbook/__init__.py:19: UserWarning: Missing `graphviz` - please run `conda install fastbook`\n",
      "  except ModuleNotFoundError: warn(\"Missing `graphviz` - please run `conda install fastbook`\")\n"
     ]
    }
   ],
   "source": [
    "from kaggle import api\n",
    "from fastai.torch_basics import *\n",
    "from fastbook import *\n",
    "# # from kaggle import api\n",
    "# # from pandas.api.types import is_string_dtype, is_numeric_dtype, is_categorical_dtype\n",
    "from fastai.tabular.all import *"
   ]
  },
  {
   "cell_type": "code",
   "execution_count": 3,
   "metadata": {},
   "outputs": [],
   "source": [
    "creds = ''"
   ]
  },
  {
   "cell_type": "code",
   "execution_count": 4,
   "metadata": {},
   "outputs": [],
   "source": [
    "def file_extract(fname, dest=None):\n",
    "    \"Extract `fname` to `dest` using `tarfile` or `zipfile`.\"\n",
    "    if dest is None:\n",
    "        dest = Path(fname).parent\n",
    "    fname = str(fname)\n",
    "    if fname.endswith(\"gz\"):\n",
    "        tarfile.open(fname, \"r:gz\").extractall(dest)\n",
    "    elif fname.endswith(\"zip\"):\n",
    "        zipfile.ZipFile(fname).extractall(dest)\n",
    "    else:\n",
    "        raise Exception(f\"Unrecognized archive: {fname}\")"
   ]
  },
  {
   "cell_type": "code",
   "execution_count": 5,
   "metadata": {},
   "outputs": [],
   "source": [
    "cred_path = Path('~/.kaggle/kaggle.json').expanduser()\n",
    "if not cred_path.exists():\n",
    "    cred_path.parent.mkdir(exist_ok=True)\n",
    "    cred_path.write_text(creds)\n",
    "    cred_path.chmod(0o600)"
   ]
  },
  {
   "cell_type": "code",
   "execution_count": 6,
   "metadata": {},
   "outputs": [
    {
     "data": {
      "text/plain": [
       "<function fastai.data.external.URLs.path(url='.', c_key='archive')>"
      ]
     },
     "execution_count": 6,
     "metadata": {},
     "output_type": "execute_result"
    }
   ],
   "source": [
    "URLs.path"
   ]
  },
  {
   "cell_type": "code",
   "execution_count": 4,
   "metadata": {},
   "outputs": [],
   "source": [
    "path = URLs.path('bluebook')"
   ]
  },
  {
   "cell_type": "code",
   "execution_count": 5,
   "metadata": {},
   "outputs": [
    {
     "data": {
      "text/plain": [
       "Path('/Users/jsimonelli/.fastai/archive/bluebook')"
      ]
     },
     "execution_count": 5,
     "metadata": {},
     "output_type": "execute_result"
    }
   ],
   "source": [
    "path"
   ]
  },
  {
   "cell_type": "code",
   "execution_count": 6,
   "metadata": {},
   "outputs": [
    {
     "ename": "NameError",
     "evalue": "name 'file_extract' is not defined",
     "output_type": "error",
     "traceback": [
      "\u001b[0;31m---------------------------------------------------------------------------\u001b[0m",
      "\u001b[0;31mNameError\u001b[0m                                 Traceback (most recent call last)",
      "\u001b[0;32m/var/folders/z_/pjmcy1_s1mgdyj7z5xdhpsdm0000gn/T/ipykernel_50631/2177471932.py\u001b[0m in \u001b[0;36m<module>\u001b[0;34m\u001b[0m\n\u001b[0;32m----> 1\u001b[0;31m \u001b[0mfile_extract\u001b[0m\u001b[0;34m\u001b[0m\u001b[0;34m\u001b[0m\u001b[0m\n\u001b[0m",
      "\u001b[0;31mNameError\u001b[0m: name 'file_extract' is not defined"
     ]
    }
   ],
   "source": [
    "file_extract"
   ]
  },
  {
   "cell_type": "code",
   "execution_count": 10,
   "metadata": {},
   "outputs": [],
   "source": [
    "if not path.exists():\n",
    "    path.mkdir(parents=true)\n",
    "    api.competition_download_cli('bluebook-for-bulldozers', path=path)\n",
    "    file_extract(path/'bluebook-for-bulldozers.zip')"
   ]
  },
  {
   "cell_type": "code",
   "execution_count": 7,
   "metadata": {},
   "outputs": [
    {
     "data": {
      "text/plain": [
       "(#7) [Path('/Users/jsimonelli/.fastai/archive/bluebook/random_forest_benchmark_test.csv'),Path('/Users/jsimonelli/.fastai/archive/bluebook/Valid.csv'),Path('/Users/jsimonelli/.fastai/archive/bluebook/median_benchmark.csv'),Path('/Users/jsimonelli/.fastai/archive/bluebook/Test.csv'),Path('/Users/jsimonelli/.fastai/archive/bluebook/ValidSolution.csv'),Path('/Users/jsimonelli/.fastai/archive/bluebook/Machine_Appendix.csv'),Path('/Users/jsimonelli/.fastai/archive/bluebook/TrainAndValid.csv')]"
      ]
     },
     "execution_count": 7,
     "metadata": {},
     "output_type": "execute_result"
    }
   ],
   "source": [
    "path.ls(file_type='text')"
   ]
  },
  {
   "cell_type": "code",
   "execution_count": 12,
   "metadata": {},
   "outputs": [],
   "source": [
    "df_nn = pd.read_csv(path / 'TrainAndValid.csv', low_memory=False)"
   ]
  },
  {
   "cell_type": "code",
   "execution_count": 13,
   "metadata": {},
   "outputs": [
    {
     "data": {
      "text/html": [
       "<div>\n",
       "<style scoped>\n",
       "    .dataframe tbody tr th:only-of-type {\n",
       "        vertical-align: middle;\n",
       "    }\n",
       "\n",
       "    .dataframe tbody tr th {\n",
       "        vertical-align: top;\n",
       "    }\n",
       "\n",
       "    .dataframe thead th {\n",
       "        text-align: right;\n",
       "    }\n",
       "</style>\n",
       "<table border=\"1\" class=\"dataframe\">\n",
       "  <thead>\n",
       "    <tr style=\"text-align: right;\">\n",
       "      <th></th>\n",
       "      <th>SalesID</th>\n",
       "      <th>SalePrice</th>\n",
       "      <th>MachineID</th>\n",
       "      <th>ModelID</th>\n",
       "      <th>datasource</th>\n",
       "      <th>auctioneerID</th>\n",
       "      <th>YearMade</th>\n",
       "      <th>MachineHoursCurrentMeter</th>\n",
       "      <th>UsageBand</th>\n",
       "      <th>saledate</th>\n",
       "      <th>fiModelDesc</th>\n",
       "      <th>fiBaseModel</th>\n",
       "      <th>fiSecondaryDesc</th>\n",
       "      <th>fiModelSeries</th>\n",
       "      <th>fiModelDescriptor</th>\n",
       "      <th>ProductSize</th>\n",
       "      <th>fiProductClassDesc</th>\n",
       "      <th>state</th>\n",
       "      <th>ProductGroup</th>\n",
       "      <th>ProductGroupDesc</th>\n",
       "      <th>Drive_System</th>\n",
       "      <th>Enclosure</th>\n",
       "      <th>Forks</th>\n",
       "      <th>Pad_Type</th>\n",
       "      <th>Ride_Control</th>\n",
       "      <th>Stick</th>\n",
       "      <th>Transmission</th>\n",
       "      <th>Turbocharged</th>\n",
       "      <th>Blade_Extension</th>\n",
       "      <th>Blade_Width</th>\n",
       "      <th>Enclosure_Type</th>\n",
       "      <th>Engine_Horsepower</th>\n",
       "      <th>Hydraulics</th>\n",
       "      <th>Pushblock</th>\n",
       "      <th>Ripper</th>\n",
       "      <th>Scarifier</th>\n",
       "      <th>Tip_Control</th>\n",
       "      <th>Tire_Size</th>\n",
       "      <th>Coupler</th>\n",
       "      <th>Coupler_System</th>\n",
       "      <th>Grouser_Tracks</th>\n",
       "      <th>Hydraulics_Flow</th>\n",
       "      <th>Track_Type</th>\n",
       "      <th>Undercarriage_Pad_Width</th>\n",
       "      <th>Stick_Length</th>\n",
       "      <th>Thumb</th>\n",
       "      <th>Pattern_Changer</th>\n",
       "      <th>Grouser_Type</th>\n",
       "      <th>Backhoe_Mounting</th>\n",
       "      <th>Blade_Type</th>\n",
       "      <th>Travel_Controls</th>\n",
       "      <th>Differential_Type</th>\n",
       "      <th>Steering_Controls</th>\n",
       "    </tr>\n",
       "  </thead>\n",
       "  <tbody>\n",
       "    <tr>\n",
       "      <th>0</th>\n",
       "      <td>1139246</td>\n",
       "      <td>66000.0</td>\n",
       "      <td>999089</td>\n",
       "      <td>3157</td>\n",
       "      <td>121</td>\n",
       "      <td>3.0</td>\n",
       "      <td>2004</td>\n",
       "      <td>68.0</td>\n",
       "      <td>Low</td>\n",
       "      <td>11/16/2006 0:00</td>\n",
       "      <td>521D</td>\n",
       "      <td>521</td>\n",
       "      <td>D</td>\n",
       "      <td>NaN</td>\n",
       "      <td>NaN</td>\n",
       "      <td>NaN</td>\n",
       "      <td>Wheel Loader - 110.0 to 120.0 Horsepower</td>\n",
       "      <td>Alabama</td>\n",
       "      <td>WL</td>\n",
       "      <td>Wheel Loader</td>\n",
       "      <td>NaN</td>\n",
       "      <td>EROPS w AC</td>\n",
       "      <td>None or Unspecified</td>\n",
       "      <td>NaN</td>\n",
       "      <td>None or Unspecified</td>\n",
       "      <td>NaN</td>\n",
       "      <td>NaN</td>\n",
       "      <td>NaN</td>\n",
       "      <td>NaN</td>\n",
       "      <td>NaN</td>\n",
       "      <td>NaN</td>\n",
       "      <td>NaN</td>\n",
       "      <td>2 Valve</td>\n",
       "      <td>NaN</td>\n",
       "      <td>NaN</td>\n",
       "      <td>NaN</td>\n",
       "      <td>NaN</td>\n",
       "      <td>None or Unspecified</td>\n",
       "      <td>None or Unspecified</td>\n",
       "      <td>NaN</td>\n",
       "      <td>NaN</td>\n",
       "      <td>NaN</td>\n",
       "      <td>NaN</td>\n",
       "      <td>NaN</td>\n",
       "      <td>NaN</td>\n",
       "      <td>NaN</td>\n",
       "      <td>NaN</td>\n",
       "      <td>NaN</td>\n",
       "      <td>NaN</td>\n",
       "      <td>NaN</td>\n",
       "      <td>NaN</td>\n",
       "      <td>Standard</td>\n",
       "      <td>Conventional</td>\n",
       "    </tr>\n",
       "    <tr>\n",
       "      <th>1</th>\n",
       "      <td>1139248</td>\n",
       "      <td>57000.0</td>\n",
       "      <td>117657</td>\n",
       "      <td>77</td>\n",
       "      <td>121</td>\n",
       "      <td>3.0</td>\n",
       "      <td>1996</td>\n",
       "      <td>4640.0</td>\n",
       "      <td>Low</td>\n",
       "      <td>3/26/2004 0:00</td>\n",
       "      <td>950FII</td>\n",
       "      <td>950</td>\n",
       "      <td>F</td>\n",
       "      <td>II</td>\n",
       "      <td>NaN</td>\n",
       "      <td>Medium</td>\n",
       "      <td>Wheel Loader - 150.0 to 175.0 Horsepower</td>\n",
       "      <td>North Carolina</td>\n",
       "      <td>WL</td>\n",
       "      <td>Wheel Loader</td>\n",
       "      <td>NaN</td>\n",
       "      <td>EROPS w AC</td>\n",
       "      <td>None or Unspecified</td>\n",
       "      <td>NaN</td>\n",
       "      <td>None or Unspecified</td>\n",
       "      <td>NaN</td>\n",
       "      <td>NaN</td>\n",
       "      <td>NaN</td>\n",
       "      <td>NaN</td>\n",
       "      <td>NaN</td>\n",
       "      <td>NaN</td>\n",
       "      <td>NaN</td>\n",
       "      <td>2 Valve</td>\n",
       "      <td>NaN</td>\n",
       "      <td>NaN</td>\n",
       "      <td>NaN</td>\n",
       "      <td>NaN</td>\n",
       "      <td>23.5</td>\n",
       "      <td>None or Unspecified</td>\n",
       "      <td>NaN</td>\n",
       "      <td>NaN</td>\n",
       "      <td>NaN</td>\n",
       "      <td>NaN</td>\n",
       "      <td>NaN</td>\n",
       "      <td>NaN</td>\n",
       "      <td>NaN</td>\n",
       "      <td>NaN</td>\n",
       "      <td>NaN</td>\n",
       "      <td>NaN</td>\n",
       "      <td>NaN</td>\n",
       "      <td>NaN</td>\n",
       "      <td>Standard</td>\n",
       "      <td>Conventional</td>\n",
       "    </tr>\n",
       "    <tr>\n",
       "      <th>2</th>\n",
       "      <td>1139249</td>\n",
       "      <td>10000.0</td>\n",
       "      <td>434808</td>\n",
       "      <td>7009</td>\n",
       "      <td>121</td>\n",
       "      <td>3.0</td>\n",
       "      <td>2001</td>\n",
       "      <td>2838.0</td>\n",
       "      <td>High</td>\n",
       "      <td>2/26/2004 0:00</td>\n",
       "      <td>226</td>\n",
       "      <td>226</td>\n",
       "      <td>NaN</td>\n",
       "      <td>NaN</td>\n",
       "      <td>NaN</td>\n",
       "      <td>NaN</td>\n",
       "      <td>Skid Steer Loader - 1351.0 to 1601.0 Lb Operating Capacity</td>\n",
       "      <td>New York</td>\n",
       "      <td>SSL</td>\n",
       "      <td>Skid Steer Loaders</td>\n",
       "      <td>NaN</td>\n",
       "      <td>OROPS</td>\n",
       "      <td>None or Unspecified</td>\n",
       "      <td>NaN</td>\n",
       "      <td>NaN</td>\n",
       "      <td>NaN</td>\n",
       "      <td>NaN</td>\n",
       "      <td>NaN</td>\n",
       "      <td>NaN</td>\n",
       "      <td>NaN</td>\n",
       "      <td>NaN</td>\n",
       "      <td>NaN</td>\n",
       "      <td>Auxiliary</td>\n",
       "      <td>NaN</td>\n",
       "      <td>NaN</td>\n",
       "      <td>NaN</td>\n",
       "      <td>NaN</td>\n",
       "      <td>NaN</td>\n",
       "      <td>None or Unspecified</td>\n",
       "      <td>None or Unspecified</td>\n",
       "      <td>None or Unspecified</td>\n",
       "      <td>Standard</td>\n",
       "      <td>NaN</td>\n",
       "      <td>NaN</td>\n",
       "      <td>NaN</td>\n",
       "      <td>NaN</td>\n",
       "      <td>NaN</td>\n",
       "      <td>NaN</td>\n",
       "      <td>NaN</td>\n",
       "      <td>NaN</td>\n",
       "      <td>NaN</td>\n",
       "      <td>NaN</td>\n",
       "      <td>NaN</td>\n",
       "    </tr>\n",
       "    <tr>\n",
       "      <th>3</th>\n",
       "      <td>1139251</td>\n",
       "      <td>38500.0</td>\n",
       "      <td>1026470</td>\n",
       "      <td>332</td>\n",
       "      <td>121</td>\n",
       "      <td>3.0</td>\n",
       "      <td>2001</td>\n",
       "      <td>3486.0</td>\n",
       "      <td>High</td>\n",
       "      <td>5/19/2011 0:00</td>\n",
       "      <td>PC120-6E</td>\n",
       "      <td>PC120</td>\n",
       "      <td>NaN</td>\n",
       "      <td>-6E</td>\n",
       "      <td>NaN</td>\n",
       "      <td>Small</td>\n",
       "      <td>Hydraulic Excavator, Track - 12.0 to 14.0 Metric Tons</td>\n",
       "      <td>Texas</td>\n",
       "      <td>TEX</td>\n",
       "      <td>Track Excavators</td>\n",
       "      <td>NaN</td>\n",
       "      <td>EROPS w AC</td>\n",
       "      <td>NaN</td>\n",
       "      <td>NaN</td>\n",
       "      <td>NaN</td>\n",
       "      <td>NaN</td>\n",
       "      <td>NaN</td>\n",
       "      <td>NaN</td>\n",
       "      <td>NaN</td>\n",
       "      <td>NaN</td>\n",
       "      <td>NaN</td>\n",
       "      <td>NaN</td>\n",
       "      <td>2 Valve</td>\n",
       "      <td>NaN</td>\n",
       "      <td>NaN</td>\n",
       "      <td>NaN</td>\n",
       "      <td>NaN</td>\n",
       "      <td>NaN</td>\n",
       "      <td>None or Unspecified</td>\n",
       "      <td>NaN</td>\n",
       "      <td>NaN</td>\n",
       "      <td>NaN</td>\n",
       "      <td>NaN</td>\n",
       "      <td>NaN</td>\n",
       "      <td>NaN</td>\n",
       "      <td>NaN</td>\n",
       "      <td>NaN</td>\n",
       "      <td>NaN</td>\n",
       "      <td>NaN</td>\n",
       "      <td>NaN</td>\n",
       "      <td>NaN</td>\n",
       "      <td>NaN</td>\n",
       "      <td>NaN</td>\n",
       "    </tr>\n",
       "    <tr>\n",
       "      <th>4</th>\n",
       "      <td>1139253</td>\n",
       "      <td>11000.0</td>\n",
       "      <td>1057373</td>\n",
       "      <td>17311</td>\n",
       "      <td>121</td>\n",
       "      <td>3.0</td>\n",
       "      <td>2007</td>\n",
       "      <td>722.0</td>\n",
       "      <td>Medium</td>\n",
       "      <td>7/23/2009 0:00</td>\n",
       "      <td>S175</td>\n",
       "      <td>S175</td>\n",
       "      <td>NaN</td>\n",
       "      <td>NaN</td>\n",
       "      <td>NaN</td>\n",
       "      <td>NaN</td>\n",
       "      <td>Skid Steer Loader - 1601.0 to 1751.0 Lb Operating Capacity</td>\n",
       "      <td>New York</td>\n",
       "      <td>SSL</td>\n",
       "      <td>Skid Steer Loaders</td>\n",
       "      <td>NaN</td>\n",
       "      <td>EROPS</td>\n",
       "      <td>None or Unspecified</td>\n",
       "      <td>NaN</td>\n",
       "      <td>NaN</td>\n",
       "      <td>NaN</td>\n",
       "      <td>NaN</td>\n",
       "      <td>NaN</td>\n",
       "      <td>NaN</td>\n",
       "      <td>NaN</td>\n",
       "      <td>NaN</td>\n",
       "      <td>NaN</td>\n",
       "      <td>Auxiliary</td>\n",
       "      <td>NaN</td>\n",
       "      <td>NaN</td>\n",
       "      <td>NaN</td>\n",
       "      <td>NaN</td>\n",
       "      <td>NaN</td>\n",
       "      <td>None or Unspecified</td>\n",
       "      <td>None or Unspecified</td>\n",
       "      <td>None or Unspecified</td>\n",
       "      <td>Standard</td>\n",
       "      <td>NaN</td>\n",
       "      <td>NaN</td>\n",
       "      <td>NaN</td>\n",
       "      <td>NaN</td>\n",
       "      <td>NaN</td>\n",
       "      <td>NaN</td>\n",
       "      <td>NaN</td>\n",
       "      <td>NaN</td>\n",
       "      <td>NaN</td>\n",
       "      <td>NaN</td>\n",
       "      <td>NaN</td>\n",
       "    </tr>\n",
       "    <tr>\n",
       "      <th>...</th>\n",
       "      <td>...</td>\n",
       "      <td>...</td>\n",
       "      <td>...</td>\n",
       "      <td>...</td>\n",
       "      <td>...</td>\n",
       "      <td>...</td>\n",
       "      <td>...</td>\n",
       "      <td>...</td>\n",
       "      <td>...</td>\n",
       "      <td>...</td>\n",
       "      <td>...</td>\n",
       "      <td>...</td>\n",
       "      <td>...</td>\n",
       "      <td>...</td>\n",
       "      <td>...</td>\n",
       "      <td>...</td>\n",
       "      <td>...</td>\n",
       "      <td>...</td>\n",
       "      <td>...</td>\n",
       "      <td>...</td>\n",
       "      <td>...</td>\n",
       "      <td>...</td>\n",
       "      <td>...</td>\n",
       "      <td>...</td>\n",
       "      <td>...</td>\n",
       "      <td>...</td>\n",
       "      <td>...</td>\n",
       "      <td>...</td>\n",
       "      <td>...</td>\n",
       "      <td>...</td>\n",
       "      <td>...</td>\n",
       "      <td>...</td>\n",
       "      <td>...</td>\n",
       "      <td>...</td>\n",
       "      <td>...</td>\n",
       "      <td>...</td>\n",
       "      <td>...</td>\n",
       "      <td>...</td>\n",
       "      <td>...</td>\n",
       "      <td>...</td>\n",
       "      <td>...</td>\n",
       "      <td>...</td>\n",
       "      <td>...</td>\n",
       "      <td>...</td>\n",
       "      <td>...</td>\n",
       "      <td>...</td>\n",
       "      <td>...</td>\n",
       "      <td>...</td>\n",
       "      <td>...</td>\n",
       "      <td>...</td>\n",
       "      <td>...</td>\n",
       "      <td>...</td>\n",
       "      <td>...</td>\n",
       "    </tr>\n",
       "    <tr>\n",
       "      <th>412693</th>\n",
       "      <td>6333344</td>\n",
       "      <td>10000.0</td>\n",
       "      <td>1919201</td>\n",
       "      <td>21435</td>\n",
       "      <td>149</td>\n",
       "      <td>2.0</td>\n",
       "      <td>2005</td>\n",
       "      <td>NaN</td>\n",
       "      <td>NaN</td>\n",
       "      <td>3/7/2012 0:00</td>\n",
       "      <td>30NX</td>\n",
       "      <td>30</td>\n",
       "      <td>NX</td>\n",
       "      <td>NaN</td>\n",
       "      <td>NaN</td>\n",
       "      <td>Mini</td>\n",
       "      <td>Hydraulic Excavator, Track - 2.0 to 3.0 Metric Tons</td>\n",
       "      <td>Texas</td>\n",
       "      <td>TEX</td>\n",
       "      <td>Track Excavators</td>\n",
       "      <td>NaN</td>\n",
       "      <td>EROPS</td>\n",
       "      <td>NaN</td>\n",
       "      <td>NaN</td>\n",
       "      <td>NaN</td>\n",
       "      <td>NaN</td>\n",
       "      <td>NaN</td>\n",
       "      <td>NaN</td>\n",
       "      <td>NaN</td>\n",
       "      <td>NaN</td>\n",
       "      <td>NaN</td>\n",
       "      <td>NaN</td>\n",
       "      <td>Standard</td>\n",
       "      <td>NaN</td>\n",
       "      <td>NaN</td>\n",
       "      <td>NaN</td>\n",
       "      <td>NaN</td>\n",
       "      <td>NaN</td>\n",
       "      <td>None or Unspecified</td>\n",
       "      <td>NaN</td>\n",
       "      <td>NaN</td>\n",
       "      <td>NaN</td>\n",
       "      <td>Steel</td>\n",
       "      <td>None or Unspecified</td>\n",
       "      <td>None or Unspecified</td>\n",
       "      <td>None or Unspecified</td>\n",
       "      <td>None or Unspecified</td>\n",
       "      <td>Double</td>\n",
       "      <td>NaN</td>\n",
       "      <td>NaN</td>\n",
       "      <td>NaN</td>\n",
       "      <td>NaN</td>\n",
       "      <td>NaN</td>\n",
       "    </tr>\n",
       "    <tr>\n",
       "      <th>412694</th>\n",
       "      <td>6333345</td>\n",
       "      <td>10500.0</td>\n",
       "      <td>1882122</td>\n",
       "      <td>21436</td>\n",
       "      <td>149</td>\n",
       "      <td>2.0</td>\n",
       "      <td>2005</td>\n",
       "      <td>NaN</td>\n",
       "      <td>NaN</td>\n",
       "      <td>1/28/2012 0:00</td>\n",
       "      <td>30NX2</td>\n",
       "      <td>30</td>\n",
       "      <td>NX</td>\n",
       "      <td>2</td>\n",
       "      <td>NaN</td>\n",
       "      <td>Mini</td>\n",
       "      <td>Hydraulic Excavator, Track - 3.0 to 4.0 Metric Tons</td>\n",
       "      <td>Florida</td>\n",
       "      <td>TEX</td>\n",
       "      <td>Track Excavators</td>\n",
       "      <td>NaN</td>\n",
       "      <td>EROPS</td>\n",
       "      <td>NaN</td>\n",
       "      <td>NaN</td>\n",
       "      <td>NaN</td>\n",
       "      <td>NaN</td>\n",
       "      <td>NaN</td>\n",
       "      <td>NaN</td>\n",
       "      <td>NaN</td>\n",
       "      <td>NaN</td>\n",
       "      <td>NaN</td>\n",
       "      <td>NaN</td>\n",
       "      <td>Auxiliary</td>\n",
       "      <td>NaN</td>\n",
       "      <td>NaN</td>\n",
       "      <td>NaN</td>\n",
       "      <td>NaN</td>\n",
       "      <td>NaN</td>\n",
       "      <td>None or Unspecified</td>\n",
       "      <td>NaN</td>\n",
       "      <td>NaN</td>\n",
       "      <td>NaN</td>\n",
       "      <td>Steel</td>\n",
       "      <td>None or Unspecified</td>\n",
       "      <td>None or Unspecified</td>\n",
       "      <td>None or Unspecified</td>\n",
       "      <td>None or Unspecified</td>\n",
       "      <td>Double</td>\n",
       "      <td>NaN</td>\n",
       "      <td>NaN</td>\n",
       "      <td>NaN</td>\n",
       "      <td>NaN</td>\n",
       "      <td>NaN</td>\n",
       "    </tr>\n",
       "    <tr>\n",
       "      <th>412695</th>\n",
       "      <td>6333347</td>\n",
       "      <td>12500.0</td>\n",
       "      <td>1944213</td>\n",
       "      <td>21435</td>\n",
       "      <td>149</td>\n",
       "      <td>2.0</td>\n",
       "      <td>2005</td>\n",
       "      <td>NaN</td>\n",
       "      <td>NaN</td>\n",
       "      <td>1/28/2012 0:00</td>\n",
       "      <td>30NX</td>\n",
       "      <td>30</td>\n",
       "      <td>NX</td>\n",
       "      <td>NaN</td>\n",
       "      <td>NaN</td>\n",
       "      <td>Mini</td>\n",
       "      <td>Hydraulic Excavator, Track - 2.0 to 3.0 Metric Tons</td>\n",
       "      <td>Florida</td>\n",
       "      <td>TEX</td>\n",
       "      <td>Track Excavators</td>\n",
       "      <td>NaN</td>\n",
       "      <td>EROPS</td>\n",
       "      <td>NaN</td>\n",
       "      <td>NaN</td>\n",
       "      <td>NaN</td>\n",
       "      <td>NaN</td>\n",
       "      <td>NaN</td>\n",
       "      <td>NaN</td>\n",
       "      <td>NaN</td>\n",
       "      <td>NaN</td>\n",
       "      <td>NaN</td>\n",
       "      <td>NaN</td>\n",
       "      <td>Auxiliary</td>\n",
       "      <td>NaN</td>\n",
       "      <td>NaN</td>\n",
       "      <td>NaN</td>\n",
       "      <td>NaN</td>\n",
       "      <td>NaN</td>\n",
       "      <td>None or Unspecified</td>\n",
       "      <td>NaN</td>\n",
       "      <td>NaN</td>\n",
       "      <td>NaN</td>\n",
       "      <td>Rubber</td>\n",
       "      <td>None or Unspecified</td>\n",
       "      <td>None or Unspecified</td>\n",
       "      <td>None or Unspecified</td>\n",
       "      <td>None or Unspecified</td>\n",
       "      <td>Double</td>\n",
       "      <td>NaN</td>\n",
       "      <td>NaN</td>\n",
       "      <td>NaN</td>\n",
       "      <td>NaN</td>\n",
       "      <td>NaN</td>\n",
       "    </tr>\n",
       "    <tr>\n",
       "      <th>412696</th>\n",
       "      <td>6333348</td>\n",
       "      <td>10000.0</td>\n",
       "      <td>1794518</td>\n",
       "      <td>21435</td>\n",
       "      <td>149</td>\n",
       "      <td>2.0</td>\n",
       "      <td>2006</td>\n",
       "      <td>NaN</td>\n",
       "      <td>NaN</td>\n",
       "      <td>3/7/2012 0:00</td>\n",
       "      <td>30NX</td>\n",
       "      <td>30</td>\n",
       "      <td>NX</td>\n",
       "      <td>NaN</td>\n",
       "      <td>NaN</td>\n",
       "      <td>Mini</td>\n",
       "      <td>Hydraulic Excavator, Track - 2.0 to 3.0 Metric Tons</td>\n",
       "      <td>Texas</td>\n",
       "      <td>TEX</td>\n",
       "      <td>Track Excavators</td>\n",
       "      <td>NaN</td>\n",
       "      <td>EROPS</td>\n",
       "      <td>NaN</td>\n",
       "      <td>NaN</td>\n",
       "      <td>NaN</td>\n",
       "      <td>NaN</td>\n",
       "      <td>NaN</td>\n",
       "      <td>NaN</td>\n",
       "      <td>NaN</td>\n",
       "      <td>NaN</td>\n",
       "      <td>NaN</td>\n",
       "      <td>NaN</td>\n",
       "      <td>Auxiliary</td>\n",
       "      <td>NaN</td>\n",
       "      <td>NaN</td>\n",
       "      <td>NaN</td>\n",
       "      <td>NaN</td>\n",
       "      <td>NaN</td>\n",
       "      <td>None or Unspecified</td>\n",
       "      <td>NaN</td>\n",
       "      <td>NaN</td>\n",
       "      <td>NaN</td>\n",
       "      <td>Rubber</td>\n",
       "      <td>None or Unspecified</td>\n",
       "      <td>None or Unspecified</td>\n",
       "      <td>None or Unspecified</td>\n",
       "      <td>None or Unspecified</td>\n",
       "      <td>Double</td>\n",
       "      <td>NaN</td>\n",
       "      <td>NaN</td>\n",
       "      <td>NaN</td>\n",
       "      <td>NaN</td>\n",
       "      <td>NaN</td>\n",
       "    </tr>\n",
       "    <tr>\n",
       "      <th>412697</th>\n",
       "      <td>6333349</td>\n",
       "      <td>13000.0</td>\n",
       "      <td>1944743</td>\n",
       "      <td>21436</td>\n",
       "      <td>149</td>\n",
       "      <td>2.0</td>\n",
       "      <td>2006</td>\n",
       "      <td>NaN</td>\n",
       "      <td>NaN</td>\n",
       "      <td>1/28/2012 0:00</td>\n",
       "      <td>30NX2</td>\n",
       "      <td>30</td>\n",
       "      <td>NX</td>\n",
       "      <td>2</td>\n",
       "      <td>NaN</td>\n",
       "      <td>Mini</td>\n",
       "      <td>Hydraulic Excavator, Track - 3.0 to 4.0 Metric Tons</td>\n",
       "      <td>Florida</td>\n",
       "      <td>TEX</td>\n",
       "      <td>Track Excavators</td>\n",
       "      <td>NaN</td>\n",
       "      <td>EROPS</td>\n",
       "      <td>NaN</td>\n",
       "      <td>NaN</td>\n",
       "      <td>NaN</td>\n",
       "      <td>NaN</td>\n",
       "      <td>NaN</td>\n",
       "      <td>NaN</td>\n",
       "      <td>NaN</td>\n",
       "      <td>NaN</td>\n",
       "      <td>NaN</td>\n",
       "      <td>NaN</td>\n",
       "      <td>Auxiliary</td>\n",
       "      <td>NaN</td>\n",
       "      <td>NaN</td>\n",
       "      <td>NaN</td>\n",
       "      <td>NaN</td>\n",
       "      <td>NaN</td>\n",
       "      <td>None or Unspecified</td>\n",
       "      <td>NaN</td>\n",
       "      <td>NaN</td>\n",
       "      <td>NaN</td>\n",
       "      <td>Rubber</td>\n",
       "      <td>None or Unspecified</td>\n",
       "      <td>None or Unspecified</td>\n",
       "      <td>None or Unspecified</td>\n",
       "      <td>None or Unspecified</td>\n",
       "      <td>Double</td>\n",
       "      <td>NaN</td>\n",
       "      <td>NaN</td>\n",
       "      <td>NaN</td>\n",
       "      <td>NaN</td>\n",
       "      <td>NaN</td>\n",
       "    </tr>\n",
       "  </tbody>\n",
       "</table>\n",
       "<p>412698 rows × 53 columns</p>\n",
       "</div>"
      ],
      "text/plain": [
       "        SalesID  SalePrice  MachineID  ModelID  datasource  auctioneerID  \\\n",
       "0       1139246    66000.0     999089     3157         121           3.0   \n",
       "1       1139248    57000.0     117657       77         121           3.0   \n",
       "2       1139249    10000.0     434808     7009         121           3.0   \n",
       "3       1139251    38500.0    1026470      332         121           3.0   \n",
       "4       1139253    11000.0    1057373    17311         121           3.0   \n",
       "...         ...        ...        ...      ...         ...           ...   \n",
       "412693  6333344    10000.0    1919201    21435         149           2.0   \n",
       "412694  6333345    10500.0    1882122    21436         149           2.0   \n",
       "412695  6333347    12500.0    1944213    21435         149           2.0   \n",
       "412696  6333348    10000.0    1794518    21435         149           2.0   \n",
       "412697  6333349    13000.0    1944743    21436         149           2.0   \n",
       "\n",
       "        YearMade  MachineHoursCurrentMeter UsageBand         saledate  \\\n",
       "0           2004                      68.0       Low  11/16/2006 0:00   \n",
       "1           1996                    4640.0       Low   3/26/2004 0:00   \n",
       "2           2001                    2838.0      High   2/26/2004 0:00   \n",
       "3           2001                    3486.0      High   5/19/2011 0:00   \n",
       "4           2007                     722.0    Medium   7/23/2009 0:00   \n",
       "...          ...                       ...       ...              ...   \n",
       "412693      2005                       NaN       NaN    3/7/2012 0:00   \n",
       "412694      2005                       NaN       NaN   1/28/2012 0:00   \n",
       "412695      2005                       NaN       NaN   1/28/2012 0:00   \n",
       "412696      2006                       NaN       NaN    3/7/2012 0:00   \n",
       "412697      2006                       NaN       NaN   1/28/2012 0:00   \n",
       "\n",
       "       fiModelDesc fiBaseModel fiSecondaryDesc fiModelSeries  \\\n",
       "0             521D         521               D           NaN   \n",
       "1           950FII         950               F            II   \n",
       "2              226         226             NaN           NaN   \n",
       "3         PC120-6E       PC120             NaN           -6E   \n",
       "4             S175        S175             NaN           NaN   \n",
       "...            ...         ...             ...           ...   \n",
       "412693        30NX          30              NX           NaN   \n",
       "412694       30NX2          30              NX             2   \n",
       "412695        30NX          30              NX           NaN   \n",
       "412696        30NX          30              NX           NaN   \n",
       "412697       30NX2          30              NX             2   \n",
       "\n",
       "       fiModelDescriptor ProductSize  \\\n",
       "0                    NaN         NaN   \n",
       "1                    NaN      Medium   \n",
       "2                    NaN         NaN   \n",
       "3                    NaN       Small   \n",
       "4                    NaN         NaN   \n",
       "...                  ...         ...   \n",
       "412693               NaN        Mini   \n",
       "412694               NaN        Mini   \n",
       "412695               NaN        Mini   \n",
       "412696               NaN        Mini   \n",
       "412697               NaN        Mini   \n",
       "\n",
       "                                                fiProductClassDesc  \\\n",
       "0                         Wheel Loader - 110.0 to 120.0 Horsepower   \n",
       "1                         Wheel Loader - 150.0 to 175.0 Horsepower   \n",
       "2       Skid Steer Loader - 1351.0 to 1601.0 Lb Operating Capacity   \n",
       "3            Hydraulic Excavator, Track - 12.0 to 14.0 Metric Tons   \n",
       "4       Skid Steer Loader - 1601.0 to 1751.0 Lb Operating Capacity   \n",
       "...                                                            ...   \n",
       "412693         Hydraulic Excavator, Track - 2.0 to 3.0 Metric Tons   \n",
       "412694         Hydraulic Excavator, Track - 3.0 to 4.0 Metric Tons   \n",
       "412695         Hydraulic Excavator, Track - 2.0 to 3.0 Metric Tons   \n",
       "412696         Hydraulic Excavator, Track - 2.0 to 3.0 Metric Tons   \n",
       "412697         Hydraulic Excavator, Track - 3.0 to 4.0 Metric Tons   \n",
       "\n",
       "                 state ProductGroup    ProductGroupDesc Drive_System  \\\n",
       "0              Alabama           WL        Wheel Loader          NaN   \n",
       "1       North Carolina           WL        Wheel Loader          NaN   \n",
       "2             New York          SSL  Skid Steer Loaders          NaN   \n",
       "3                Texas          TEX    Track Excavators          NaN   \n",
       "4             New York          SSL  Skid Steer Loaders          NaN   \n",
       "...                ...          ...                 ...          ...   \n",
       "412693           Texas          TEX    Track Excavators          NaN   \n",
       "412694         Florida          TEX    Track Excavators          NaN   \n",
       "412695         Florida          TEX    Track Excavators          NaN   \n",
       "412696           Texas          TEX    Track Excavators          NaN   \n",
       "412697         Florida          TEX    Track Excavators          NaN   \n",
       "\n",
       "         Enclosure                Forks Pad_Type         Ride_Control Stick  \\\n",
       "0       EROPS w AC  None or Unspecified      NaN  None or Unspecified   NaN   \n",
       "1       EROPS w AC  None or Unspecified      NaN  None or Unspecified   NaN   \n",
       "2            OROPS  None or Unspecified      NaN                  NaN   NaN   \n",
       "3       EROPS w AC                  NaN      NaN                  NaN   NaN   \n",
       "4            EROPS  None or Unspecified      NaN                  NaN   NaN   \n",
       "...            ...                  ...      ...                  ...   ...   \n",
       "412693       EROPS                  NaN      NaN                  NaN   NaN   \n",
       "412694       EROPS                  NaN      NaN                  NaN   NaN   \n",
       "412695       EROPS                  NaN      NaN                  NaN   NaN   \n",
       "412696       EROPS                  NaN      NaN                  NaN   NaN   \n",
       "412697       EROPS                  NaN      NaN                  NaN   NaN   \n",
       "\n",
       "       Transmission Turbocharged Blade_Extension Blade_Width Enclosure_Type  \\\n",
       "0               NaN          NaN             NaN         NaN            NaN   \n",
       "1               NaN          NaN             NaN         NaN            NaN   \n",
       "2               NaN          NaN             NaN         NaN            NaN   \n",
       "3               NaN          NaN             NaN         NaN            NaN   \n",
       "4               NaN          NaN             NaN         NaN            NaN   \n",
       "...             ...          ...             ...         ...            ...   \n",
       "412693          NaN          NaN             NaN         NaN            NaN   \n",
       "412694          NaN          NaN             NaN         NaN            NaN   \n",
       "412695          NaN          NaN             NaN         NaN            NaN   \n",
       "412696          NaN          NaN             NaN         NaN            NaN   \n",
       "412697          NaN          NaN             NaN         NaN            NaN   \n",
       "\n",
       "       Engine_Horsepower Hydraulics Pushblock Ripper Scarifier Tip_Control  \\\n",
       "0                    NaN    2 Valve       NaN    NaN       NaN         NaN   \n",
       "1                    NaN    2 Valve       NaN    NaN       NaN         NaN   \n",
       "2                    NaN  Auxiliary       NaN    NaN       NaN         NaN   \n",
       "3                    NaN    2 Valve       NaN    NaN       NaN         NaN   \n",
       "4                    NaN  Auxiliary       NaN    NaN       NaN         NaN   \n",
       "...                  ...        ...       ...    ...       ...         ...   \n",
       "412693               NaN   Standard       NaN    NaN       NaN         NaN   \n",
       "412694               NaN  Auxiliary       NaN    NaN       NaN         NaN   \n",
       "412695               NaN  Auxiliary       NaN    NaN       NaN         NaN   \n",
       "412696               NaN  Auxiliary       NaN    NaN       NaN         NaN   \n",
       "412697               NaN  Auxiliary       NaN    NaN       NaN         NaN   \n",
       "\n",
       "                  Tire_Size              Coupler       Coupler_System  \\\n",
       "0       None or Unspecified  None or Unspecified                  NaN   \n",
       "1                      23.5  None or Unspecified                  NaN   \n",
       "2                       NaN  None or Unspecified  None or Unspecified   \n",
       "3                       NaN  None or Unspecified                  NaN   \n",
       "4                       NaN  None or Unspecified  None or Unspecified   \n",
       "...                     ...                  ...                  ...   \n",
       "412693                  NaN  None or Unspecified                  NaN   \n",
       "412694                  NaN  None or Unspecified                  NaN   \n",
       "412695                  NaN  None or Unspecified                  NaN   \n",
       "412696                  NaN  None or Unspecified                  NaN   \n",
       "412697                  NaN  None or Unspecified                  NaN   \n",
       "\n",
       "             Grouser_Tracks Hydraulics_Flow Track_Type  \\\n",
       "0                       NaN             NaN        NaN   \n",
       "1                       NaN             NaN        NaN   \n",
       "2       None or Unspecified        Standard        NaN   \n",
       "3                       NaN             NaN        NaN   \n",
       "4       None or Unspecified        Standard        NaN   \n",
       "...                     ...             ...        ...   \n",
       "412693                  NaN             NaN      Steel   \n",
       "412694                  NaN             NaN      Steel   \n",
       "412695                  NaN             NaN     Rubber   \n",
       "412696                  NaN             NaN     Rubber   \n",
       "412697                  NaN             NaN     Rubber   \n",
       "\n",
       "       Undercarriage_Pad_Width         Stick_Length                Thumb  \\\n",
       "0                          NaN                  NaN                  NaN   \n",
       "1                          NaN                  NaN                  NaN   \n",
       "2                          NaN                  NaN                  NaN   \n",
       "3                          NaN                  NaN                  NaN   \n",
       "4                          NaN                  NaN                  NaN   \n",
       "...                        ...                  ...                  ...   \n",
       "412693     None or Unspecified  None or Unspecified  None or Unspecified   \n",
       "412694     None or Unspecified  None or Unspecified  None or Unspecified   \n",
       "412695     None or Unspecified  None or Unspecified  None or Unspecified   \n",
       "412696     None or Unspecified  None or Unspecified  None or Unspecified   \n",
       "412697     None or Unspecified  None or Unspecified  None or Unspecified   \n",
       "\n",
       "            Pattern_Changer Grouser_Type Backhoe_Mounting Blade_Type  \\\n",
       "0                       NaN          NaN              NaN        NaN   \n",
       "1                       NaN          NaN              NaN        NaN   \n",
       "2                       NaN          NaN              NaN        NaN   \n",
       "3                       NaN          NaN              NaN        NaN   \n",
       "4                       NaN          NaN              NaN        NaN   \n",
       "...                     ...          ...              ...        ...   \n",
       "412693  None or Unspecified       Double              NaN        NaN   \n",
       "412694  None or Unspecified       Double              NaN        NaN   \n",
       "412695  None or Unspecified       Double              NaN        NaN   \n",
       "412696  None or Unspecified       Double              NaN        NaN   \n",
       "412697  None or Unspecified       Double              NaN        NaN   \n",
       "\n",
       "       Travel_Controls Differential_Type Steering_Controls  \n",
       "0                  NaN          Standard      Conventional  \n",
       "1                  NaN          Standard      Conventional  \n",
       "2                  NaN               NaN               NaN  \n",
       "3                  NaN               NaN               NaN  \n",
       "4                  NaN               NaN               NaN  \n",
       "...                ...               ...               ...  \n",
       "412693             NaN               NaN               NaN  \n",
       "412694             NaN               NaN               NaN  \n",
       "412695             NaN               NaN               NaN  \n",
       "412696             NaN               NaN               NaN  \n",
       "412697             NaN               NaN               NaN  \n",
       "\n",
       "[412698 rows x 53 columns]"
      ]
     },
     "execution_count": 13,
     "metadata": {},
     "output_type": "execute_result"
    }
   ],
   "source": [
    "df_nn"
   ]
  },
  {
   "cell_type": "code",
   "execution_count": 14,
   "metadata": {},
   "outputs": [],
   "source": [
    "df_nn['ProductSize'] = df_nn['ProductSize'].astype('category')"
   ]
  },
  {
   "cell_type": "code",
   "execution_count": 15,
   "metadata": {},
   "outputs": [],
   "source": [
    "sizes = 'Large','Large / Medium','Medium','Small','Mini','Compact'"
   ]
  },
  {
   "cell_type": "code",
   "execution_count": 16,
   "metadata": {},
   "outputs": [
    {
     "name": "stderr",
     "output_type": "stream",
     "text": [
      "/Users/jsimonelli/opt/anaconda3/envs/pt/lib/python3.8/site-packages/pandas/core/arrays/categorical.py:2631: FutureWarning: The `inplace` parameter in pandas.Categorical.set_categories is deprecated and will be removed in a future version. Removing unused categories will always return a new Categorical object.\n",
      "  res = method(*args, **kwargs)\n"
     ]
    }
   ],
   "source": [
    "df_nn['ProductSize'].cat.set_categories(sizes, ordered=True, inplace=True)"
   ]
  },
  {
   "cell_type": "code",
   "execution_count": 17,
   "metadata": {},
   "outputs": [],
   "source": [
    "dep_var = 'SalePrice'"
   ]
  },
  {
   "cell_type": "code",
   "execution_count": 18,
   "metadata": {},
   "outputs": [],
   "source": [
    "df_nn[dep_var] = np.log(df_nn[dep_var])"
   ]
  },
  {
   "cell_type": "code",
   "execution_count": 19,
   "metadata": {},
   "outputs": [],
   "source": [
    "df_nn = add_datepart(df_nn, 'saledate')"
   ]
  },
  {
   "cell_type": "markdown",
   "metadata": {},
   "source": [
    "Not going to trim the features"
   ]
  },
  {
   "cell_type": "code",
   "execution_count": 20,
   "metadata": {},
   "outputs": [],
   "source": [
    "df_nn_final = df_nn"
   ]
  },
  {
   "cell_type": "code",
   "execution_count": 21,
   "metadata": {},
   "outputs": [],
   "source": [
    "cont_nn,cat_nn = cont_cat_split(df_nn_final, max_card=9000, dep_var=dep_var)\n"
   ]
  },
  {
   "cell_type": "code",
   "execution_count": 22,
   "metadata": {},
   "outputs": [
    {
     "data": {
      "text/plain": [
       "ModelID                    5281\n",
       "datasource                    6\n",
       "YearMade                     73\n",
       "UsageBand                     3\n",
       "fiModelDesc                5059\n",
       "fiBaseModel                1961\n",
       "fiSecondaryDesc             177\n",
       "fiModelSeries               123\n",
       "fiModelDescriptor           140\n",
       "ProductSize                   6\n",
       "fiProductClassDesc           74\n",
       "state                        53\n",
       "ProductGroup                  6\n",
       "ProductGroupDesc              6\n",
       "Drive_System                  4\n",
       "Enclosure                     6\n",
       "Forks                         2\n",
       "Pad_Type                      4\n",
       "Ride_Control                  3\n",
       "Stick                         2\n",
       "Transmission                  8\n",
       "Turbocharged                  2\n",
       "Blade_Extension               2\n",
       "Blade_Width                   6\n",
       "Enclosure_Type                3\n",
       "Engine_Horsepower             2\n",
       "Hydraulics                   12\n",
       "Pushblock                     2\n",
       "Ripper                        4\n",
       "Scarifier                     2\n",
       "Tip_Control                   3\n",
       "Tire_Size                    17\n",
       "Coupler                       3\n",
       "Coupler_System                2\n",
       "Grouser_Tracks                2\n",
       "Hydraulics_Flow               3\n",
       "Track_Type                    2\n",
       "Undercarriage_Pad_Width      19\n",
       "Stick_Length                 29\n",
       "Thumb                         3\n",
       "Pattern_Changer               3\n",
       "Grouser_Type                  3\n",
       "Backhoe_Mounting              2\n",
       "Blade_Type                   10\n",
       "Travel_Controls               7\n",
       "Differential_Type             4\n",
       "Steering_Controls             5\n",
       "saleYear                     24\n",
       "saleMonth                    12\n",
       "saleWeek                     53\n",
       "saleDay                      31\n",
       "saleDayofweek                 7\n",
       "saleDayofyear               361\n",
       "saleIs_month_end              2\n",
       "saleIs_month_start            2\n",
       "saleIs_quarter_end            2\n",
       "saleIs_quarter_start          2\n",
       "saleIs_year_end               2\n",
       "saleIs_year_start             2\n",
       "dtype: int64"
      ]
     },
     "execution_count": 22,
     "metadata": {},
     "output_type": "execute_result"
    }
   ],
   "source": [
    "df_nn_final[cat_nn].nunique()\n"
   ]
  },
  {
   "cell_type": "code",
   "execution_count": 23,
   "metadata": {},
   "outputs": [],
   "source": [
    "cond = (df_nn.saleYear<2011) | (df_nn.saleMonth<10)\n",
    "train_idx = np.where( cond)[0]\n",
    "valid_idx = np.where(~cond)[0]\n",
    "splits = (list(train_idx),list(valid_idx))"
   ]
  },
  {
   "cell_type": "code",
   "execution_count": 24,
   "metadata": {},
   "outputs": [],
   "source": [
    "cont_nn,cat_nn = cont_cat_split(df_nn_final, max_card=9000, dep_var=dep_var)\n"
   ]
  },
  {
   "cell_type": "code",
   "execution_count": 25,
   "metadata": {},
   "outputs": [],
   "source": [
    "procs_nn = [Categorify, FillMissing, Normalize]\n",
    "to_nn = TabularPandas(df_nn_final, procs_nn, cat_nn, cont_nn,\n",
    "                      splits=splits, y_names=dep_var)"
   ]
  },
  {
   "cell_type": "code",
   "execution_count": 26,
   "metadata": {},
   "outputs": [],
   "source": [
    "dls = to_nn.dataloaders(1024)\n"
   ]
  },
  {
   "cell_type": "code",
   "execution_count": 27,
   "metadata": {},
   "outputs": [
    {
     "data": {
      "text/plain": [
       "(8.465899, 11.863583)"
      ]
     },
     "execution_count": 27,
     "metadata": {},
     "output_type": "execute_result"
    }
   ],
   "source": [
    "y = to_nn.train.y\n",
    "y.min(),y.max()"
   ]
  },
  {
   "cell_type": "code",
   "execution_count": 28,
   "metadata": {},
   "outputs": [],
   "source": [
    "learn = tabular_learner(dls, y_range=(8,12), layers=[500,250],\n",
    "                        n_out=1, loss_func=F.mse_loss)"
   ]
  },
  {
   "cell_type": "code",
   "execution_count": 29,
   "metadata": {},
   "outputs": [
    {
     "data": {
      "text/html": [],
      "text/plain": [
       "<IPython.core.display.HTML object>"
      ]
     },
     "metadata": {},
     "output_type": "display_data"
    },
    {
     "data": {
      "text/plain": [
       "SuggestedLRs(valley=0.0003311311302240938)"
      ]
     },
     "execution_count": 29,
     "metadata": {},
     "output_type": "execute_result"
    },
    {
     "data": {
      "image/png": "[encoded data removed]",
      "text/plain": [
       "<Figure size 432x288 with 1 Axes>"
      ]
     },
     "metadata": {
      "needs_background": "light"
     },
     "output_type": "display_data"
    }
   ],
   "source": [
    "learn.lr_find()\n"
   ]
  },
  {
   "cell_type": "code",
   "execution_count": 30,
   "metadata": {},
   "outputs": [
    {
     "data": {
      "text/html": [
       "<table border=\"1\" class=\"dataframe\">\n",
       "  <thead>\n",
       "    <tr style=\"text-align: left;\">\n",
       "      <th>epoch</th>\n",
       "      <th>train_loss</th>\n",
       "      <th>valid_loss</th>\n",
       "      <th>time</th>\n",
       "    </tr>\n",
       "  </thead>\n",
       "  <tbody>\n",
       "    <tr>\n",
       "      <td>0</td>\n",
       "      <td>0.056000</td>\n",
       "      <td>0.057649</td>\n",
       "      <td>00:36</td>\n",
       "    </tr>\n",
       "    <tr>\n",
       "      <td>1</td>\n",
       "      <td>0.049570</td>\n",
       "      <td>0.054102</td>\n",
       "      <td>00:35</td>\n",
       "    </tr>\n",
       "    <tr>\n",
       "      <td>2</td>\n",
       "      <td>0.042362</td>\n",
       "      <td>0.049695</td>\n",
       "      <td>00:36</td>\n",
       "    </tr>\n",
       "    <tr>\n",
       "      <td>3</td>\n",
       "      <td>0.036618</td>\n",
       "      <td>0.051560</td>\n",
       "      <td>00:37</td>\n",
       "    </tr>\n",
       "    <tr>\n",
       "      <td>4</td>\n",
       "      <td>0.031678</td>\n",
       "      <td>0.049345</td>\n",
       "      <td>00:38</td>\n",
       "    </tr>\n",
       "  </tbody>\n",
       "</table>"
      ],
      "text/plain": [
       "<IPython.core.display.HTML object>"
      ]
     },
     "metadata": {},
     "output_type": "display_data"
    }
   ],
   "source": [
    "learn.fit_one_cycle(2, 1e-2)\n"
   ]
  },
  {
   "cell_type": "code",
   "execution_count": 31,
   "metadata": {},
   "outputs": [],
   "source": [
    "def r_mse(pred,y): return round(math.sqrt(((pred-y)**2).mean()), 6)\n",
    "def m_rmse(m, xs, y): return r_mse(m.predict(xs), y)"
   ]
  },
  {
   "cell_type": "code",
   "execution_count": 32,
   "metadata": {},
   "outputs": [
    {
     "data": {
      "text/html": [],
      "text/plain": [
       "<IPython.core.display.HTML object>"
      ]
     },
     "metadata": {},
     "output_type": "display_data"
    },
    {
     "data": {
      "text/plain": [
       "0.222138"
      ]
     },
     "execution_count": 32,
     "metadata": {},
     "output_type": "execute_result"
    }
   ],
   "source": [
    "preds,targs = learn.get_preds()\n",
    "r_mse(preds,targs)"
   ]
  },
  {
   "cell_type": "code",
   "execution_count": 33,
   "metadata": {},
   "outputs": [
    {
     "data": {
      "text/plain": [
       "tensor([[10.0432],\n",
       "        [10.0858],\n",
       "        [ 9.3927],\n",
       "        ...,\n",
       "        [ 9.3501],\n",
       "        [ 9.1050],\n",
       "        [ 8.9554]])"
      ]
     },
     "execution_count": 33,
     "metadata": {},
     "output_type": "execute_result"
    }
   ],
   "source": [
    "targs"
   ]
  },
  {
   "cell_type": "code",
   "execution_count": null,
   "metadata": {},
   "outputs": [],
   "source": []
  },
  {
   "cell_type": "code",
   "execution_count": 34,
   "metadata": {},
   "outputs": [],
   "source": [
    "5;"
   ]
  },
  {
   "cell_type": "code",
   "execution_count": 35,
   "metadata": {},
   "outputs": [
    {
     "data": {
      "text/plain": [
       "7988"
      ]
     },
     "execution_count": 35,
     "metadata": {},
     "output_type": "execute_result"
    }
   ],
   "source": [
    "len(targs)"
   ]
  },
  {
   "cell_type": "code",
   "execution_count": 36,
   "metadata": {},
   "outputs": [
    {
     "data": {
      "image/png": "[encoded data removed]",
      "text/plain": [
       "<Figure size 432x288 with 1 Axes>"
      ]
     },
     "metadata": {
      "needs_background": "light"
     },
     "output_type": "display_data"
    }
   ],
   "source": [
    "plt.hist(targs.numpy());"
   ]
  },
  {
   "cell_type": "code",
   "execution_count": 37,
   "metadata": {},
   "outputs": [
    {
     "data": {
      "image/png": "[encoded data removed]",
      "text/plain": [
       "<Figure size 432x288 with 1 Axes>"
      ]
     },
     "metadata": {
      "needs_background": "light"
     },
     "output_type": "display_data"
    }
   ],
   "source": [
    "plt.hist(df_nn['SalePrice']);"
   ]
  },
  {
   "cell_type": "code",
   "execution_count": 38,
   "metadata": {},
   "outputs": [
    {
     "data": {
      "text/plain": [
       "0         11.097410\n",
       "1         10.950807\n",
       "2          9.210340\n",
       "3         10.558414\n",
       "4          9.305651\n",
       "            ...    \n",
       "412693     9.210340\n",
       "412694     9.259131\n",
       "412695     9.433484\n",
       "412696     9.210340\n",
       "412697     9.472705\n",
       "Name: SalePrice, Length: 412698, dtype: float64"
      ]
     },
     "execution_count": 38,
     "metadata": {},
     "output_type": "execute_result"
    }
   ],
   "source": [
    "df_nn['SalePrice']"
   ]
  },
  {
   "cell_type": "code",
   "execution_count": null,
   "metadata": {},
   "outputs": [],
   "source": []
  }
 ],
 "metadata": {
  "kernelspec": {
   "display_name": "PyTorch",
   "language": "python",
   "name": "pt"
  },
  "language_info": {
   "codemirror_mode": {
    "name": "ipython",
    "version": 3
   },
   "file_extension": ".py",
   "mimetype": "text/x-python",
   "name": "python",
   "nbconvert_exporter": "python",
   "pygments_lexer": "ipython3",
   "version": "3.8.12"
  }
 },
 "nbformat": 4,
 "nbformat_minor": 4
}
