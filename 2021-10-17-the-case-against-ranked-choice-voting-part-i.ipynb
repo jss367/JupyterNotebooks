{
 "cells": [
  {
   "cell_type": "markdown",
   "id": "476cfa17",
   "metadata": {},
   "source": [
    "---\n",
    "layout: post\n",
    "title: \"The Case Against Ranked-Choice Voting: Part I\"\n",
    "tags: [Elections, Politics]\n",
    "--- "
   ]
  },
  {
   "cell_type": "markdown",
   "id": "9ad8ca26",
   "metadata": {},
   "source": [
    "There has been increased interest recently in exploring voting systems beyond the first-past-the-post (FPTP) system so common in US elections. Perhaps the most popular alternative is ranked-choice voting. Although I prefer ranked-choice voting to FPTP, I think there are many problems with this system that warrant looking for a different system. In this post, I argue the case against ranked-choice voting, pointing out that it has many properties that are undesirable for a voting system.\n",
    "\n",
    "This post discusses these problems in theoretical elections. In the following post, I talked about how these can or have happened in real elections. In a third post, I will discuss approval voting and how that remedies many of the issues with ranked-choice voting."
   ]
  },
  {
   "cell_type": "markdown",
   "id": "70096720",
   "metadata": {},
   "source": [
    "<b>Table of contents</b>\n",
    "* TOC\n",
    "{:toc}"
   ]
  },
  {
   "cell_type": "markdown",
   "id": "4df9f9e7",
   "metadata": {},
   "source": [
    "Ranked-choice voting, also known as instant runoff voting, is a voting system where voters rank their choice of candidates. The vote counting consists of multiple rounds where the vote totals are counted. If no candidate wins the majority of the votes after a round, candidates with the least votes are eliminated and the votes then go to the next candidate on the ranked ballot. Thus it is like having an instant runoff election, which is why this process is also known as instant runoff voting. There are lots of variations to this general approach (like how many candidates to remove each round), but this is the general idea.\n",
    "\n",
    "Proponents of ranked-choice voting, such as [FairVote](https://www.fairvote.org/) make many claims about the benefits of ranked-choice voting. They claim that it reduces strategic voting, provides more choice because voters don't have to worry about vote splitting, and prevents 3rd-party candidates from \"spoiling\" an election.\n",
    "\n",
    "Unfortunately, I don't think all these claims are true. Many of these negative effects still happen with ranked-choice voting. I want to be clear that I think ranked-choice voting is far better than first-past-the-post voting, but it still can be improved on. In particular, my preferred voting style is approval voting, which I will talk about in another post."
   ]
  },
  {
   "cell_type": "markdown",
   "id": "0e91a7cd",
   "metadata": {},
   "source": [
    "In this post, I will be simulating elections using [VoteSim](https://github.com/jss367/votesim), which is a free and open-source library for simulating elections. The code to run the simulations in this blog post is also available."
   ]
  },
  {
   "cell_type": "markdown",
   "id": "82fb1a16",
   "metadata": {},
   "source": [
    "# Drawbacks of Ranked-Choice Voting Systems"
   ]
  },
  {
   "cell_type": "markdown",
   "id": "717f3dcd",
   "metadata": {},
   "source": [
    "## Ranked-Choice Voting Encourages Strategic Voting"
   ]
  },
  {
   "cell_type": "markdown",
   "id": "a5515ce9",
   "metadata": {},
   "source": [
    "Proponents claim that ranked-choice voting encourages voters to vote their preference, but in this simulation I'll show that it encourages strategic voting."
   ]
  },
  {
   "cell_type": "markdown",
   "id": "d3b55b1b",
   "metadata": {},
   "source": [
    "Let's start with a simple election between three candidates: Alice, Bob, and Charlie. Let's not worry about specific political parties, we'll just say that Alice and Charlie are in opposing camps and Bob is somewhere in the middle. The election is for a single seat.\n",
    "\n",
    "Let's imagine there are ten voters. Four of the voters prefer Alice, four prefer Charlie, and two prefer Bob. All voters who prefer Alice or Charlie prefer the Bob candidate to the other camp's candidate. Those that prefer Bob prefer Alice as the second-choice candidate."
   ]
  },
  {
   "cell_type": "markdown",
   "id": "e0b01f99",
   "metadata": {},
   "source": [
    "The voters have the following preferences:\n",
    "\n",
    "* Alice, Bob, Charlie\n",
    "* Alice, Bob, Charlie\n",
    "* Alice, Bob, Charlie\n",
    "* Alice, Bob, Charlie\n",
    "* Charlie, Bob, Alice\n",
    "* Charlie, Bob, Alice\n",
    "* Charlie, Bob, Alice\n",
    "* Charlie, Bob, Alice\n",
    "* Bob, Charlie, Alice\n",
    "* Bob, Charlie, Alice"
   ]
  },
  {
   "cell_type": "markdown",
   "id": "652c651f",
   "metadata": {},
   "source": [
    "Here are the ballots, where the first name is the first preference of the voter:\n",
    "\n",
    "* Ranked Ballot: Alice, Bob\n",
    "* Ranked Ballot: Alice, Bob\n",
    "* Ranked Ballot: Alice, Bob\n",
    "* Ranked Ballot: Alice, Bob\n",
    "* Ranked Ballot: Bob, Alice\n",
    "* Ranked Ballot: Bob, Alice\n",
    "* Ranked Ballot: Charlie, Bob\n",
    "* Ranked Ballot: Charlie, Bob\n",
    "* Ranked Ballot: Charlie, Bob\n",
    "* Ranked Ballot: Charlie, Bob"
   ]
  },
  {
   "cell_type": "markdown",
   "id": "d94e8275",
   "metadata": {},
   "source": [
    "Let's look at how this election would play out using ranked-choice voting."
   ]
  },
  {
   "cell_type": "code",
   "execution_count": 1,
   "id": "c0f88649",
   "metadata": {},
   "outputs": [],
   "source": [
    "from votesim import *"
   ]
  },
  {
   "cell_type": "code",
   "execution_count": 2,
   "id": "f82eabb9",
   "metadata": {},
   "outputs": [
    {
     "name": "stdout",
     "output_type": "stream",
     "text": [
      "ROUND 1\n",
      "Candidate      Votes  Status\n",
      "-----------  -------  --------\n",
      "Alice              4  Active\n",
      "Charlie            4  Active\n",
      "Bob                2  Rejected\n",
      "\n",
      "FINAL RESULT\n",
      "Candidate      Votes  Status\n",
      "-----------  -------  --------\n",
      "Alice              6  Elected\n",
      "Charlie            4  Rejected\n",
      "Bob                0  Rejected\n",
      "\n"
     ]
    }
   ],
   "source": [
    "Alice = Candidate(\"Alice\")\n",
    "Bob = Candidate(\"Bob\")\n",
    "Charlie = Candidate(\"Charlie\")\n",
    "\n",
    "candidates = [Alice, Bob, Charlie]\n",
    "\n",
    "ballots = [\n",
    "    Ballot(ranked_candidates=[Alice, Bob]),\n",
    "    Ballot(ranked_candidates=[Alice, Bob]),\n",
    "    Ballot(ranked_candidates=[Alice, Bob]),\n",
    "    Ballot(ranked_candidates=[Alice, Bob]),\n",
    "    Ballot(ranked_candidates=[Bob, Alice]),\n",
    "    Ballot(ranked_candidates=[Bob, Alice]),\n",
    "    Ballot(ranked_candidates=[Charlie, Bob]),\n",
    "    Ballot(ranked_candidates=[Charlie, Bob]),\n",
    "    Ballot(ranked_candidates=[Charlie, Bob]),\n",
    "    Ballot(ranked_candidates=[Charlie, Bob]),\n",
    "]\n",
    "\n",
    "election_result = instant_runoff_voting(candidates, ballots)\n",
    "election_result.get_winners()\n",
    "print(election_result)"
   ]
  },
  {
   "cell_type": "markdown",
   "id": "22ca4518",
   "metadata": {},
   "source": [
    "Alice won and the Charlie voters are furious. They would have been fine with Bob, but are not happy with Alice. The next election comes up with the same voters and the same candidates, but now, Charlie's voters are going to be more strategic."
   ]
  },
  {
   "cell_type": "markdown",
   "id": "b6c5d79f",
   "metadata": {},
   "source": [
    "They know what happened last time and they want to stop it from happening again. So two of the Charlie supporter change their ballots to vote for Bob as their first candidate and Charlie as their second candidate."
   ]
  },
  {
   "cell_type": "markdown",
   "id": "d3ef506a",
   "metadata": {},
   "source": [
    "* Ranked Ballot: Alice, Bob\n",
    "* Ranked Ballot: Alice, Bob\n",
    "* Ranked Ballot: Alice, Bob\n",
    "* Ranked Ballot: Alice, Bob\n",
    "* Ranked Ballot: Bob, Alice\n",
    "* Ranked Ballot: Bob, Alice\n",
    "* Ranked Ballot: Bob, Charlie\n",
    "* Ranked Ballot: Bob, Charlie\n",
    "* Ranked Ballot: Charlie, Bob\n",
    "* Ranked Ballot: Charlie, Bob"
   ]
  },
  {
   "cell_type": "code",
   "execution_count": 3,
   "id": "3d2a9fea",
   "metadata": {},
   "outputs": [
    {
     "name": "stdout",
     "output_type": "stream",
     "text": [
      "ROUND 1\n",
      "Candidate      Votes  Status\n",
      "-----------  -------  --------\n",
      "Bob                4  Active\n",
      "Alice              4  Active\n",
      "Charlie            2  Rejected\n",
      "\n",
      "FINAL RESULT\n",
      "Candidate      Votes  Status\n",
      "-----------  -------  --------\n",
      "Bob                6  Elected\n",
      "Alice              4  Rejected\n",
      "Charlie            0  Rejected\n",
      "\n"
     ]
    }
   ],
   "source": [
    "Alice = Candidate(\"Alice\")\n",
    "Bob = Candidate(\"Bob\")\n",
    "Charlie = Candidate(\"Charlie\")\n",
    "\n",
    "candidates = [Alice, Bob, Charlie]\n",
    "\n",
    "ballots = [\n",
    "    Ballot(ranked_candidates=[Alice, Bob]),\n",
    "    Ballot(ranked_candidates=[Alice, Bob]),\n",
    "    Ballot(ranked_candidates=[Alice, Bob]),\n",
    "    Ballot(ranked_candidates=[Alice, Bob]),\n",
    "    Ballot(ranked_candidates=[Bob, Alice]),\n",
    "    Ballot(ranked_candidates=[Bob, Alice]),\n",
    "    Ballot(ranked_candidates=[Bob, Charlie]),\n",
    "    Ballot(ranked_candidates=[Bob, Charlie]),\n",
    "    Ballot(ranked_candidates=[Charlie, Bob]),\n",
    "    Ballot(ranked_candidates=[Charlie, Bob]),\n",
    "]\n",
    "\n",
    "election_result = instant_runoff_voting(candidates, ballots)\n",
    "election_result.get_winners()\n",
    "print(election_result)"
   ]
  },
  {
   "cell_type": "markdown",
   "id": "2eb95efc",
   "metadata": {},
   "source": [
    "Now Bob wins the election. This is what the Charlie voters wanted, but they got it by voting *against* their preferences. Thus, in some cases, ranked-choice voting *encourages* people to vote differently than their preferences."
   ]
  },
  {
   "cell_type": "markdown",
   "id": "c7ee09c2",
   "metadata": {},
   "source": [
    "## Ranked-Choice Voting Doesn't Always Result in the Best Head-to-head Candidate"
   ]
  },
  {
   "cell_type": "markdown",
   "id": "a4398665",
   "metadata": {},
   "source": [
    "There's another problem with the initial election. Let's go back to the ballots that got Alice elected."
   ]
  },
  {
   "cell_type": "code",
   "execution_count": 4,
   "id": "c648f72f",
   "metadata": {},
   "outputs": [],
   "source": [
    "ballots = [\n",
    "    Ballot(ranked_candidates=[Alice, Bob]),\n",
    "    Ballot(ranked_candidates=[Alice, Bob]),\n",
    "    Ballot(ranked_candidates=[Alice, Bob]),\n",
    "    Ballot(ranked_candidates=[Alice, Bob]),\n",
    "    Ballot(ranked_candidates=[Bob, Alice]),\n",
    "    Ballot(ranked_candidates=[Bob, Alice]),\n",
    "    Ballot(ranked_candidates=[Charlie, Bob]),\n",
    "    Ballot(ranked_candidates=[Charlie, Bob]),\n",
    "    Ballot(ranked_candidates=[Charlie, Bob]),\n",
    "    Ballot(ranked_candidates=[Charlie, Bob]),\n",
    "]"
   ]
  },
  {
   "cell_type": "markdown",
   "id": "9f5d6f32",
   "metadata": {},
   "source": [
    "One would hope that the election would result in the candidate who would wins beating the other candidates if there were a head-to-head election. But under ranked-choice voting, this is not the case. In the election above, Alice won, but in a head-to-head election, Bob would have won against either Alice or Charlie."
   ]
  },
  {
   "cell_type": "code",
   "execution_count": 5,
   "id": "9a9b7657",
   "metadata": {},
   "outputs": [],
   "source": [
    "prefer_alice = 0\n",
    "prefer_bob = 0\n",
    "for ballot in ballots:\n",
    "    for candidate in ballot.ranked_candidates:\n",
    "        if candidate == Alice:\n",
    "            prefer_alice += 1\n",
    "            break\n",
    "        elif candidate == Bob:\n",
    "            prefer_bob += 1\n",
    "            break"
   ]
  },
  {
   "cell_type": "code",
   "execution_count": 6,
   "id": "5fe4493f",
   "metadata": {},
   "outputs": [
    {
     "name": "stdout",
     "output_type": "stream",
     "text": [
      "In a head-to-head election, 6 voters prefer Bob and 4 voters prefer Alice\n"
     ]
    }
   ],
   "source": [
    "print(f\"In a head-to-head election, {prefer_bob} voters prefer Bob and {prefer_alice} voters prefer Alice\")"
   ]
  },
  {
   "cell_type": "code",
   "execution_count": 7,
   "id": "941dba89",
   "metadata": {},
   "outputs": [],
   "source": [
    "prefer_bob = 0\n",
    "prefer_charlie = 0\n",
    "for ballot in ballots:\n",
    "    for candidate in ballot.ranked_candidates:\n",
    "        if candidate == Bob:\n",
    "            prefer_bob += 1\n",
    "            break\n",
    "        elif candidate == Charlie:\n",
    "            prefer_charlie += 1\n",
    "            break"
   ]
  },
  {
   "cell_type": "code",
   "execution_count": 8,
   "id": "d21251cd",
   "metadata": {},
   "outputs": [
    {
     "name": "stdout",
     "output_type": "stream",
     "text": [
      "In a head-to-head election, 6 voters prefer Bob and 4 voters prefer Charlie\n"
     ]
    }
   ],
   "source": [
    "print(f\"In a head-to-head election, {prefer_bob} voters prefer Bob and {prefer_charlie} voters prefer Charlie\")"
   ]
  },
  {
   "cell_type": "markdown",
   "id": "a6f9a9c7",
   "metadata": {},
   "source": [
    "## Ranked-Choice Voting Allows for Election Spoilers"
   ]
  },
  {
   "cell_type": "markdown",
   "id": "f1609a72",
   "metadata": {},
   "source": [
    "Being that the ranked-choice voting results aren't the same as in head-to-head matchups, this also means that spoiler candidates will exist. To show that, let's take the previous election but instead, we'll say Charlie didn't run. How would that affect the results?"
   ]
  },
  {
   "cell_type": "code",
   "execution_count": 9,
   "id": "8ee6bcb5",
   "metadata": {},
   "outputs": [
    {
     "name": "stdout",
     "output_type": "stream",
     "text": [
      "FINAL RESULT\n",
      "Candidate      Votes  Status\n",
      "-----------  -------  --------\n",
      "Bob                7  Elected\n",
      "Alice              4  Rejected\n",
      "\n"
     ]
    }
   ],
   "source": [
    "Alice = Candidate(\"Alice\")\n",
    "Bob = Candidate(\"Bob\")\n",
    "\n",
    "candidates = [Alice, Bob]\n",
    "\n",
    "ballots = [\n",
    "    Ballot(ranked_candidates=[Alice, Bob]),\n",
    "    Ballot(ranked_candidates=[Alice, Bob]),\n",
    "    Ballot(ranked_candidates=[Alice, Bob]),\n",
    "    Ballot(ranked_candidates=[Alice, Bob]),\n",
    "    Ballot(ranked_candidates=[Bob, Alice]),\n",
    "    Ballot(ranked_candidates=[Bob, Alice]),\n",
    "    Ballot(ranked_candidates=[Bob]),\n",
    "    Ballot(ranked_candidates=[Bob]),\n",
    "    Ballot(ranked_candidates=[Bob]),\n",
    "    Ballot(ranked_candidates=[Bob]),\n",
    "    Ballot(ranked_candidates=[Bob]),\n",
    "]\n",
    "\n",
    "election_result = instant_runoff_voting(candidates, ballots)\n",
    "election_result.get_winners()\n",
    "print(election_result)"
   ]
  },
  {
   "cell_type": "markdown",
   "id": "6ce1dbb8",
   "metadata": {},
   "source": [
    "Bob wins. But when Charlie was in the election, Alice won. Therefore the existance of Charlie spoiled the election for Bob."
   ]
  },
  {
   "cell_type": "markdown",
   "id": "077fac28",
   "metadata": {},
   "source": [
    "## Ranked-Choice Voting Allows for Candidates to Do Better but Receive Worse Outcomes"
   ]
  },
  {
   "cell_type": "markdown",
   "id": "239faa14",
   "metadata": {},
   "source": [
    "This is a very odd situation and it took me looking at the data for a bit before I believed it. But there are times when a candidate can perform better and end up doing worse in an election. Here's a scenario:\n",
    "\n",
    "Let's look at the case of a primary election with four districts in it, each with a candidate hailing from that district. The four candidates are Alice, Bob, Charlie, and Dan. Alice is from district 1, the largest district, has lots of experience, and is considered the frontrunner for the race. Bob is from district 2, which is slightly smaller, but also has lots of experience and is the other main contender. Charlie is from district 3, which is smaller than 1 or 2. He isn't well-known outside of his district. Dan is the odd-ball candidate from district 4, which is tiny compared to the others. He is popular in district 4 but completely unknown outside of it.\n",
    "\n",
    "District 1 voters prefer the mainstream candidates, Alice and Bob. They have seven voters who all rank the candidates: Alice, Bob, Charlie, Dan.\n",
    "\n",
    "District 2 voters are similar to district 1 voters, except that they prefer their hometown candidate Bob. They have six voters who all rank the candidates: Bob, Alice, Charlie, Dan\n",
    "\n",
    "District 3 is smaller than the other districts but still well-represented. The voters their prefer their candidate, Charlie, but would also accept Bob or Alice. Out of those two, they prefer Bob because they see district 1 as too large and powerful already and don't want district 1 to have too much power. They have five voters who use the following ranking: Charlie, Bob, Alice, Dan\n",
    "\n",
    "District 4 is much smaller than the others and the voters there feel completely ignored by the mainstream candidates. The elections have gone to candidates from districts 1 and 2 for ages and they want something different. Their ranking is: Dan, Charlie, Bob, Alice"
   ]
  },
  {
   "cell_type": "code",
   "execution_count": 10,
   "id": "5dfb623f",
   "metadata": {},
   "outputs": [
    {
     "name": "stdout",
     "output_type": "stream",
     "text": [
      "ROUND 1\n",
      "Candidate      Votes  Status\n",
      "-----------  -------  --------\n",
      "Alice              7  Active\n",
      "Bob                6  Active\n",
      "Charlie            5  Active\n",
      "Dan                3  Rejected\n",
      "\n",
      "ROUND 2\n",
      "Candidate      Votes  Status\n",
      "-----------  -------  --------\n",
      "Charlie            8  Active\n",
      "Alice              7  Active\n",
      "Bob                6  Rejected\n",
      "Dan                0  Rejected\n",
      "\n",
      "FINAL RESULT\n",
      "Candidate      Votes  Status\n",
      "-----------  -------  --------\n",
      "Alice             13  Elected\n",
      "Charlie            8  Rejected\n",
      "Bob                0  Rejected\n",
      "Dan                0  Rejected\n",
      "\n"
     ]
    }
   ],
   "source": [
    "alice = Candidate(\"Alice\")\n",
    "Bob = Candidate(\"Bob\")\n",
    "Charlie = Candidate(\"Charlie\")\n",
    "Dan = Candidate(\"Dan\")\n",
    "\n",
    "candidates = [Alice, Bob, Charlie, Dan]\n",
    "\n",
    "ballots = [\n",
    "    Ballot(ranked_candidates=[Alice, Bob, Charlie, Dan]),\n",
    "    Ballot(ranked_candidates=[Alice, Bob, Charlie, Dan]),\n",
    "    Ballot(ranked_candidates=[Alice, Bob, Charlie, Dan]),\n",
    "    Ballot(ranked_candidates=[Alice, Bob, Charlie, Dan]),\n",
    "    Ballot(ranked_candidates=[Alice, Bob, Charlie, Dan]),\n",
    "    Ballot(ranked_candidates=[Alice, Bob, Charlie, Dan]),\n",
    "    Ballot(ranked_candidates=[Alice, Bob, Charlie, Dan]),\n",
    "    Ballot(ranked_candidates=[Bob, Alice, Charlie, Dan]),\n",
    "    Ballot(ranked_candidates=[Bob, Alice, Charlie, Dan]),\n",
    "    Ballot(ranked_candidates=[Bob, Alice, Charlie, Dan]),\n",
    "    Ballot(ranked_candidates=[Bob, Alice, Charlie, Dan]),\n",
    "    Ballot(ranked_candidates=[Bob, Alice, Charlie, Dan]),\n",
    "    Ballot(ranked_candidates=[Bob, Alice, Charlie, Dan]),\n",
    "    Ballot(ranked_candidates=[Charlie, Bob, Alice, Dan]),\n",
    "    Ballot(ranked_candidates=[Charlie, Bob, Alice, Dan]),\n",
    "    Ballot(ranked_candidates=[Charlie, Bob, Alice, Dan]),\n",
    "    Ballot(ranked_candidates=[Charlie, Bob, Alice, Dan]),\n",
    "    Ballot(ranked_candidates=[Charlie, Bob, Alice, Dan]),\n",
    "    Ballot(ranked_candidates=[Dan, Charlie, Bob, Alice]),\n",
    "    Ballot(ranked_candidates=[Dan, Charlie, Bob, Alice]),\n",
    "    Ballot(ranked_candidates=[Dan, Charlie, Bob, Alice]),\n",
    "]\n",
    "\n",
    "election_result = instant_runoff_voting(candidates, ballots)\n",
    "election_result.get_winners()\n",
    "print(election_result)\n"
   ]
  },
  {
   "cell_type": "markdown",
   "id": "3d61142e",
   "metadata": {},
   "source": [
    "Alice wins the election."
   ]
  },
  {
   "cell_type": "markdown",
   "id": "0cae4177",
   "metadata": {},
   "source": [
    "The next election comes along and it's the same candidates and the same voters. However, this campaign Alice decided to reach out to District 4 and put extra effort into getting their votes. Through her hard work, she convinces them to put her second (behind Dan) on the ballot. So the voters from District 4 preferences are now: Dan, Alice, Charlie, Bob. Given that \"Alice\" won the previous election and this change should only help, how would this affect the results?"
   ]
  },
  {
   "cell_type": "code",
   "execution_count": 11,
   "id": "bb30af95",
   "metadata": {},
   "outputs": [
    {
     "name": "stdout",
     "output_type": "stream",
     "text": [
      "ROUND 1\n",
      "Candidate      Votes  Status\n",
      "-----------  -------  --------\n",
      "Alice              7  Active\n",
      "Bob                6  Active\n",
      "Charlie            5  Active\n",
      "Dan                3  Rejected\n",
      "\n",
      "ROUND 2\n",
      "Candidate      Votes  Status\n",
      "-----------  -------  --------\n",
      "Alice             10  Active\n",
      "Bob                6  Active\n",
      "Charlie            5  Rejected\n",
      "Dan                0  Rejected\n",
      "\n",
      "FINAL RESULT\n",
      "Candidate      Votes  Status\n",
      "-----------  -------  --------\n",
      "Bob               11  Elected\n",
      "Alice             10  Rejected\n",
      "Charlie            0  Rejected\n",
      "Dan                0  Rejected\n",
      "\n"
     ]
    }
   ],
   "source": [
    "\n",
    "Alice = Candidate(\"Alice\")\n",
    "Bob = Candidate(\"Bob\")\n",
    "Charlie = Candidate(\"Charlie\")\n",
    "Dan = Candidate(\"Dan\")\n",
    "\n",
    "candidates = [Alice, Bob, Charlie, Dan]\n",
    "\n",
    "ballots = [\n",
    "    Ballot(ranked_candidates=[Alice, Bob, Charlie, Dan]),\n",
    "    Ballot(ranked_candidates=[Alice, Bob, Charlie, Dan]),\n",
    "    Ballot(ranked_candidates=[Alice, Bob, Charlie, Dan]),\n",
    "    Ballot(ranked_candidates=[Alice, Bob, Charlie, Dan]),\n",
    "    Ballot(ranked_candidates=[Alice, Bob, Charlie, Dan]),\n",
    "    Ballot(ranked_candidates=[Alice, Bob, Charlie, Dan]),\n",
    "    Ballot(ranked_candidates=[Alice, Bob, Charlie, Dan]),\n",
    "    Ballot(ranked_candidates=[Bob, Alice, Charlie, Dan]),\n",
    "    Ballot(ranked_candidates=[Bob, Alice, Charlie, Dan]),\n",
    "    Ballot(ranked_candidates=[Bob, Alice, Charlie, Dan]),\n",
    "    Ballot(ranked_candidates=[Bob, Alice, Charlie, Dan]),\n",
    "    Ballot(ranked_candidates=[Bob, Alice, Charlie, Dan]),\n",
    "    Ballot(ranked_candidates=[Bob, Alice, Charlie, Dan]),\n",
    "    Ballot(ranked_candidates=[Charlie, Bob, Alice, Dan]),\n",
    "    Ballot(ranked_candidates=[Charlie, Bob, Alice, Dan]),\n",
    "    Ballot(ranked_candidates=[Charlie, Bob, Alice, Dan]),\n",
    "    Ballot(ranked_candidates=[Charlie, Bob, Alice, Dan]),\n",
    "    Ballot(ranked_candidates=[Charlie, Bob, Alice, Dan]),\n",
    "    Ballot(ranked_candidates=[Dan, Alice, Charlie, Bob]),\n",
    "    Ballot(ranked_candidates=[Dan, Alice, Charlie, Bob]),\n",
    "    Ballot(ranked_candidates=[Dan, Alice, Charlie, Bob]),\n",
    "]\n",
    "\n",
    "election_result = instant_runoff_voting(candidates, ballots)\n",
    "\n",
    "winners = election_result.get_winners()\n",
    "\n",
    "print(election_result)\n"
   ]
  },
  {
   "cell_type": "markdown",
   "id": "90523f49",
   "metadata": {},
   "source": [
    "Stunningly, this change has knocked Alice out of office. The only change here is that voters voted Alice *higher*, but now she's lost an election that she otherwise would have won."
   ]
  },
  {
   "cell_type": "markdown",
   "id": "4c04b71c",
   "metadata": {},
   "source": [
    "## Results from Real Races"
   ]
  },
  {
   "cell_type": "markdown",
   "id": "bfdeed17",
   "metadata": {},
   "source": [
    "These results are more than merely theoretical. My next post will contain election results from the 2009 election for mayor of Burlington, Vermont."
   ]
  }
 ],
 "metadata": {
  "kernelspec": {
   "display_name": "Python 3 (ipykernel)",
   "language": "python",
   "name": "python3"
  },
  "language_info": {
   "codemirror_mode": {
    "name": "ipython",
    "version": 3
   },
   "file_extension": ".py",
   "mimetype": "text/x-python",
   "name": "python",
   "nbconvert_exporter": "python",
   "pygments_lexer": "ipython3",
   "version": "3.8.8"
  }
 },
 "nbformat": 4,
 "nbformat_minor": 5
}
