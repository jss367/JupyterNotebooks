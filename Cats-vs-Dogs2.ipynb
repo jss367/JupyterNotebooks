{
 "cells": [
  {
   "cell_type": "code",
   "execution_count": 1,
   "metadata": {},
   "outputs": [],
   "source": [
    "from tensorflow.compat.v1 import ConfigProto\n",
    "from tensorflow.compat.v1 import InteractiveSession\n",
    "\n",
    "config = ConfigProto()\n",
    "config.gpu_options.allow_growth = True\n",
    "session = InteractiveSession(config=config)"
   ]
  },
  {
   "cell_type": "code",
   "execution_count": 2,
   "metadata": {},
   "outputs": [],
   "source": [
    "import tensorflow as tf"
   ]
  },
  {
   "cell_type": "code",
   "execution_count": 3,
   "metadata": {},
   "outputs": [
    {
     "name": "stdout",
     "output_type": "stream",
     "text": [
      "2.1.0\n"
     ]
    }
   ],
   "source": [
    "print(tf.__version__)"
   ]
  },
  {
   "cell_type": "code",
   "execution_count": 4,
   "metadata": {},
   "outputs": [],
   "source": [
    "from tensorflow.keras.layers import Conv2D, Dense, Flatten, MaxPool2D\n",
    "from tensorflow.keras.models import Sequential\n",
    "from tensorflow.keras.preprocessing.image import ImageDataGenerator\n",
    "from os import listdir\n",
    "from os.path import join\n",
    "from matplotlib import pyplot as plt"
   ]
  },
  {
   "cell_type": "code",
   "execution_count": 5,
   "metadata": {},
   "outputs": [],
   "source": [
    "train_data_gen = ImageDataGenerator(rescale = 1./255,\n",
    "                                   rotation_range=30,\n",
    "                                   horizontal_flip=True,\n",
    "                                   zoom_range=0.75)\n",
    "validation_data_gen = ImageDataGenerator(rescale = 1./255)"
   ]
  },
  {
   "cell_type": "code",
   "execution_count": 6,
   "metadata": {},
   "outputs": [],
   "source": [
    "train_path = 'cats_vs_dogs_dataset/training'\n",
    "validation_path = 'cats_vs_dogs_dataset/validation'"
   ]
  },
  {
   "cell_type": "code",
   "execution_count": 7,
   "metadata": {},
   "outputs": [
    {
     "name": "stdout",
     "output_type": "stream",
     "text": [
      "4000\n",
      "4000\n",
      "1000\n",
      "1000\n"
     ]
    }
   ],
   "source": [
    "num_cat_train_im = len(listdir(join(train_path, 'cats')))\n",
    "num_dog_train_im = len(listdir(join(train_path, 'dogs')))\n",
    "num_cat_val_im = len(listdir(join(validation_path, 'cats')))\n",
    "num_dog_val_im = len(listdir(join(validation_path, 'dogs')))\n",
    "print(num_cat_train_im)\n",
    "print(num_dog_train_im)\n",
    "print(num_cat_val_im)\n",
    "print(num_dog_val_im)"
   ]
  },
  {
   "cell_type": "code",
   "execution_count": 8,
   "metadata": {},
   "outputs": [],
   "source": [
    "num_train_im = num_cat_train_im + num_dog_train_im\n",
    "num_val_im = num_cat_val_im + num_dog_val_im"
   ]
  },
  {
   "cell_type": "code",
   "execution_count": 9,
   "metadata": {},
   "outputs": [],
   "source": [
    "img_height = 64\n",
    "img_width = 64\n",
    "num_channels = 3"
   ]
  },
  {
   "cell_type": "code",
   "execution_count": 10,
   "metadata": {},
   "outputs": [],
   "source": [
    "batch_size = 32\n",
    "epochs = 25"
   ]
  },
  {
   "cell_type": "code",
   "execution_count": 11,
   "metadata": {},
   "outputs": [
    {
     "name": "stdout",
     "output_type": "stream",
     "text": [
      "Found 8000 images belonging to 2 classes.\n",
      "Found 2000 images belonging to 2 classes.\n"
     ]
    }
   ],
   "source": [
    "training_data = train_data_gen.flow_from_directory(train_path,\n",
    "                                                 target_size = (img_height, img_width),\n",
    "                                                 batch_size = batch_size,\n",
    "                                                 class_mode = 'binary')\n",
    "\n",
    "validation_data = validation_data_gen.flow_from_directory(validation_path,\n",
    "                                                 target_size = (img_height, img_width),\n",
    "                                                 batch_size = batch_size,\n",
    "                                                 class_mode = 'binary')"
   ]
  },
  {
   "cell_type": "code",
   "execution_count": 12,
   "metadata": {},
   "outputs": [],
   "source": [
    "examp_images, _ = next(training_data)"
   ]
  },
  {
   "cell_type": "code",
   "execution_count": 13,
   "metadata": {},
   "outputs": [
    {
     "data": {
      "text/plain": [
       "<matplotlib.image.AxesImage at 0x22dad53c4c8>"
      ]
     },
     "execution_count": 13,
     "metadata": {},
     "output_type": "execute_result"
    },
    {
     "data": {
      "image/png": "[encoded data removed]",
      "text/plain": [
       "<Figure size 432x288 with 1 Axes>"
      ]
     },
     "metadata": {
      "needs_background": "light"
     },
     "output_type": "display_data"
    }
   ],
   "source": [
    "plt.imshow(examp_images[0])"
   ]
  },
  {
   "cell_type": "code",
   "execution_count": 15,
   "metadata": {},
   "outputs": [],
   "source": [
    "model = Sequential()\n",
    "model.add(Conv2D(32, kernel_size=(3, 3), strides=3, input_shape=(img_height, img_width, num_channels), activation='relu'))\n",
    "model.add(MaxPool2D(pool_size=(2, 2)))\n",
    "model.add(Conv2D(32, kernel_size=(3, 3), strides=3, activation='relu'))\n",
    "model.add(MaxPool2D(pool_size=(2, 2)))\n",
    "model.add(Flatten())\n",
    "model.add(Dense(128, activation='relu'))\n",
    "model.add(Dense(1, activation='sigmoid'))"
   ]
  },
  {
   "cell_type": "code",
   "execution_count": 16,
   "metadata": {},
   "outputs": [
    {
     "name": "stdout",
     "output_type": "stream",
     "text": [
      "Model: \"sequential_1\"\n",
      "_________________________________________________________________\n",
      "Layer (type)                 Output Shape              Param #   \n",
      "=================================================================\n",
      "conv2d_2 (Conv2D)            (None, 21, 21, 32)        896       \n",
      "_________________________________________________________________\n",
      "max_pooling2d_2 (MaxPooling2 (None, 10, 10, 32)        0         \n",
      "_________________________________________________________________\n",
      "conv2d_3 (Conv2D)            (None, 3, 3, 32)          9248      \n",
      "_________________________________________________________________\n",
      "max_pooling2d_3 (MaxPooling2 (None, 1, 1, 32)          0         \n",
      "_________________________________________________________________\n",
      "flatten_1 (Flatten)          (None, 32)                0         \n",
      "_________________________________________________________________\n",
      "dense (Dense)                (None, 128)               4224      \n",
      "_________________________________________________________________\n",
      "dense_1 (Dense)              (None, 1)                 129       \n",
      "=================================================================\n",
      "Total params: 14,497\n",
      "Trainable params: 14,497\n",
      "Non-trainable params: 0\n",
      "_________________________________________________________________\n"
     ]
    }
   ],
   "source": [
    "model.summary()"
   ]
  },
  {
   "cell_type": "code",
   "execution_count": 17,
   "metadata": {},
   "outputs": [],
   "source": [
    "model.compile(optimizer = 'adam', loss = 'binary_crossentropy', metrics=['accuracy'])"
   ]
  },
  {
   "cell_type": "code",
   "execution_count": null,
   "metadata": {},
   "outputs": [
    {
     "name": "stdout",
     "output_type": "stream",
     "text": [
      "WARNING:tensorflow:From <ipython-input-18-cb20d724420a>:5: Model.fit_generator (from tensorflow.python.keras.engine.training) is deprecated and will be removed in a future version.\n",
      "Instructions for updating:\n",
      "Please use Model.fit, which supports generators.\n",
      "WARNING:tensorflow:sample_weight modes were coerced from\n",
      "  ...\n",
      "    to  \n",
      "  ['...']\n",
      "WARNING:tensorflow:sample_weight modes were coerced from\n",
      "  ...\n",
      "    to  \n",
      "  ['...']\n",
      "Train for 250 steps, validate for 62 steps\n",
      "Epoch 1/25\n",
      "250/250 [==============================] - 27s 108ms/step - loss: 0.6927 - accuracy: 0.5201 - val_loss: 0.6921 - val_accuracy: 0.5272\n",
      "Epoch 2/25\n",
      "250/250 [==============================] - 27s 109ms/step - loss: 0.6861 - accuracy: 0.5556 - val_loss: 0.6755 - val_accuracy: 0.5943\n",
      "Epoch 3/25\n",
      "250/250 [==============================] - 28s 111ms/step - loss: 0.6797 - accuracy: 0.5727 - val_loss: 0.6632 - val_accuracy: 0.6190\n",
      "Epoch 4/25\n",
      "250/250 [==============================] - 27s 106ms/step - loss: 0.6682 - accuracy: 0.5966 - val_loss: 0.6522 - val_accuracy: 0.6058\n",
      "Epoch 5/25\n",
      "250/250 [==============================] - 26s 105ms/step - loss: 0.6589 - accuracy: 0.6062 - val_loss: 0.6518 - val_accuracy: 0.6260\n",
      "Epoch 6/25\n",
      "250/250 [==============================] - 26s 105ms/step - loss: 0.6478 - accuracy: 0.6219 - val_loss: 0.6416 - val_accuracy: 0.6381\n",
      "Epoch 7/25\n",
      "250/250 [==============================] - 27s 106ms/step - loss: 0.6399 - accuracy: 0.6299 - val_loss: 0.7074 - val_accuracy: 0.5559\n",
      "Epoch 8/25\n",
      "250/250 [==============================] - 27s 107ms/step - loss: 0.6333 - accuracy: 0.6405 - val_loss: 0.6199 - val_accuracy: 0.6633\n",
      "Epoch 9/25\n",
      "250/250 [==============================] - 26s 105ms/step - loss: 0.6323 - accuracy: 0.6405 - val_loss: 0.6107 - val_accuracy: 0.6643\n",
      "Epoch 10/25\n",
      "250/250 [==============================] - 27s 108ms/step - loss: 0.6297 - accuracy: 0.6466 - val_loss: 0.6197 - val_accuracy: 0.6593\n",
      "Epoch 11/25\n",
      "250/250 [==============================] - 27s 109ms/step - loss: 0.6243 - accuracy: 0.6519 - val_loss: 0.6071 - val_accuracy: 0.6618\n",
      "Epoch 12/25\n",
      "250/250 [==============================] - 28s 112ms/step - loss: 0.6184 - accuracy: 0.6550 - val_loss: 0.6205 - val_accuracy: 0.6522\n",
      "Epoch 13/25\n",
      "250/250 [==============================] - 28s 111ms/step - loss: 0.6224 - accuracy: 0.6556 - val_loss: 0.6156 - val_accuracy: 0.6643\n",
      "Epoch 14/25\n",
      "250/250 [==============================] - 28s 111ms/step - loss: 0.6177 - accuracy: 0.6572 - val_loss: 0.6294 - val_accuracy: 0.6527\n",
      "Epoch 15/25\n",
      "250/250 [==============================] - 27s 109ms/step - loss: 0.6121 - accuracy: 0.6659 - val_loss: 0.6036 - val_accuracy: 0.6784\n",
      "Epoch 16/25\n",
      "250/250 [==============================] - 28s 111ms/step - loss: 0.6182 - accuracy: 0.6534 - val_loss: 0.6127 - val_accuracy: 0.6613\n",
      "Epoch 17/25\n",
      " 90/250 [=========>....................] - ETA: 14s - loss: 0.5988 - accuracy: 0.6684"
     ]
    }
   ],
   "source": [
    "model.fit_generator(training_data,\n",
    "                   steps_per_epoch = int(num_train_im / batch_size),\n",
    "                   epochs = 25,\n",
    "                   validation_data = validation_data,\n",
    "                   validation_steps = int(num_val_im / batch_size))"
   ]
  },
  {
   "cell_type": "code",
   "execution_count": null,
   "metadata": {},
   "outputs": [],
   "source": []
  },
  {
   "cell_type": "code",
   "execution_count": null,
   "metadata": {},
   "outputs": [],
   "source": []
  }
 ],
 "metadata": {
  "kernelspec": {
   "display_name": "Python 3",
   "language": "python",
   "name": "python3"
  },
  "language_info": {
   "codemirror_mode": {
    "name": "ipython",
    "version": 3
   },
   "file_extension": ".py",
   "mimetype": "text/x-python",
   "name": "python",
   "nbconvert_exporter": "python",
   "pygments_lexer": "ipython3",
   "version": "3.7.6"
  }
 },
 "nbformat": 4,
 "nbformat_minor": 4
}
